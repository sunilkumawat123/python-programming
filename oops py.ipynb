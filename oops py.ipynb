{
 "cells": [
  {
   "cell_type": "code",
   "execution_count": 2,
   "id": "d1daec48",
   "metadata": {},
   "outputs": [
    {
     "name": "stdout",
     "output_type": "stream",
     "text": [
      "addition : 5\n",
      "subtraction : -1\n"
     ]
    }
   ],
   "source": [
    "class math:\n",
    "    \n",
    "    def __init__(self,num1,num2):\n",
    "        self.num1=num1\n",
    "        self.num2=num2\n",
    "        \n",
    "    def my_add(self):\n",
    "        print(\"addition :\",self.num1+self.num2)\n",
    "    \n",
    "    def my_sub(self): \n",
    "        print(\"subtraction :\",self.num1-self.num2)\n",
    "        \n",
    "    \n",
    "a=math(2,3)\n",
    "a.my_add()\n",
    "a.my_sub()"
   ]
  },
  {
   "cell_type": "code",
   "execution_count": 4,
   "id": "06573844",
   "metadata": {},
   "outputs": [
    {
     "name": "stdout",
     "output_type": "stream",
     "text": [
      "buddy says woof\n",
      "golden retriver this is bread\n",
      "max says woof\n",
      "labrador this is bread\n"
     ]
    }
   ],
   "source": [
    "class dog:\n",
    "    \n",
    "    def __init__(self,name,bread):\n",
    "        self.name=name\n",
    "        self.bread=bread\n",
    "        \n",
    "#     def barks(self):\n",
    "#         print(f\"{self.name} says woof\")\n",
    "#         print(f\"{self.bread} this is bread\")\n",
    "        \n",
    "    def bark(self):\n",
    "        print(f\"{self.name} says woof\")\n",
    "        print(f\"{self.bread} this is bread\")\n",
    "        \n",
    "dog1=dog('buddy','golden retriver')\n",
    "dog2=dog('max','labrador')\n",
    "\n",
    "dog1.bark()\n",
    "dog2.bark()"
   ]
  },
  {
   "cell_type": "markdown",
   "id": "6e07ef38",
   "metadata": {},
   "source": [
    "# Task 1\n"
   ]
  },
  {
   "cell_type": "raw",
   "id": "3fe0ea24",
   "metadata": {},
   "source": [
    "create a calculator class \n",
    "add methods for addition,subtraction,multiplication and division\n",
    "use the self parameter to access the number"
   ]
  },
  {
   "cell_type": "code",
   "execution_count": 4,
   "id": "0ae69e99",
   "metadata": {},
   "outputs": [
    {
     "name": "stdout",
     "output_type": "stream",
     "text": [
      "12\n",
      "8\n",
      "20\n",
      "12\n"
     ]
    }
   ],
   "source": [
    "class calculator:\n",
    "    \n",
    "    def __init__(self,num1,num2):\n",
    "        self.num1=num1\n",
    "        self.num2=num2\n",
    "        \n",
    "    def add(self):\n",
    "        return self.num1+ self.num2\n",
    "        \n",
    "    def sub(self):\n",
    "        return self.num1- self.num2\n",
    "    \n",
    "    def mul(self):\n",
    "        return self.num1* self.num2\n",
    "    \n",
    "    def div(self):\n",
    "        if(self.num2!=0):\n",
    "            return self.num1+ self.num2\n",
    "        else:\n",
    "            return \"Division by zero is not allowed\"\n",
    "        \n",
    "    \n",
    "cal=calculator(10,2)\n",
    "print(cal.add())\n",
    "print(cal.sub())\n",
    "print(cal.mul())\n",
    "print(cal.div())"
   ]
  },
  {
   "cell_type": "markdown",
   "id": "6b7b3cac",
   "metadata": {},
   "source": [
    "## example 2"
   ]
  },
  {
   "cell_type": "code",
   "execution_count": 5,
   "id": "5dff45ca",
   "metadata": {},
   "outputs": [],
   "source": [
    "# add attributes for account holder name and balence\n",
    "# add methods to deposit , withdraw and check balance"
   ]
  },
  {
   "cell_type": "code",
   "execution_count": 28,
   "id": "e20caed8",
   "metadata": {},
   "outputs": [],
   "source": [
    "class bank:\n",
    "    \n",
    "    def __init__(self,name,balance=0):\n",
    "        self.name=name\n",
    "        self.balance=balance\n",
    "        \n",
    "\n",
    "    \n",
    "    def withdraw(self):\n",
    "        a=int(input(\"enter withdrawl amount:\"))\n",
    "        if(a>self.balance):\n",
    "            return \"can not withdraw\"\n",
    "        else:\n",
    "            self.balance-=a\n",
    "            return f\"success \\nbalance: {self.balance}\"\n",
    "        \n",
    "    def deposit(self):\n",
    "        a=int(input(\"enter deposit amount:\"))\n",
    "        self.balance+=a\n",
    "\n",
    "        return f\"success \\nnow balance: {self.balance}\"\n",
    "    \n",
    "    def check_balance(self):\n",
    "        return f\"balance: {self.balance}\""
   ]
  },
  {
   "cell_type": "code",
   "execution_count": 29,
   "id": "6faf1f54",
   "metadata": {},
   "outputs": [
    {
     "name": "stdout",
     "output_type": "stream",
     "text": [
      "balance: 23\n"
     ]
    }
   ],
   "source": [
    "aa=bank(\"asd\",23)\n",
    "print(aa.check_balance())\n"
   ]
  },
  {
   "cell_type": "code",
   "execution_count": 32,
   "id": "74b2230f",
   "metadata": {},
   "outputs": [
    {
     "name": "stdout",
     "output_type": "stream",
     "text": [
      "enter withdrawl amount:45\n",
      "success \n",
      "balance: 778\n"
     ]
    }
   ],
   "source": [
    "print(aa.withdraw())\n"
   ]
  },
  {
   "cell_type": "code",
   "execution_count": 31,
   "id": "979c6772",
   "metadata": {},
   "outputs": [
    {
     "name": "stdout",
     "output_type": "stream",
     "text": [
      "enter deposit amount:800\n",
      "success \n",
      "now balance: 823\n"
     ]
    }
   ],
   "source": [
    "print(aa.deposit())"
   ]
  },
  {
   "cell_type": "markdown",
   "id": "c6be9454",
   "metadata": {},
   "source": [
    "# Ex 3"
   ]
  },
  {
   "cell_type": "raw",
   "id": "7b6eba60",
   "metadata": {},
   "source": [
    "create a student class with attributes like name age and marks\n",
    "\n",
    "add a method to display the student details\n",
    "\n",
    "add a method to check if the student passed (marks>=40)"
   ]
  },
  {
   "cell_type": "code",
   "execution_count": 40,
   "id": "aa2bc67a",
   "metadata": {},
   "outputs": [],
   "source": [
    "class student:\n",
    "    \n",
    "    def __init__(self,name,age,marks):\n",
    "        self.name=name\n",
    "        self.age=age\n",
    "        self.marks=marks\n",
    "        \n",
    "    def display(self):\n",
    "        return f\"Name: {self.name} Age: {self.age} Marks: {self.marks}\"\n",
    "    \n",
    "    def check(self):\n",
    "        if(self.marks>=40):\n",
    "            return f\"{self.name} is passed\"\n",
    "        else:\n",
    "            \n",
    "            return f\"{self.name} is failed\"\n",
    "            "
   ]
  },
  {
   "cell_type": "code",
   "execution_count": 43,
   "id": "fcc221e3",
   "metadata": {},
   "outputs": [],
   "source": [
    "aa=student('asd',23,90)"
   ]
  },
  {
   "cell_type": "code",
   "execution_count": 45,
   "id": "639c2d06",
   "metadata": {},
   "outputs": [
    {
     "data": {
      "text/plain": [
       "'Nmae: asd Age: 23 Marks: 90'"
      ]
     },
     "execution_count": 45,
     "metadata": {},
     "output_type": "execute_result"
    }
   ],
   "source": [
    "aa.display()"
   ]
  },
  {
   "cell_type": "code",
   "execution_count": 44,
   "id": "d95a8928",
   "metadata": {},
   "outputs": [
    {
     "data": {
      "text/plain": [
       "'asd is passed'"
      ]
     },
     "execution_count": 44,
     "metadata": {},
     "output_type": "execute_result"
    }
   ],
   "source": [
    "aa.check()"
   ]
  },
  {
   "cell_type": "markdown",
   "id": "467c1596",
   "metadata": {},
   "source": [
    "# ex 4"
   ]
  },
  {
   "cell_type": "raw",
   "id": "9d4496bc",
   "metadata": {},
   "source": [
    "define book class with attributes like title , autor, and avaliability\n",
    "add mehods to check avaliability and borrow/return the book"
   ]
  },
  {
   "cell_type": "code",
   "execution_count": 88,
   "id": "9e37c36f",
   "metadata": {},
   "outputs": [],
   "source": [
    "class book:\n",
    "    \n",
    "    def __init__(self,title,author,aval):\n",
    "        self.title=title\n",
    "        self.author=author\n",
    "        self.aval=aval\n",
    "     \n",
    "    \n",
    "    def avaliability(self):\n",
    "        if(self.aval==True):\n",
    "            return \"book available\"\n",
    "        else:\n",
    "            return \"book is no avaliable\"\n",
    "        \n",
    "    def borrow(self):\n",
    "        if(self.aval==True):\n",
    "            self.aval=False\n",
    "            return \"book borrowed\"\n",
    "        else:\n",
    "            return \"book is no avaliable\"\n",
    "    \n",
    "    def returnn(self):\n",
    "        if(self.aval==False):\n",
    "            self.aval=True\n",
    "            return \"book returned\"\n",
    "        else:\n",
    "            return \"book can not returned, book is avaliable in library\"\n",
    "        \n",
    "    "
   ]
  },
  {
   "cell_type": "code",
   "execution_count": 95,
   "id": "1acf8692",
   "metadata": {},
   "outputs": [],
   "source": [
    "book1=book('as','sd',True)\n",
    "book2=book('asd','dsd',False)\n"
   ]
  },
  {
   "cell_type": "code",
   "execution_count": 96,
   "id": "0fb6c72c",
   "metadata": {},
   "outputs": [
    {
     "name": "stdout",
     "output_type": "stream",
     "text": [
      "book available\n",
      "book is no avaliable\n"
     ]
    }
   ],
   "source": [
    "print(book1.avaliability())\n",
    "print(book2.avaliability())"
   ]
  },
  {
   "cell_type": "code",
   "execution_count": 97,
   "id": "65ffaea3",
   "metadata": {},
   "outputs": [
    {
     "name": "stdout",
     "output_type": "stream",
     "text": [
      "book can not returned, book is avaliable in library\n",
      "book returned\n"
     ]
    }
   ],
   "source": [
    "print(book1.returnn())\n",
    "print(book2.returnn())"
   ]
  },
  {
   "cell_type": "code",
   "execution_count": 98,
   "id": "6510ebac",
   "metadata": {},
   "outputs": [
    {
     "name": "stdout",
     "output_type": "stream",
     "text": [
      "book borrowed\n",
      "book borrowed\n"
     ]
    }
   ],
   "source": [
    "print(book1.borrow())\n",
    "print(book2.borrow())"
   ]
  },
  {
   "cell_type": "code",
   "execution_count": null,
   "id": "32e4486e",
   "metadata": {},
   "outputs": [],
   "source": []
  }
 ],
 "metadata": {
  "kernelspec": {
   "display_name": "Python 3 (ipykernel)",
   "language": "python",
   "name": "python3"
  },
  "language_info": {
   "codemirror_mode": {
    "name": "ipython",
    "version": 3
   },
   "file_extension": ".py",
   "mimetype": "text/x-python",
   "name": "python",
   "nbconvert_exporter": "python",
   "pygments_lexer": "ipython3",
   "version": "3.10.9"
  }
 },
 "nbformat": 4,
 "nbformat_minor": 5
}
