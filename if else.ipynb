{
 "cells": [
  {
   "cell_type": "code",
   "execution_count": null,
   "id": "9dd9b742",
   "metadata": {},
   "outputs": [],
   "source": [
    "num=int(input(\"enter any value \\n\"))\n",
    "if(num%2==0):\n",
    "    print(\"it is a even value\")\n",
    "else:\n",
    "    print(\"it is odd value\",num)"
   ]
  },
  {
   "cell_type": "code",
   "execution_count": 8,
   "id": "d873cb7a",
   "metadata": {},
   "outputs": [
    {
     "name": "stdout",
     "output_type": "stream",
     "text": [
      "enter value of a 12\n",
      "enter value of b 13\n",
      "enter value of c 14\n",
      "c is greater\n"
     ]
    }
   ],
   "source": [
    "a=int(input(\"enter value of a \"))\n",
    "b=int(input(\"enter value of b \"))\n",
    "c=int(input(\"enter value of c \"))\n",
    "if(a>b and a>c):\n",
    "    print(\"a is greater\")\n",
    "elif(b>a and b>c):\n",
    "    print(\"b is greater\")\n",
    "else:\n",
    "    print(\"c is greater\")"
   ]
  },
  {
   "cell_type": "code",
   "execution_count": 11,
   "id": "35fe58c7",
   "metadata": {},
   "outputs": [
    {
     "name": "stdout",
     "output_type": "stream",
     "text": [
      "enter your percentage78\n",
      "C grade\n"
     ]
    }
   ],
   "source": [
    "per=int(input(\"enter your percentage\"))\n",
    "if(per>=90):\n",
    "    print(\"A grade\")\n",
    "elif(per>=80):\n",
    "    print(\"B grade\")\n",
    "elif(per>=70):\n",
    "    print(\"C grade\")\n",
    "elif(per>=60):\n",
    "    print(\"D grade\")\n",
    "elif(per<60):\n",
    "    print(\"F grade\")\n",
    "    \n"
   ]
  },
  {
   "cell_type": "code",
   "execution_count": 1,
   "id": "b514e321",
   "metadata": {},
   "outputs": [
    {
     "name": "stdout",
     "output_type": "stream",
     "text": [
      "enter any character:a\n",
      "vowel\n"
     ]
    }
   ],
   "source": [
    "alph=input(\"enter any character:\")\n",
    "if(alph=='a'or alph=='e' or alph=='i'or alph=='o' or alph=='u'):\n",
    "    print(\"vowel\")\n",
    "else:\n",
    "    print(\"consonant\")"
   ]
  },
  {
   "cell_type": "code",
   "execution_count": 2,
   "id": "86125fca",
   "metadata": {},
   "outputs": [
    {
     "name": "stdout",
     "output_type": "stream",
     "text": [
      "enter first value:20\n",
      "enter second value:20\n",
      "enter any operator +,-,/,**\n",
      "result= 400\n"
     ]
    }
   ],
   "source": [
    "num1=int(input(\"enter first value:\"))\n",
    "num2=int(input(\"enter second value:\"))\n",
    "operator=input(\"enter any operator +,-,/,*\")\n",
    "if(operator=='+'):\n",
    "     print(\"result=\",num1+num2)\n",
    "elif(operator=='-'):\n",
    "    print(\"result=\",num1-num2)\n",
    "elif(operator=='*'):\n",
    "    print(\"result=\",num1*num2)\n",
    "elif(operator=='/'):\n",
    "    print(\"result=\",num1/num2)\n",
    "else:\n",
    "    print(\"input not matched\")\n",
    "\n"
   ]
  },
  {
   "cell_type": "code",
   "execution_count": 7,
   "id": "1d3b7615",
   "metadata": {},
   "outputs": [
    {
     "name": "stdout",
     "output_type": "stream",
     "text": [
      "enter any number0\n",
      "number is zero\n"
     ]
    }
   ],
   "source": [
    "q=int(input(\"enter any number\"))\n",
    "if(q>0):\n",
    "    print(\"number is positive\")\n",
    "elif(q==0):\n",
    "    print(\"number is zero\")\n",
    "else:\n",
    "    print(\"number is negative\")\n"
   ]
  },
  {
   "cell_type": "code",
   "execution_count": 16,
   "id": "d630b500",
   "metadata": {},
   "outputs": [
    {
     "name": "stdout",
     "output_type": "stream",
     "text": [
      "enter your name:admin\n",
      "enter your password:1234\n",
      "login successful\n"
     ]
    }
   ],
   "source": [
    "p=\"admin\"\n",
    "n=1234\n",
    "username=input(\"enter your name:\")\n",
    "password=int(input(\"enter your password:\"))\n",
    "if(username == p and password == n):\n",
    "    print(\"login successful\")\n",
    "else:\n",
    "    print(\"login failed\")"
   ]
  },
  {
   "cell_type": "code",
   "execution_count": null,
   "id": "e343bc1a",
   "metadata": {},
   "outputs": [],
   "source": [
    "a=int(input(\"enter 1st side\"))\n",
    "b=int(input(\"enter 2nd side\"))\n",
    "c=int(input(\"enter 3rd side\"))\n",
    "if(a + b > c and b + c > a and a + c > b):\n",
    "    print(\"it is a valid triangle\")\n",
    "else:\n",
    "    print(\"not valid triangle\")\n",
    "    \n",
    "    "
   ]
  },
  {
   "cell_type": "code",
   "execution_count": 25,
   "id": "a881d5a7",
   "metadata": {},
   "outputs": [
    {
     "name": "stdout",
     "output_type": "stream",
     "text": [
      "enter your weight70\n",
      "enter your height400\n",
      "underweight\n"
     ]
    }
   ],
   "source": [
    "weight=int(input(\"enter your weight\"))\n",
    "height=int(input(\"enter your height\"))\n",
    "height = height / 100\n",
    "BMI = weight / (height ** 2)\n",
    "if(BMI < 18.5):\n",
    "    print(\"underweight\")\n",
    "elif(18.5 <= BMI < 24.9):\n",
    "    print(\"normal weight\")\n",
    "elif(25 <= BMI < 29.9):\n",
    "    print(\"overweight\")\n",
    "elif(BMI >= 30):\n",
    "    print(\"obesity\")"
   ]
  },
  {
   "cell_type": "code",
   "execution_count": null,
   "id": "be40074c",
   "metadata": {},
   "outputs": [],
   "source": []
  },
  {
   "cell_type": "code",
   "execution_count": null,
   "id": "4cda7a6d",
   "metadata": {},
   "outputs": [],
   "source": [
    "price = int(input(\"Enter your product price: \"))\n",
    "\n",
    "if price > 1000:\n",
    "    discount = (10 / 100) * price\n",
    "    print(\"Discounted price is =\", discount)\n",
    "    print(\"The payable price is =\", price - discount)\n",
    "elif price >= 500 and price <= 1000:\n",
    "    discount = (5 / 100) * price\n",
    "    print(\"Discounted price is =\", discount)\n",
    "    print(\"The payable price is =\", price - discount)\n",
    "else:\n",
    "    print(\"No discount\")\n"
   ]
  },
  {
   "cell_type": "code",
   "execution_count": 6,
   "id": "0ec8edf8",
   "metadata": {},
   "outputs": [
    {
     "name": "stdout",
     "output_type": "stream",
     "text": [
      "enter any month september\n",
      "30 days\n"
     ]
    }
   ],
   "source": [
    "month=input(\"enter any month \")\n",
    "if(month=='january'):\n",
    "    print(\"31 days\")\n",
    "elif(month=='february'):\n",
    "    year=int(input(\"enter any year\"))\n",
    "    if(year%4==0 or year%400==0 or year%100==0):\n",
    "        print(\"it is a leap year\")\n",
    "        print(\"29 days in year\",year)\n",
    "    else:\n",
    "        print(\"28 days\")\n",
    "elif(month=='march'):\n",
    "    print(\"31 days\")\n",
    "elif(month=='april'):\n",
    "    print(\"30 days\")    \n",
    "elif(month=='may'):\n",
    "    print(\"31 days\")\n",
    "elif(month=='june'):\n",
    "    print(\"30 days\")  \n",
    "elif(month=='july'):\n",
    "    print(\"31 days\")\n",
    "elif(month=='august'):\n",
    "    print(\"31 days\")\n",
    "elif(month=='september'):\n",
    "    print(\"30 days\")\n",
    "elif(month=='octomber'):\n",
    "    print(\"31 days\")\n",
    "elif(month=='november'):\n",
    "    print(\"30 days\")\n",
    "elif(month=='december'):\n",
    "    print(\"31 days\")\n"
   ]
  },
  {
   "cell_type": "code",
   "execution_count": 2,
   "id": "92b787d6",
   "metadata": {},
   "outputs": [
    {
     "name": "stdout",
     "output_type": "stream",
     "text": [
      "enter your choice1\n",
      "the available balance is : 50000\n"
     ]
    }
   ],
   "source": [
    "amount=50000\n",
    "choice=input(\"enter your choice\")\n",
    "if(choice=='1'):   \n",
    "    print(\"the available balance is :\",amount)\n",
    "elif(choice=='2'):  \n",
    "    \n",
    "    deposit=int(input(\"enter your deposit amount \"))\n",
    "    amount=amount+deposit\n",
    "    print(\"available balance after deposit:\",amount)\n",
    "\n",
    "elif(choice=='3'):\n",
    "    withdraw=int(input(\"enter your withdraw amount\"))\n",
    "    if(amount>0):\n",
    "        amount=amount-withdraw\n",
    "        print(\"balance after withdraw:\",amount)\n",
    "    else: \n",
    "        print(\"insufficient balance:\")"
   ]
  },
  {
   "cell_type": "code",
   "execution_count": 4,
   "id": "f604da02",
   "metadata": {},
   "outputs": [
    {
     "name": "stdout",
     "output_type": "stream",
     "text": [
      "enter your age:20\n",
      "adult\n"
     ]
    }
   ],
   "source": [
    "age=int(input(\"enter your age:\"))\n",
    "if(age>=0 and age<=1):\n",
    "    print(\"infant\")\n",
    "elif(age>=2 and age<=4):\n",
    "    print(\"toddler\")\n",
    "elif(age>=5 and age<=12):\n",
    "    print(\"child\")\n",
    "elif(age>=13 and age<=19):\n",
    "    print(\"teenager\")\n",
    "elif(age>=20 and age<=59):\n",
    "    print(\"adult\")\n",
    "elif(age>60):\n",
    "    print(\"senior\")"
   ]
  },
  {
   "cell_type": "code",
   "execution_count": 7,
   "id": "acf93c13",
   "metadata": {},
   "outputs": [
    {
     "name": "stdout",
     "output_type": "stream",
     "text": [
      "enter input between 1 to 7:5\n",
      "friday\n"
     ]
    }
   ],
   "source": [
    "day=int(input(\"enter input between 1 to 7:\"))\n",
    "if(day==1):\n",
    "    print(\"monday\")\n",
    "elif(day==2):\n",
    "    print(\"tuesday\")\n",
    "elif(day==3):\n",
    "    print(\"wednesday\")\n",
    "elif(day==4):\n",
    "    print(\"thursday\")\n",
    "elif(day==5):\n",
    "    print(\"friday\")\n",
    "elif(day==6):\n",
    "    print(\"saturday\")\n",
    "else:\n",
    "    print(\"sunday\")"
   ]
  },
  {
   "cell_type": "code",
   "execution_count": null,
   "id": "3d8a09b5",
   "metadata": {},
   "outputs": [],
   "source": []
  }
 ],
 "metadata": {
  "kernelspec": {
   "display_name": "Python 3",
   "language": "python",
   "name": "python3"
  },
  "language_info": {
   "codemirror_mode": {
    "name": "ipython",
    "version": 3
   },
   "file_extension": ".py",
   "mimetype": "text/x-python",
   "name": "python",
   "nbconvert_exporter": "python",
   "pygments_lexer": "ipython3",
   "version": "3.10.4"
  }
 },
 "nbformat": 4,
 "nbformat_minor": 5
}
