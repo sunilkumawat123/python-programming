{
  "nbformat": 4,
  "nbformat_minor": 0,
  "metadata": {
    "colab": {
      "provenance": []
    },
    "kernelspec": {
      "name": "python3",
      "display_name": "Python 3"
    },
    "language_info": {
      "name": "python"
    }
  },
  "cells": [
    {
      "cell_type": "code",
      "execution_count": null,
      "metadata": {
        "id": "ajF2ci53pnh2"
      },
      "outputs": [],
      "source": [
        "#valid anagram\n",
        "s=\"hello\"\n",
        "t=\"olleh\"\n",
        "sdict={}\n",
        "tdict={}\n",
        "for char in s:\n",
        "  if char in sdict:\n",
        "    sdict[char]=sdict[char]+1\n",
        "  else:\n",
        "    sdict[char]=1\n",
        "for char in t:\n",
        "  if char in tdict:\n",
        "    tdict[char]=tdict[char]+1\n",
        "  else:\n",
        "    tdict[char]=1\n",
        "if sdict==tdict:\n",
        "  print(\"valid anagram\")\n",
        "else:\n",
        "  print(\"not valid anagram\")"
      ]
    }
  ]
}