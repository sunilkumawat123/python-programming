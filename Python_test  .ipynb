{
 "cells": [
  {
   "cell_type": "markdown",
   "id": "7e0a9f48",
   "metadata": {},
   "source": [
    "# Q.1 Discount Calculation Write a program that calculates the final price of a product after applying a discount. The discount is 20% if the price is above $100, otherwise, it's 10%.\n",
    "\n",
    "Q.2 Grade Classification Create a program that takes a student's exam score as input and outputs whether the student passed or failed based on the following conditions:\n",
    "\n",
    "If the score is 90 or above: Grade A\n",
    "\n",
    "If the score is between 80 and 89: Grade B\n",
    "\n",
    "If the score is between 70 and 79: Grade C\n",
    "\n",
    "If the score is below 70: Fail\n",
    "    \n",
    "    \n",
    "    \n",
    "Q.3 Temperature Alert Write a program that checks the temperature of a machine. If the temperature is greater than 70°C, print a warning that the machine is overheating.\n",
    "\n",
    "Q.4 Driving Eligibility Write a program that checks if a person is eligible to get a driving license. \n",
    "The person must be at least 18 years old and must pass a driving test.\n",
    "\n",
    "\n",
    "Q.5  Sales Summary Given a list of daily sales figures for a week, use a loop to calculate the total sales for the week.\n",
    "\n",
    "Q.6  Odd Numbers in a Range Write a program that prints all odd numbers between 1 and 50 using a loop.\n",
    "\n",
    "Q.7  Student Attendance Create a program that takes the number of students present each day for a month and calculates the total number of students present at the end of the month.\n",
    "\n",
    "Q.8  Password Attempts Create a password checker where the user has 3 attempts to input the correct password. \n",
    "After 3 wrong attempts, display an error message and terminate the program.\n",
    "\n",
    "Q.9   Simple Interest Calculation Write a function that calculates the simple interest given principal, rate of interest, and time.\n",
    "\n",
    "Q.10  Bill Splitter Create a function that takes the total bill amount and the number of people, and returns how much each person has to pay.\n",
    "\n",
    "Q.11  Number of Employees Write a function that takes a dictionary containing employee names and their departments, \n",
    "and returns the total number of employees in a particular department.\n",
    "\n",
    "\n",
    "Q.12  Shopping List Manager Write a program that allows a user to add items to a shopping list, remove items, and display the final list.\n",
    "\n",
    "Q.13   Stock Prices Given a list of daily stock prices, create a program that finds and prints the highest and \n",
    "lowest prices for the week.\n",
    "\n",
    "Q.14   Book Collection Write a program that stores a collection of books (title, author) in tuples. Print the books sorted by title.\n",
    "\n",
    "Q.15   Employee Data Store employee information (name, age, salary) in a tuple. \n",
    "Write a program to find the employee with the highest salary.\n",
    "\n",
    "\n",
    "Q.16   Product Inventory Write a program to store a product inventory where keys are product names and values are stock quantities. Add functionality to check the stock of a particular product.\n",
    "\n",
    "Q.17   Student Grades Create a program that stores student names as keys and their grades as values in a dictionary.\n",
    "Allow the user to input a student's name and retrieve their grade."
   ]
  },
  {
   "cell_type": "raw",
   "id": "f3cb4b68",
   "metadata": {},
   "source": [
    "Q.1 Discount Calculation Write a program that calculates the final price of a product after applying a discount. The discount is 20% if the price is above $100, otherwise, it's 10%\n"
   ]
  },
  {
   "cell_type": "code",
   "execution_count": 4,
   "id": "c9a36042",
   "metadata": {},
   "outputs": [
    {
     "name": "stdout",
     "output_type": "stream",
     "text": [
      "enter the price of a product $ :200\n",
      "final price is: 160.0\n"
     ]
    }
   ],
   "source": [
    "price = int(input(\"enter the price of a product $ :\"))\n",
    "if(price>100):\n",
    "    dis=price-(price*0.2)\n",
    "else:\n",
    "    dis=price-(price*0.1)\n",
    "print(\"final price is:\",dis)"
   ]
  },
  {
   "cell_type": "raw",
   "id": "e52bd569",
   "metadata": {},
   "source": [
    "Q.2 Grade Classification Create a program that takes a student's exam score as input and outputs whether the student passed or failed based on the following conditions:\n",
    "\n",
    "If the score is 90 or above: Grade A\n",
    "\n",
    "If the score is between 80 and 89: Grade B\n",
    "\n",
    "If the score is between 70 and 79: Grade C\n",
    "\n",
    "If the score is below 70: Fail"
   ]
  },
  {
   "cell_type": "code",
   "execution_count": 6,
   "id": "5a743e46",
   "metadata": {},
   "outputs": [
    {
     "name": "stdout",
     "output_type": "stream",
     "text": [
      "enter the makrs of 1 student: 69\n",
      "enter the makrs of 2 student: 78\n",
      "enter the makrs of 3 student: 08\n",
      "enter the makrs of 4 student: 90\n",
      "enter the makrs of 5 student: 89\n",
      "[69, 78, 8, 90, 89]\n",
      "persentage: 66.8\n",
      "Fail\n"
     ]
    }
   ],
   "source": [
    "lst=[]\n",
    "for i in range(5):\n",
    "    score=int(input(f\"enter the makrs of {i+1} student: \"))\n",
    "    lst.append(score)\n",
    "print(lst)\n",
    "\n",
    "per=sum(lst)/500 *100\n",
    "print(\"persentage:\",per)\n",
    "if(per>=90):\n",
    "    print(\"Grade A\")\n",
    "elif(per>=80 and per<=89):\n",
    "    print(\"Grade B\")\n",
    "elif(per>=70 and per<=79):\n",
    "    print(\"Grade C\")\n",
    "elif(per<70):\n",
    "    print(\"Fail\")\n"
   ]
  },
  {
   "cell_type": "raw",
   "id": "806b7e0d",
   "metadata": {},
   "source": [
    "Q.3 Temperature Alert Write a program that checks the temperature of a machine. If the temperature is greater than 70°C, print a warning that the machine is overheating."
   ]
  },
  {
   "cell_type": "code",
   "execution_count": 9,
   "id": "91bbbc07",
   "metadata": {},
   "outputs": [
    {
     "name": "stdout",
     "output_type": "stream",
     "text": [
      "enter the temperature of machine 89\n",
      "Warning! \n",
      "Machine is overheating \n"
     ]
    }
   ],
   "source": [
    "temp = int(input(\"enter the temperature of machine \"))\n",
    "if(temp>70):\n",
    "    print(\"Warning! \\nMachine is overheating \")\n",
    "else:\n",
    "    print(\"temperature is normal \")"
   ]
  },
  {
   "cell_type": "raw",
   "id": "f77a8bf5",
   "metadata": {},
   "source": [
    "Q.4 Driving Eligibility Write a program that checks if a person is eligible to get a driving license. The person must be at least 18 years old and must pass a driving test.\n",
    "\n"
   ]
  },
  {
   "cell_type": "code",
   "execution_count": 12,
   "id": "4687d0f1",
   "metadata": {},
   "outputs": [
    {
     "name": "stdout",
     "output_type": "stream",
     "text": [
      "enter your age: 43\n",
      "pass or fail in driving test fail\n",
      "not eligible\n"
     ]
    }
   ],
   "source": [
    "age=int(input(\"enter your age: \"))\n",
    "d_test=input(\"pass or fail in driving test \")\n",
    "if(age>=18 and d_test=='pass'):\n",
    "    print(\"eligible to get driving licence\")\n",
    "else:\n",
    "    print(\"not eligible\")"
   ]
  },
  {
   "cell_type": "raw",
   "id": "3b2ef071",
   "metadata": {},
   "source": [
    "Q.5 Sales Summary Given a list of daily sales figures for a week, use a loop to calculate the total sales for the week.\n"
   ]
  },
  {
   "cell_type": "code",
   "execution_count": 14,
   "id": "0ee805e4",
   "metadata": {},
   "outputs": [
    {
     "name": "stdout",
     "output_type": "stream",
     "text": [
      "enter sale of day 1: 9090\n",
      "enter sale of day 2: 5646\n",
      "enter sale of day 3: 4563\n",
      "enter sale of day 4: 2342\n",
      "enter sale of day 5: 5677\n",
      "enter sale of day 6: 6788\n",
      "enter sale of day 7: 7986\n",
      "total sale sale for this week : 42092\n"
     ]
    }
   ],
   "source": [
    "lst=[]\n",
    "total=0\n",
    "for i in range(7):\n",
    "    sale=int(input(f\"enter sale of day {i+1}: \"))\n",
    "    total=total+sale\n",
    "    lst.append(sale)\n",
    "print(\"total sale sale for this week :\",total)"
   ]
  },
  {
   "cell_type": "raw",
   "id": "9dd30186",
   "metadata": {},
   "source": [
    "Q.6 Odd Numbers in a Range Write a program that prints all odd numbers between 1 and 50 using a loop.\n"
   ]
  },
  {
   "cell_type": "code",
   "execution_count": 17,
   "id": "5c12f4d9",
   "metadata": {},
   "outputs": [
    {
     "name": "stdout",
     "output_type": "stream",
     "text": [
      "1\n",
      "3\n",
      "5\n",
      "7\n",
      "9\n",
      "11\n",
      "13\n",
      "15\n",
      "17\n",
      "19\n",
      "21\n",
      "23\n",
      "25\n",
      "27\n",
      "29\n",
      "31\n",
      "33\n",
      "35\n",
      "37\n",
      "39\n",
      "41\n",
      "43\n",
      "45\n",
      "47\n",
      "49\n"
     ]
    }
   ],
   "source": [
    "for i in range(1,51):\n",
    "    if(i%2 == 0):\n",
    "        pass\n",
    "    else:\n",
    "        print(i)\n",
    "    "
   ]
  },
  {
   "cell_type": "raw",
   "id": "7264fa12",
   "metadata": {},
   "source": [
    "Q.7 Student Attendance Create a program that takes the number of students present each day for a month and calculates the total number of students present at the end of the month.\n"
   ]
  },
  {
   "cell_type": "code",
   "execution_count": 18,
   "id": "46474133",
   "metadata": {},
   "outputs": [
    {
     "name": "stdout",
     "output_type": "stream",
     "text": [
      "enter total present student in day 1: 23\n",
      "enter total present student in day 2: 32\n",
      "enter total present student in day 3: 23\n",
      "enter total present student in day 4: 32\n",
      "enter total present student in day 5: 32\n",
      "enter total present student in day 6: 32\n",
      "enter total present student in day 7: 32\n",
      "enter total present student in day 8: 32\n",
      "enter total present student in day 9: 32\n",
      "enter total present student in day 10: 32\n",
      "enter total present student in day 11: 32\n",
      "enter total present student in day 12: 32\n",
      "enter total present student in day 13: 32\n",
      "enter total present student in day 14: 32\n",
      "enter total present student in day 15: 32\n",
      "enter total present student in day 16: 32\n",
      "enter total present student in day 17: 32\n",
      "enter total present student in day 18: 32\n",
      "enter total present student in day 19: 32\n",
      "enter total present student in day 20: 32\n",
      "enter total present student in day 21: 32\n",
      "enter total present student in day 22: 32\n",
      "enter total present student in day 23: 32\n",
      "enter total present student in day 24: 32\n",
      "enter total present student in day 25: 32\n",
      "enter total present student in day 26: 32\n",
      "enter total present student in day 27: 32\n",
      "enter total present student in day 28: 32\n",
      "enter total present student in day 29: 32\n",
      "enter total present student in day 30: 32\n",
      "total present student in this month : 942\n"
     ]
    }
   ],
   "source": [
    "lst=[]\n",
    "total=0\n",
    "for i in range(30):\n",
    "    present=int(input(f\"enter total present student in day {i+1}: \"))\n",
    "    total=total+present\n",
    "    lst.append(present)\n",
    "print(\"total present student in this month :\",total)"
   ]
  },
  {
   "cell_type": "raw",
   "id": "a1c64568",
   "metadata": {},
   "source": [
    "Q.8 Password Attempts Create a password checker where the user has 3 attempts to input the correct password. After 3 wrong attempts, display an error message and terminate the program.\n"
   ]
  },
  {
   "cell_type": "code",
   "execution_count": 3,
   "id": "54a259d4",
   "metadata": {},
   "outputs": [
    {
     "name": "stdout",
     "output_type": "stream",
     "text": [
      "enter password 34\n",
      "not right answer\n",
      "try again\n",
      "enter password rth\n",
      "not right answer\n",
      "try again\n",
      "enter password asd\n",
      "right password\n"
     ]
    }
   ],
   "source": [
    "password='asd'\n",
    "i=3\n",
    "while(i>0):\n",
    "    user=input(\"enter password \")\n",
    "    if(user==password):\n",
    "        print(\"right password\")\n",
    "        break\n",
    "    else:\n",
    "        print(\"not right answer\\ntry again\")\n",
    "    i=i-1  \n",
    "\n",
    "    "
   ]
  },
  {
   "cell_type": "raw",
   "id": "4891e6d1",
   "metadata": {},
   "source": [
    "Q.9 Simple Interest Calculation Write a function that calculates the simple interest given principal, rate of interest, and time.\n"
   ]
  },
  {
   "cell_type": "code",
   "execution_count": 5,
   "id": "61591174",
   "metadata": {},
   "outputs": [
    {
     "name": "stdout",
     "output_type": "stream",
     "text": [
      "The simple interest is: 1200.0\n"
     ]
    }
   ],
   "source": [
    "def calculate_interest(principal, rate, time):\n",
    "    simple_interest = (principal * rate * time) / 100\n",
    "    return simple_interest\n",
    "\n",
    "interest = calculate_interest(5000, 12, 2)\n",
    "print(f\"The simple interest is: {interest}\")\n"
   ]
  },
  {
   "cell_type": "raw",
   "id": "c5bfbdde",
   "metadata": {},
   "source": [
    "Q.10 Bill Splitter Create a function that takes the total bill amount and the number of people, and returns how much each person has to pay.\n"
   ]
  },
  {
   "cell_type": "code",
   "execution_count": 8,
   "id": "50a029b7",
   "metadata": {},
   "outputs": [
    {
     "name": "stdout",
     "output_type": "stream",
     "text": [
      "Per person bill is: 500.0\n"
     ]
    }
   ],
   "source": [
    "def bill_splitter(total,people):\n",
    "    return total/people\n",
    "per=bill_splitter(2000,4)\n",
    "print(f\"Per person bill is: {per}\")"
   ]
  },
  {
   "cell_type": "raw",
   "id": "e23b79e3",
   "metadata": {},
   "source": []
  },
  {
   "cell_type": "raw",
   "id": "227ac633",
   "metadata": {},
   "source": [
    "Q.11 Number of Employees Write a function that takes a dictionary containing employee names and their departments, and returns the total number of employees in a particular department.\n"
   ]
  },
  {
   "cell_type": "code",
   "execution_count": 18,
   "id": "987e6f51",
   "metadata": {},
   "outputs": [
    {
     "name": "stdout",
     "output_type": "stream",
     "text": [
      "Total number of employees in Engineering: 1\n"
     ]
    }
   ],
   "source": [
    "def emp(employe, department):\n",
    "    total = sum(1 for i in employe.values() if i == department)\n",
    "    return total\n",
    "\n",
    "\n",
    "employe = {'aaditya': 'HR','khema': 'Engineering','deepak': 'HR','sunil': 'Marketing'}\n",
    "\n",
    "department = 'Engineering'\n",
    "total_employees = emp(employe,department)\n",
    "print(f\"Total number of employees in {department}: {total_employees}\")\n",
    "\n",
    "\n",
    "    "
   ]
  },
  {
   "cell_type": "raw",
   "id": "52b26c0a",
   "metadata": {},
   "source": [
    "Q.12 Shopping List Manager Write a program that allows a user to add items to a shopping list, remove items, and display the final list.\n"
   ]
  },
  {
   "cell_type": "code",
   "execution_count": 25,
   "id": "89d148b7",
   "metadata": {},
   "outputs": [
    {
     "name": "stdout",
     "output_type": "stream",
     "text": [
      "do you want to add item: (yes or no)yes\n",
      "enter item choklate\n",
      "do you want to remove item: (yes or no)no\n",
      "final list: ['water', 'chips', 'choklate']\n"
     ]
    }
   ],
   "source": [
    "lst=['water','chips']\n",
    "add=input(\"do you want to add item: (yes or no)\")\n",
    "if(add.lower()=='yes'):\n",
    "    a=input(\"enter item \")\n",
    "    lst.append(a)\n",
    "rem=input(\"do you want to remove item: (yes or no)\")\n",
    "if(rem.lower()=='yes'):\n",
    "    b=input(\"enter item \")\n",
    "    if rem in lst:\n",
    "        lst.remove(b)\n",
    "        \n",
    "print(\"final list:\",lst)\n"
   ]
  },
  {
   "cell_type": "raw",
   "id": "2e394070",
   "metadata": {},
   "source": [
    "Q.13 Stock Prices Given a list of daily stock prices, create a program that finds and prints the highest and lowest prices for the week.\n"
   ]
  },
  {
   "cell_type": "code",
   "execution_count": 26,
   "id": "33fe5274",
   "metadata": {},
   "outputs": [
    {
     "name": "stdout",
     "output_type": "stream",
     "text": [
      "Highest price for week :5467 \n",
      "lowest price for week : 26\n"
     ]
    }
   ],
   "source": [
    "lst=[26,345,123,123,234,5467,245]\n",
    "print(f\"Highest price for week :{max(lst)} \\nlowest price for week : {min(lst)}\")\n"
   ]
  },
  {
   "cell_type": "raw",
   "id": "1eb64a6f",
   "metadata": {},
   "source": [
    "Q.14 Book Collection Write a program that stores a collection of books (title, author) in tuples. Print the books sorted by title.\n"
   ]
  },
  {
   "cell_type": "code",
   "execution_count": 38,
   "id": "7e55fcc4",
   "metadata": {},
   "outputs": [
    {
     "ename": "TypeError",
     "evalue": "'function' object is not iterable",
     "output_type": "error",
     "traceback": [
      "\u001b[1;31m---------------------------------------------------------------------------\u001b[0m",
      "\u001b[1;31mTypeError\u001b[0m                                 Traceback (most recent call last)",
      "Cell \u001b[1;32mIn[38], line 2\u001b[0m\n\u001b[0;32m      1\u001b[0m lst\u001b[38;5;241m=\u001b[39m[(\u001b[38;5;124m'\u001b[39m\u001b[38;5;124masd\u001b[39m\u001b[38;5;124m'\u001b[39m,\u001b[38;5;124m'\u001b[39m\u001b[38;5;124mshiv\u001b[39m\u001b[38;5;124m'\u001b[39m),(\u001b[38;5;124m'\u001b[39m\u001b[38;5;124mramayan\u001b[39m\u001b[38;5;124m'\u001b[39m,\u001b[38;5;124m'\u001b[39m\u001b[38;5;124mvalmik\u001b[39m\u001b[38;5;124m'\u001b[39m),(\u001b[38;5;124m'\u001b[39m\u001b[38;5;124midk\u001b[39m\u001b[38;5;124m'\u001b[39m,\u001b[38;5;124m'\u001b[39m\u001b[38;5;124mrajesh\u001b[39m\u001b[38;5;124m'\u001b[39m)]\n\u001b[1;32m----> 2\u001b[0m a\u001b[38;5;241m=\u001b[39m\u001b[38;5;28;43msorted\u001b[39;49m\u001b[43m(\u001b[49m\u001b[43memp\u001b[49m\u001b[43m,\u001b[49m\u001b[43m \u001b[49m\u001b[43mkey\u001b[49m\u001b[38;5;241;43m=\u001b[39;49m\u001b[38;5;28;43;01mlambda\u001b[39;49;00m\u001b[43m \u001b[49m\u001b[43memp\u001b[49m\u001b[43m:\u001b[49m\u001b[43memp\u001b[49m\u001b[43m[\u001b[49m\u001b[38;5;241;43m1\u001b[39;49m\u001b[43m]\u001b[49m\u001b[43m)\u001b[49m\n",
      "\u001b[1;31mTypeError\u001b[0m: 'function' object is not iterable"
     ]
    }
   ],
   "source": [
    "lst=[('asd','shiv'),('ramayan','valmik'),('idk','rajesh')]\n",
    "a=sorted(emp, key=lambda emp:emp[1])"
   ]
  },
  {
   "cell_type": "raw",
   "id": "09ca2112",
   "metadata": {},
   "source": [
    "\n",
    "Q.15 Employee Data Store employee information (name, age, salary) in a tuple. Write a program to find the employee with the highest salary."
   ]
  },
  {
   "cell_type": "code",
   "execution_count": 1,
   "id": "173711a7",
   "metadata": {},
   "outputs": [
    {
     "name": "stdout",
     "output_type": "stream",
     "text": [
      "Enter the product name to check stock: apple\n",
      "Stock for 'apple': 50\n"
     ]
    }
   ],
   "source": [
    "#Q.16 Product Inventory Write a program to store a product inventory where keys are product names and values are stock quantities. Add functionality to check the stock of a particular product.\n",
    "\n",
    "\n",
    "def check(inventory, product):\n",
    "    if product in inventory:\n",
    "        print(f\"Stock for '{product}': {inventory[product]}\")\n",
    "    else:\n",
    "        print(f\"'{product}' not found\")\n",
    "\n",
    "inventory = {\n",
    "    'apple': 50,\n",
    "    'bnana': 30,\n",
    "    \"orange\": 20,\n",
    "    'mango': 15,\n",
    "    'grapes': 40\n",
    "}\n",
    "\n",
    "product = input(\"Enter the product name to check stock: \")\n",
    "check(inventory, product)\n"
   ]
  },
  {
   "cell_type": "code",
   "execution_count": 7,
   "id": "3d6630fe",
   "metadata": {},
   "outputs": [
    {
     "name": "stdout",
     "output_type": "stream",
     "text": [
      "enter name: shiv\n",
      "Name: shiv \n",
      "Grade: A+ \n"
     ]
    }
   ],
   "source": [
    "#Q.17 Student Grades Create a program that stores student names as keys and their grades as values in a dictionary. Allow the user to input a student's name and retrieve their grade.\n",
    "\n",
    "def checking(dictt,name):\n",
    "    if name in dictt:\n",
    "        print(f\"Name: {name} \\nGrade: {dictt[name]} \")\n",
    "    else:\n",
    "        print(f\"{name} not found\")\n",
    "dictt={\n",
    "    'aadi':\"A\",\n",
    "    \"shiv\":\"A+\",\n",
    "    \"khem\":\"A\"\n",
    "}\n",
    "name=input(\"enter name: \")\n",
    "checking(dictt,name)"
   ]
  },
  {
   "cell_type": "code",
   "execution_count": null,
   "id": "fc29f096",
   "metadata": {},
   "outputs": [],
   "source": []
  }
 ],
 "metadata": {
  "kernelspec": {
   "display_name": "Python 3 (ipykernel)",
   "language": "python",
   "name": "python3"
  },
  "language_info": {
   "codemirror_mode": {
    "name": "ipython",
    "version": 3
   },
   "file_extension": ".py",
   "mimetype": "text/x-python",
   "name": "python",
   "nbconvert_exporter": "python",
   "pygments_lexer": "ipython3",
   "version": "3.10.9"
  }
 },
 "nbformat": 4,
 "nbformat_minor": 5
}
