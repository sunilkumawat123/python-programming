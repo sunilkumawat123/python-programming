{
 "cells": [
  {
   "cell_type": "raw",
   "id": "f6580d31",
   "metadata": {},
   "source": [
    "\n"
   ]
  },
  {
   "cell_type": "code",
   "execution_count": 3,
   "id": "3d09bc43",
   "metadata": {},
   "outputs": [
    {
     "name": "stdout",
     "output_type": "stream",
     "text": [
      "hello world \n",
      "\n",
      "this is add sdjfh\n"
     ]
    }
   ],
   "source": [
    "# Q.1 Write a Python program to open a text file named example.txt in read mode and print its contents.\n",
    "with open('example.txt','r') as file:\n",
    "    for each in file:\n",
    "        print(each)"
   ]
  },
  {
   "cell_type": "code",
   "execution_count": 9,
   "id": "ea33eeba",
   "metadata": {},
   "outputs": [],
   "source": [
    "# Q.2 Create a Python script that writes the following lines to a file output.txt\n",
    "# Hello, World!\n",
    "# This is a test file.\n",
    "with open('output.txt','w') as file:\n",
    "    file.write(\"Hello, World!\\nThis is a test file\")\n",
    "    "
   ]
  },
  {
   "cell_type": "code",
   "execution_count": 11,
   "id": "00cc4608",
   "metadata": {},
   "outputs": [],
   "source": [
    "# Q.3 Write a program that appends the line \"Appending a new line\" to the file output.txt without overwriting the existingcontents.\n",
    "with open('output.txt','a') as file:\n",
    "    file.write(\"Appending a new line\")"
   ]
  },
  {
   "cell_type": "code",
   "execution_count": 7,
   "id": "0fcf9e8f",
   "metadata": {},
   "outputs": [
    {
     "name": "stdout",
     "output_type": "stream",
     "text": [
      "8\n"
     ]
    }
   ],
   "source": [
    "# Q.4 Write a Python program that opens a file named data.txt and counts the total number of words in the file.\n",
    "with open('data.txt','r') as file:\n",
    "    data=file.read()\n",
    "    count=0\n",
    "    for i in data.split():\n",
    "        count=count+1\n",
    "    print(count)\n"
   ]
  },
  {
   "cell_type": "code",
   "execution_count": 17,
   "id": "a77209b8",
   "metadata": {},
   "outputs": [
    {
     "name": "stdout",
     "output_type": "stream",
     "text": [
      "22\n"
     ]
    }
   ],
   "source": [
    "# Q.5 Create a Python script to copy the contents of one file (source.txt) to another file (destination.txt).\n",
    "file= open('source.txt','r') \n",
    "x=file.read()   \n",
    "data=open('destination.txt','r+')\n",
    "data.write(x)\n",
    "print(content)"
   ]
  },
  {
   "cell_type": "code",
   "execution_count": 16,
   "id": "6f3aae22",
   "metadata": {},
   "outputs": [
    {
     "name": "stdout",
     "output_type": "stream",
     "text": [
      "3\n"
     ]
    }
   ],
   "source": [
    "# Q.6 Write a Python program that reads a file (data.txt) and prints the number of lines it contains.\n",
    "with open('data.txt','r') as file:\n",
    "    data=file.readlines()\n",
    "    print(len(data))"
   ]
  },
  {
   "cell_type": "code",
   "execution_count": 26,
   "id": "c58fcd3e",
   "metadata": {},
   "outputs": [
    {
     "name": "stdout",
     "output_type": "stream",
     "text": [
      "enter word to be search as\n",
      "['aaditya', 'as']\n",
      "word found\n"
     ]
    }
   ],
   "source": [
    "# Q.7 Write a program that asks the user for a word and searches for it in the file sample.txt. \n",
    "# If found, print the line where the word appears.\n",
    "with open('sample.txt','r') as file:\n",
    "    re=file.read()\n",
    "    a=input(\"enter word to be search \")\n",
    "    x=re.split()\n",
    "    print(x)\n",
    "#     for i in x:\n",
    "    if(a in x):\n",
    "        print(\"word found\")\n",
    "        \n",
    "    else:\n",
    "        print(\"word not found\")"
   ]
  },
  {
   "cell_type": "code",
   "execution_count": 20,
   "id": "c913ce01",
   "metadata": {},
   "outputs": [
    {
     "name": "stdout",
     "output_type": "stream",
     "text": [
      "hello world this\n",
      "\n",
      "is add sdjfh\n"
     ]
    }
   ],
   "source": [
    "\n",
    "# Q.8 Write a Python script that opens a file and reads it line by line, printing each line to the console.\n",
    "with open('data.txt','w+') as file:\n",
    "    dag=file.readline()\n",
    "    for ra in data:\n",
    "        print(ra)\n",
    "\n"
   ]
  },
  {
   "cell_type": "code",
   "execution_count": 29,
   "id": "2126178d",
   "metadata": {
    "scrolled": true
   },
   "outputs": [
    {
     "name": "stdout",
     "output_type": "stream",
     "text": [
      "enil wen a gnidneppAelif tset a si sihT\n",
      "!dlroW ,olleH\n"
     ]
    }
   ],
   "source": [
    "# Q.9 Write a program to read the contents of a file (input.txt) and print the contents in reverse order.\n",
    "with open('input.txt','r') as file:\n",
    "    data=file.read()\n",
    "    print(data[::-1])\n"
   ]
  },
  {
   "cell_type": "code",
   "execution_count": 31,
   "id": "be27437c",
   "metadata": {},
   "outputs": [
    {
     "name": "stdout",
     "output_type": "stream",
     "text": [
      "1\n",
      "['hello', 'guys', 'i', 'am', 'aadi']\n",
      "5\n"
     ]
    }
   ],
   "source": [
    "# Q.10 Create a Python program that finds and prints the longest word in a file (words.txt).\n",
    "with open('words.txt','r') as file:\n",
    "    \n",
    "    data=file.read()\n",
    "    b=[]\n",
    "    maxx=0\n",
    "    for i in data:\n",
    "        b.extend(i.split())\n",
    "    for j in b:\n",
    "        if(len(j)>maxx):\n",
    "            maxx=len(j)\n",
    "    print(maxx)\n",
    "        \n",
    "# file=open('words.txt','r')\n",
    "# a=file.read()\n",
    "# sp=a.split()\n",
    "# print(sp)\n",
    "# maxx=1\n",
    "# for i in sp:\n",
    "#     if(maxx<len(i)):\n",
    "#         maxx=len(i)\n",
    "# print(maxx)"
   ]
  },
  {
   "cell_type": "code",
   "execution_count": null,
   "id": "683f0a5f",
   "metadata": {},
   "outputs": [],
   "source": []
  }
 ],
 "metadata": {
  "kernelspec": {
   "display_name": "Python 3 (ipykernel)",
   "language": "python",
   "name": "python3"
  },
  "language_info": {
   "codemirror_mode": {
    "name": "ipython",
    "version": 3
   },
   "file_extension": ".py",
   "mimetype": "text/x-python",
   "name": "python",
   "nbconvert_exporter": "python",
   "pygments_lexer": "ipython3",
   "version": "3.10.9"
  }
 },
 "nbformat": 4,
 "nbformat_minor": 5
}
