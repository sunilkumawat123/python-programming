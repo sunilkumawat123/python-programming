{
 "cells": [
  {
   "cell_type": "markdown",
   "id": "be876076",
   "metadata": {},
   "source": [
    "# sets"
   ]
  },
  {
   "cell_type": "code",
   "execution_count": 3,
   "id": "8f54780c",
   "metadata": {},
   "outputs": [
    {
     "name": "stdout",
     "output_type": "stream",
     "text": [
      "{1, 34, 467, 5, 87, 78}\n"
     ]
    }
   ],
   "source": [
    "myset=set({})\n",
    "myset={1,34,5,467,78,87}\n",
    "print(myset)"
   ]
  },
  {
   "cell_type": "code",
   "execution_count": 6,
   "id": "f1e09f28",
   "metadata": {},
   "outputs": [
    {
     "name": "stdout",
     "output_type": "stream",
     "text": [
      "{1, 34, 467, 5, 12343, 87, (12, 34), 78}\n"
     ]
    }
   ],
   "source": [
    "myset.add(12343)\n",
    "print(myset)\n",
    "\n",
    "#can not add mutable data"
   ]
  },
  {
   "cell_type": "code",
   "execution_count": 7,
   "id": "216cab0d",
   "metadata": {},
   "outputs": [
    {
     "name": "stdout",
     "output_type": "stream",
     "text": [
      "{1, 34, 467, 5, 12343, 87, (12, 34), 78}\n"
     ]
    }
   ],
   "source": [
    "myset.add((12,34))\n",
    "print(myset)"
   ]
  },
  {
   "cell_type": "code",
   "execution_count": 9,
   "id": "bc172840",
   "metadata": {},
   "outputs": [
    {
     "name": "stdout",
     "output_type": "stream",
     "text": [
      "{1, 5, 'e', 78, 467, 87, (12, 34), 'h', 34, 'y', 12343}\n"
     ]
    }
   ],
   "source": [
    "myset.update(\"hey\")\n",
    "print(myset)"
   ]
  },
  {
   "cell_type": "markdown",
   "id": "ec09bcf9",
   "metadata": {},
   "source": [
    "## can add multiple values"
   ]
  },
  {
   "cell_type": "code",
   "execution_count": 10,
   "id": "94a1c713",
   "metadata": {},
   "outputs": [
    {
     "name": "stdout",
     "output_type": "stream",
     "text": [
      "{1, 4, 5, 'e', 78, 467, 87, 'hey', 23, (12, 34), 'h', 34, 'y', 12343}\n"
     ]
    }
   ],
   "source": [
    "myset.update([\"hey\",23,4])\n",
    "print(myset)"
   ]
  },
  {
   "cell_type": "code",
   "execution_count": 13,
   "id": "f42fe97a",
   "metadata": {},
   "outputs": [
    {
     "name": "stdout",
     "output_type": "stream",
     "text": [
      "Help on set object:\n",
      "\n",
      "class set(object)\n",
      " |  set() -> new empty set object\n",
      " |  set(iterable) -> new set object\n",
      " |  \n",
      " |  Build an unordered collection of unique elements.\n",
      " |  \n",
      " |  Methods defined here:\n",
      " |  \n",
      " |  __and__(self, value, /)\n",
      " |      Return self&value.\n",
      " |  \n",
      " |  __contains__(...)\n",
      " |      x.__contains__(y) <==> y in x.\n",
      " |  \n",
      " |  __eq__(self, value, /)\n",
      " |      Return self==value.\n",
      " |  \n",
      " |  __ge__(self, value, /)\n",
      " |      Return self>=value.\n",
      " |  \n",
      " |  __getattribute__(self, name, /)\n",
      " |      Return getattr(self, name).\n",
      " |  \n",
      " |  __gt__(self, value, /)\n",
      " |      Return self>value.\n",
      " |  \n",
      " |  __iand__(self, value, /)\n",
      " |      Return self&=value.\n",
      " |  \n",
      " |  __init__(self, /, *args, **kwargs)\n",
      " |      Initialize self.  See help(type(self)) for accurate signature.\n",
      " |  \n",
      " |  __ior__(self, value, /)\n",
      " |      Return self|=value.\n",
      " |  \n",
      " |  __isub__(self, value, /)\n",
      " |      Return self-=value.\n",
      " |  \n",
      " |  __iter__(self, /)\n",
      " |      Implement iter(self).\n",
      " |  \n",
      " |  __ixor__(self, value, /)\n",
      " |      Return self^=value.\n",
      " |  \n",
      " |  __le__(self, value, /)\n",
      " |      Return self<=value.\n",
      " |  \n",
      " |  __len__(self, /)\n",
      " |      Return len(self).\n",
      " |  \n",
      " |  __lt__(self, value, /)\n",
      " |      Return self<value.\n",
      " |  \n",
      " |  __ne__(self, value, /)\n",
      " |      Return self!=value.\n",
      " |  \n",
      " |  __or__(self, value, /)\n",
      " |      Return self|value.\n",
      " |  \n",
      " |  __rand__(self, value, /)\n",
      " |      Return value&self.\n",
      " |  \n",
      " |  __reduce__(...)\n",
      " |      Return state information for pickling.\n",
      " |  \n",
      " |  __repr__(self, /)\n",
      " |      Return repr(self).\n",
      " |  \n",
      " |  __ror__(self, value, /)\n",
      " |      Return value|self.\n",
      " |  \n",
      " |  __rsub__(self, value, /)\n",
      " |      Return value-self.\n",
      " |  \n",
      " |  __rxor__(self, value, /)\n",
      " |      Return value^self.\n",
      " |  \n",
      " |  __sizeof__(...)\n",
      " |      S.__sizeof__() -> size of S in memory, in bytes\n",
      " |  \n",
      " |  __sub__(self, value, /)\n",
      " |      Return self-value.\n",
      " |  \n",
      " |  __xor__(self, value, /)\n",
      " |      Return self^value.\n",
      " |  \n",
      " |  add(...)\n",
      " |      Add an element to a set.\n",
      " |      \n",
      " |      This has no effect if the element is already present.\n",
      " |  \n",
      " |  clear(...)\n",
      " |      Remove all elements from this set.\n",
      " |  \n",
      " |  copy(...)\n",
      " |      Return a shallow copy of a set.\n",
      " |  \n",
      " |  difference(...)\n",
      " |      Return the difference of two or more sets as a new set.\n",
      " |      \n",
      " |      (i.e. all elements that are in this set but not the others.)\n",
      " |  \n",
      " |  difference_update(...)\n",
      " |      Remove all elements of another set from this set.\n",
      " |  \n",
      " |  discard(...)\n",
      " |      Remove an element from a set if it is a member.\n",
      " |      \n",
      " |      If the element is not a member, do nothing.\n",
      " |  \n",
      " |  intersection(...)\n",
      " |      Return the intersection of two sets as a new set.\n",
      " |      \n",
      " |      (i.e. all elements that are in both sets.)\n",
      " |  \n",
      " |  intersection_update(...)\n",
      " |      Update a set with the intersection of itself and another.\n",
      " |  \n",
      " |  isdisjoint(...)\n",
      " |      Return True if two sets have a null intersection.\n",
      " |  \n",
      " |  issubset(...)\n",
      " |      Report whether another set contains this set.\n",
      " |  \n",
      " |  issuperset(...)\n",
      " |      Report whether this set contains another set.\n",
      " |  \n",
      " |  pop(...)\n",
      " |      Remove and return an arbitrary set element.\n",
      " |      Raises KeyError if the set is empty.\n",
      " |  \n",
      " |  remove(...)\n",
      " |      Remove an element from a set; it must be a member.\n",
      " |      \n",
      " |      If the element is not a member, raise a KeyError.\n",
      " |  \n",
      " |  symmetric_difference(...)\n",
      " |      Return the symmetric difference of two sets as a new set.\n",
      " |      \n",
      " |      (i.e. all elements that are in exactly one of the sets.)\n",
      " |  \n",
      " |  symmetric_difference_update(...)\n",
      " |      Update a set with the symmetric difference of itself and another.\n",
      " |  \n",
      " |  union(...)\n",
      " |      Return the union of sets as a new set.\n",
      " |      \n",
      " |      (i.e. all elements that are in either set.)\n",
      " |  \n",
      " |  update(...)\n",
      " |      Update a set with the union of itself and others.\n",
      " |  \n",
      " |  ----------------------------------------------------------------------\n",
      " |  Class methods defined here:\n",
      " |  \n",
      " |  __class_getitem__(...) from builtins.type\n",
      " |      See PEP 585\n",
      " |  \n",
      " |  ----------------------------------------------------------------------\n",
      " |  Static methods defined here:\n",
      " |  \n",
      " |  __new__(*args, **kwargs) from builtins.type\n",
      " |      Create and return a new object.  See help(type) for accurate signature.\n",
      " |  \n",
      " |  ----------------------------------------------------------------------\n",
      " |  Data and other attributes defined here:\n",
      " |  \n",
      " |  __hash__ = None\n",
      "\n"
     ]
    }
   ],
   "source": [
    "help(myset)"
   ]
  },
  {
   "cell_type": "markdown",
   "id": "9dcb2835",
   "metadata": {},
   "source": []
  },
  {
   "cell_type": "code",
   "execution_count": 19,
   "id": "017bb275",
   "metadata": {},
   "outputs": [
    {
     "name": "stdout",
     "output_type": "stream",
     "text": [
      "{'a': 2, 'd': 1, 'o': 1}\n",
      "{'a': 2, 'd': 1, 'o': 1}\n",
      "Anagram\n"
     ]
    }
   ],
   "source": [
    "str1='aado'\n",
    "str2='aado'\n",
    "dict1={}\n",
    "dict2={}\n",
    "for i in str1:\n",
    "    if i not in dict1:\n",
    "        dict1[i]=1\n",
    "    else:\n",
    "        dict1[i]+=1\n",
    "\n",
    "for i in str2:\n",
    "    if i not in dict2:\n",
    "        dict2[i]=1\n",
    "    else:\n",
    "        dict2[i]+=1\n",
    "        \n",
    "print(dict1)\n",
    "print(dict2)\n",
    "\n",
    "if(dict1==dict2):\n",
    "    print(\"Anagram\")\n",
    "else:\n",
    "    print(\"not\")"
   ]
  },
  {
   "cell_type": "code",
   "execution_count": 45,
   "id": "6fd514a1",
   "metadata": {},
   "outputs": [
    {
     "name": "stdout",
     "output_type": "stream",
     "text": [
      "not iso\n",
      "{'b': 'b', 'a': 'a'}\n"
     ]
    }
   ],
   "source": [
    "s = \"badc\"\n",
    "t = \"baba\"\n",
    "s_dict={}\n",
    "t_dict={}\n",
    "x=0\n",
    "if(len(s)==len(t)):\n",
    "    for index in range (0,len(s)):\n",
    "        if( s[index] in s_dict and s_dict[ s[index] ] != t[index]):\n",
    "            x=1\n",
    "            break\n",
    "        \n",
    "        s_dict[s[index]]=t[index]\n",
    "        \n",
    "    for index in range (0,len(t)):\n",
    "        if( t[index] in t_dict and t_dict[ t[index] ] != s[index]):\n",
    "            x=1\n",
    "            break\n",
    "        \n",
    "        t_dict[t[index]]=s[index]\n",
    "        \n",
    "        \n",
    "else:\n",
    "    x+=1\n",
    "if(x==0):\n",
    "    print(\"iso\")\n",
    "else:\n",
    "    print(\"not iso\")\n"
   ]
  },
  {
   "cell_type": "code",
   "execution_count": 1,
   "id": "d017401c",
   "metadata": {},
   "outputs": [],
   "source": [
    "# difference method \n",
    "# intersection update\n",
    "# is superset\n",
    "# symmetric difference"
   ]
  },
  {
   "cell_type": "code",
   "execution_count": 11,
   "id": "c0164099",
   "metadata": {},
   "outputs": [
    {
     "name": "stdout",
     "output_type": "stream",
     "text": [
      "{34, 12}\n",
      "{34, 12}\n",
      "None\n",
      "{34, 12}\n",
      "{56, 32, 43}\n"
     ]
    }
   ],
   "source": [
    "a={12,32,34,56}\n",
    "b={43,56,32}\n",
    "print(a-b)\n",
    "print(a.difference(b))      # only shows not update\n",
    "print(a.difference_update(b))  #updated set a values\n",
    "print(a)\n",
    "print(b)"
   ]
  },
  {
   "cell_type": "code",
   "execution_count": 16,
   "id": "ebc0c9f6",
   "metadata": {},
   "outputs": [
    {
     "name": "stdout",
     "output_type": "stream",
     "text": [
      "{56, 32}\n",
      "None\n",
      "{56, 32}\n",
      "{56, 32, 43}\n"
     ]
    }
   ],
   "source": [
    "a={12,32,34,56}\n",
    "b={43,56,32}\n",
    "print(a.intersection(b))\n",
    "print(a.intersection_update(b))\n",
    "print(a)\n",
    "print(b)"
   ]
  },
  {
   "cell_type": "code",
   "execution_count": 23,
   "id": "3e38e5e4",
   "metadata": {},
   "outputs": [
    {
     "data": {
      "text/plain": [
       "True"
      ]
     },
     "execution_count": 23,
     "metadata": {},
     "output_type": "execute_result"
    }
   ],
   "source": [
    "a={12,32,34,56,43}\n",
    "b={34,12,56,32}\n",
    "a.issuperset(b)"
   ]
  },
  {
   "cell_type": "code",
   "execution_count": 24,
   "id": "676cf9d6",
   "metadata": {},
   "outputs": [
    {
     "data": {
      "text/plain": [
       "{43}"
      ]
     },
     "execution_count": 24,
     "metadata": {},
     "output_type": "execute_result"
    }
   ],
   "source": [
    "a={12,32,34,56,43}\n",
    "b={34,12,56,32}\n",
    "a.symmetric_difference(b)"
   ]
  },
  {
   "cell_type": "code",
   "execution_count": null,
   "id": "c940ab87",
   "metadata": {},
   "outputs": [],
   "source": []
  }
 ],
 "metadata": {
  "kernelspec": {
   "display_name": "Python 3 (ipykernel)",
   "language": "python",
   "name": "python3"
  },
  "language_info": {
   "codemirror_mode": {
    "name": "ipython",
    "version": 3
   },
   "file_extension": ".py",
   "mimetype": "text/x-python",
   "name": "python",
   "nbconvert_exporter": "python",
   "pygments_lexer": "ipython3",
   "version": "3.10.9"
  }
 },
 "nbformat": 4,
 "nbformat_minor": 5
}
