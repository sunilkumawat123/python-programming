{
  "nbformat": 4,
  "nbformat_minor": 0,
  "metadata": {
    "colab": {
      "provenance": []
    },
    "kernelspec": {
      "name": "python3",
      "display_name": "Python 3"
    },
    "language_info": {
      "name": "python"
    }
  },
  "cells": [
    {
      "cell_type": "code",
      "source": [
        "for i in range(1,6):\n",
        "  for j in range(1,6):\n",
        "    if(i==1 or i==5 or j==1 or j==5):\n",
        "      print(\"*\",end=\" \")\n",
        "    else:\n",
        "      print(\" \")\n",
        "print()"
      ],
      "metadata": {
        "colab": {
          "base_uri": "https://localhost:8080/"
        },
        "id": "u6Rlf8N2xDyU",
        "outputId": "123d2aaa-cea3-4e59-b967-add576bbd9e9"
      },
      "execution_count": null,
      "outputs": [
        {
          "output_type": "stream",
          "name": "stdout",
          "text": [
            "* * * * * *  \n",
            " \n",
            " \n",
            "* *  \n",
            " \n",
            " \n",
            "* *  \n",
            " \n",
            " \n",
            "* * * * * * \n"
          ]
        }
      ]
    },
    {
      "cell_type": "code",
      "source": [
        "ascii=65\n",
        "for i in range(1,6):\n",
        "  for j in range(1,i+1):\n",
        "      alphabet=chr(ascii)\n",
        "      print(alphabet,end=\" \")\n",
        "  ascii=ascii+1\n",
        "  print()"
      ],
      "metadata": {
        "colab": {
          "base_uri": "https://localhost:8080/"
        },
        "id": "yAkvlTJ0ynSc",
        "outputId": "ac605a20-3da1-4533-d0eb-88ceec3f8071"
      },
      "execution_count": null,
      "outputs": [
        {
          "output_type": "stream",
          "name": "stdout",
          "text": [
            "A \n",
            "B B \n",
            "C C C \n",
            "D D D D \n",
            "E E E E E \n"
          ]
        }
      ]
    },
    {
      "cell_type": "code",
      "execution_count": null,
      "metadata": {
        "colab": {
          "base_uri": "https://localhost:8080/"
        },
        "id": "0IYx7GQIv0OA",
        "outputId": "ebf623a3-73e5-4d89-d6ea-b4a9280a092f"
      },
      "outputs": [
        {
          "output_type": "stream",
          "name": "stdout",
          "text": [
            "* * * * \n",
            "* * * * \n",
            "* * * * \n",
            "* * * * \n"
          ]
        }
      ],
      "source": [
        "for i in range(1,5):\n",
        "  for j in range(1,5):\n",
        "    s=1\n",
        "    if(s<=j):\n",
        "       print( \"*\",end=\" \")\n",
        "\n",
        "  print()\n",
        "s=s+1\n",
        "\n"
      ]
    },
    {
      "cell_type": "code",
      "source": [
        "ascii=69\n",
        "for i in range(1,6):\n",
        "\n",
        "  for j in range(1,i+1):\n",
        "\n",
        "      alphabet=chr(ascii)\n",
        "      print(alphabet,end=\" \")\n",
        "  ascii=ascii-1\n",
        "  print()"
      ],
      "metadata": {
        "colab": {
          "base_uri": "https://localhost:8080/"
        },
        "id": "6gKyraIJzfBr",
        "outputId": "08ec8455-4585-45f6-d43b-43ea64aa5143"
      },
      "execution_count": null,
      "outputs": [
        {
          "output_type": "stream",
          "name": "stdout",
          "text": [
            "E \n",
            "D D \n",
            "C C C \n",
            "B B B B \n",
            "A A A A A \n"
          ]
        }
      ]
    },
    {
      "cell_type": "code",
      "source": [
        "n=4\n",
        "for i in range(1,4):\n",
        "  for j in range(1,i+1):\n",
        "    print(n,end=\" \")\n",
        "    temp=n-1\n",
        "  n=n-1\n",
        "  print()\n"
      ],
      "metadata": {
        "colab": {
          "base_uri": "https://localhost:8080/"
        },
        "id": "epKtvoYDz89v",
        "outputId": "35019b29-0ad7-4ab7-c8bc-05263e47e810"
      },
      "execution_count": null,
      "outputs": [
        {
          "output_type": "stream",
          "name": "stdout",
          "text": [
            "4 \n",
            "3 3 \n",
            "2 2 2 \n"
          ]
        }
      ]
    },
    {
      "cell_type": "code",
      "source": [
        "for i in range(1,6):\n",
        "\n",
        "  for j in range(1,6):\n",
        "\n",
        "    if(j<6-i):\n",
        "      num=1\n",
        "      print(\" \",end=\" \")\n",
        "\n",
        "    else:\n",
        "      print(num,end=\" \")\n",
        "      num=num+1\n",
        "  print()"
      ],
      "metadata": {
        "colab": {
          "base_uri": "https://localhost:8080/"
        },
        "id": "KN8zNOnH01td",
        "outputId": "d6900fd1-6d58-4bb8-988d-0c9e5307418a"
      },
      "execution_count": null,
      "outputs": [
        {
          "output_type": "stream",
          "name": "stdout",
          "text": [
            "        1 \n",
            "      1 2 \n",
            "    1 2 3 \n",
            "  1 2 3 4 \n",
            "5 6 7 8 9 \n"
          ]
        }
      ]
    },
    {
      "cell_type": "code",
      "source": [
        "n=4\n",
        "for i in range(1,n+1):\n",
        "  print(\"s\",i)\n",
        "  for j in range(i,n):\n",
        "    print(\"new\",j)"
      ],
      "metadata": {
        "colab": {
          "base_uri": "https://localhost:8080/"
        },
        "id": "8wMNjWg09i-U",
        "outputId": "f7ea89cb-9d5a-46b8-9243-f27480e5a4a4"
      },
      "execution_count": null,
      "outputs": [
        {
          "output_type": "stream",
          "name": "stdout",
          "text": [
            "s 1\n",
            "new 1\n",
            "new 2\n",
            "new 3\n",
            "s 2\n",
            "new 2\n",
            "new 3\n",
            "s 3\n",
            "new 3\n",
            "s 4\n"
          ]
        }
      ]
    },
    {
      "cell_type": "code",
      "source": [
        "n=4\n",
        "for i in range(1,n+1):\n",
        "\n",
        "  for j in range(i,n):\n",
        "    print(\" \",end=\" \")\n",
        "\n",
        "  for k in range(1,i+1):\n",
        "    print(\"*\",end=\" \")\n",
        "  print()"
      ],
      "metadata": {
        "colab": {
          "base_uri": "https://localhost:8080/"
        },
        "id": "sCYkXnWG-yzU",
        "outputId": "b7bbb8dc-d440-45d7-de4e-2ce2e29b1997"
      },
      "execution_count": null,
      "outputs": [
        {
          "output_type": "stream",
          "name": "stdout",
          "text": [
            "      * \n",
            "    * * \n",
            "  * * * \n",
            "* * * * \n"
          ]
        }
      ]
    },
    {
      "cell_type": "code",
      "source": [
        "n=4\n",
        "for i in range(1,n+1):\n",
        "\n",
        "  for j in range(i,n):\n",
        "    print(\" \",end=\" \")\n",
        "\n",
        "  for k in range(1,i+1):\n",
        "    print(\" *\",end=\" \")\n",
        "  print()"
      ],
      "metadata": {
        "colab": {
          "base_uri": "https://localhost:8080/"
        },
        "id": "fLo9vSxYHHBT",
        "outputId": "d65d4d18-8aa3-4d40-e69c-b14b67457f01"
      },
      "execution_count": null,
      "outputs": [
        {
          "output_type": "stream",
          "name": "stdout",
          "text": [
            "       * \n",
            "     *  * \n",
            "   *  *  * \n",
            " *  *  *  * \n"
          ]
        }
      ]
    },
    {
      "cell_type": "code",
      "source": [
        "for i in range(1,6):\n",
        "  for j in range(6,i,-1):\n",
        "    print(\"*\",end=\" \")\n",
        "\n",
        "  print()"
      ],
      "metadata": {
        "colab": {
          "base_uri": "https://localhost:8080/"
        },
        "id": "tggGrB6aHcEi",
        "outputId": "bc039665-5955-47ff-d3a7-25489701055c"
      },
      "execution_count": null,
      "outputs": [
        {
          "output_type": "stream",
          "name": "stdout",
          "text": [
            "* * * * * \n",
            "* * * * \n",
            "* * * \n",
            "* * \n",
            "* \n"
          ]
        }
      ]
    },
    {
      "cell_type": "code",
      "source": [
        "n=5\n",
        "\n",
        "for i in range(1,n+1):\n",
        "  num=1\n",
        "  for j in range(i-1):\n",
        "    print(\" \",end=\" \")\n",
        "\n",
        "  for k in range(i,n+1):\n",
        "\n",
        "    print(num,end=\" \")\n",
        "    num=num+1\n",
        "  print()"
      ],
      "metadata": {
        "colab": {
          "base_uri": "https://localhost:8080/"
        },
        "id": "HC3Kq1XEJj2H",
        "outputId": "767c09d6-4c4b-4cb4-f13a-e4b88d7d98b8"
      },
      "execution_count": null,
      "outputs": [
        {
          "output_type": "stream",
          "name": "stdout",
          "text": [
            "1 2 3 4 5 \n",
            "  1 2 3 4 \n",
            "    1 2 3 \n",
            "      1 2 \n",
            "        1 \n"
          ]
        }
      ]
    },
    {
      "cell_type": "code",
      "source": [
        "n=5\n",
        "\n",
        "for i in range(1,n+1):\n",
        "  ascii=65\n",
        "  for j in range(i-1):\n",
        "    print(\" \",end=\" \")\n",
        "\n",
        "  for k in range(i,n+1):\n",
        "    alphabet=chr(ascii)\n",
        "    print(alphabet,end=\" \")\n",
        "    ascii=ascii+1\n",
        "  print()"
      ],
      "metadata": {
        "colab": {
          "base_uri": "https://localhost:8080/"
        },
        "id": "C6GfP9QEQ5Bc",
        "outputId": "0714b1c8-ef5c-430a-fcf7-779b4795275c"
      },
      "execution_count": null,
      "outputs": [
        {
          "output_type": "stream",
          "name": "stdout",
          "text": [
            "A B C D E \n",
            "  A B C D \n",
            "    A B C \n",
            "      A B \n",
            "        A \n"
          ]
        }
      ]
    },
    {
      "cell_type": "code",
      "source": [
        "for i in range(1,6):\n",
        "  for k in range(i,5):\n",
        "    print(\" \",end=\" \")\n",
        "  for j in range(1,6):\n",
        "       print(\"*\",end=\" \")\n",
        "\n",
        "  print()\n"
      ],
      "metadata": {
        "colab": {
          "base_uri": "https://localhost:8080/"
        },
        "id": "KIoalcjKScI4",
        "outputId": "dc515db9-93d3-4992-c3e7-c131eb648ca0"
      },
      "execution_count": null,
      "outputs": [
        {
          "output_type": "stream",
          "name": "stdout",
          "text": [
            "        * * * * * \n",
            "      * * * * * \n",
            "    * * * * * \n",
            "  * * * * * \n",
            "* * * * * \n"
          ]
        }
      ]
    },
    {
      "cell_type": "code",
      "source": [
        "\n",
        "for i in range(1,6):\n",
        "  for k in range(i,5):\n",
        "    print(\" \",end=\" \")\n",
        "  ascii=65\n",
        "  for j in range(1,6):\n",
        "\n",
        "    alphabet=chr(ascii)\n",
        "    print(alphabet,end=\" \")\n",
        "    ascii=ascii+1\n",
        "\n",
        "  print()\n"
      ],
      "metadata": {
        "colab": {
          "base_uri": "https://localhost:8080/"
        },
        "id": "t0QRALdeUlxW",
        "outputId": "43a76641-aa5a-49ae-9337-f28f594a45a7"
      },
      "execution_count": null,
      "outputs": [
        {
          "output_type": "stream",
          "name": "stdout",
          "text": [
            "        A B C D E \n",
            "      A B C D E \n",
            "    A B C D E \n",
            "  A B C D E \n",
            "A B C D E \n"
          ]
        }
      ]
    },
    {
      "cell_type": "code",
      "source": [
        "for i in range(1,6):\n",
        "  for j in range(i):\n",
        "    print(\" \",end=\" \")\n",
        "  for k in range(2*(n-i)+1):\n",
        "    print(\"*\",end=\" \")\n",
        "  print()"
      ],
      "metadata": {
        "colab": {
          "base_uri": "https://localhost:8080/"
        },
        "id": "HXMsTIcXWTVc",
        "outputId": "4598716c-c3af-4db4-a456-3231436d2c03"
      },
      "execution_count": null,
      "outputs": [
        {
          "output_type": "stream",
          "name": "stdout",
          "text": [
            "  * * * * * * * * * \n",
            "    * * * * * * * \n",
            "      * * * * * \n",
            "        * * * \n",
            "          * \n"
          ]
        }
      ]
    },
    {
      "cell_type": "code",
      "source": [
        "for i in range(1,6):\n",
        "  for j in range(i,6):\n",
        "    print(\" \",end=\" \")\n",
        "  for k in range(1,i+1):\n",
        "\n",
        "\n",
        "    print(\" *\",end=\" \")\n",
        "  print()"
      ],
      "metadata": {
        "colab": {
          "base_uri": "https://localhost:8080/"
        },
        "id": "qFHKJZ_pXZY4",
        "outputId": "9c61d4d9-293b-4a04-cde9-31a9881963e8"
      },
      "execution_count": null,
      "outputs": [
        {
          "output_type": "stream",
          "name": "stdout",
          "text": [
            "           * \n",
            "         *  * \n",
            "       *  *  * \n",
            "     *  *  *  * \n",
            "   *  *  *  *  * \n"
          ]
        }
      ]
    },
    {
      "cell_type": "code",
      "source": [
        "n=5\n",
        "\n",
        "for i in range(1,n+1):\n",
        "\n",
        "  for j in range(i):\n",
        "    print(\" \",end=\" \")\n",
        "\n",
        "  for k in range(2*(n-i)+1):\n",
        "\n",
        "    print(\"*\",end=\" \")\n",
        "\n",
        "  print()"
      ],
      "metadata": {
        "colab": {
          "base_uri": "https://localhost:8080/"
        },
        "id": "VHbNE_sdZT05",
        "outputId": "ee8a4317-9b43-47cf-9b34-5d1ce01b5222"
      },
      "execution_count": null,
      "outputs": [
        {
          "output_type": "stream",
          "name": "stdout",
          "text": [
            "  * * * * * * * * * \n",
            "    * * * * * * * \n",
            "      * * * * * \n",
            "        * * * \n",
            "          * \n"
          ]
        }
      ]
    },
    {
      "cell_type": "code",
      "source": [
        "n = 4\n",
        "\n",
        "for i in range(n):\n",
        "\n",
        "    for j in range( i,4):\n",
        "        print(\" \", end=\"\")\n",
        "\n",
        "\n",
        "    for k in range(1,2*i):\n",
        "        print(\"*\", end=\"\")\n",
        "\n",
        "\n",
        "    print()"
      ],
      "metadata": {
        "colab": {
          "base_uri": "https://localhost:8080/"
        },
        "id": "AZuMpW8jdIKU",
        "outputId": "50366bc6-b19e-4382-d4a4-5f7abc181cc0"
      },
      "execution_count": null,
      "outputs": [
        {
          "output_type": "stream",
          "name": "stdout",
          "text": [
            "    \n",
            "   *\n",
            "  ***\n",
            " *****\n"
          ]
        }
      ]
    },
    {
      "cell_type": "code",
      "source": [
        "for i in range(1,5):\n",
        "  for j in range(1,i):\n",
        "    print(\" \",end=\" \")\n",
        "  for j in range(8,2*i-1,-1):\n",
        "    print(\"*\",end=\" \")\n",
        "  print()"
      ],
      "metadata": {
        "colab": {
          "base_uri": "https://localhost:8080/"
        },
        "id": "N1fSLUR7Hl-d",
        "outputId": "040c9a41-0897-456a-9696-d542bd6faae0"
      },
      "execution_count": null,
      "outputs": [
        {
          "output_type": "stream",
          "name": "stdout",
          "text": [
            "* * * * * * * \n",
            "  * * * * * \n",
            "    * * * \n",
            "      * \n"
          ]
        }
      ]
    },
    {
      "cell_type": "code",
      "source": [
        "for i in range(1,5):\n",
        "  for j in range(i,4):\n",
        "    print(\" \",end=\"\")\n",
        "  for k in range(1,i+1):\n",
        "    print(\"*\",end=\" \")\n",
        "  print()"
      ],
      "metadata": {
        "colab": {
          "base_uri": "https://localhost:8080/"
        },
        "id": "Ll76KAJsLPmS",
        "outputId": "f1f5e111-f2bf-4429-c92a-f84fc82aacd4"
      },
      "execution_count": null,
      "outputs": [
        {
          "output_type": "stream",
          "name": "stdout",
          "text": [
            "   * \n",
            "  * * \n",
            " * * * \n",
            "* * * * \n"
          ]
        }
      ]
    },
    {
      "cell_type": "code",
      "source": [
        "for i in range(1,5):\n",
        "  for j in range(1,i):\n",
        "    print(\" \",end=\"\")\n",
        "  for k in range(5,i,-1):\n",
        "    print(\"*\",end=\" \")\n",
        "  print()"
      ],
      "metadata": {
        "colab": {
          "base_uri": "https://localhost:8080/"
        },
        "id": "hcp0YDjKL4gG",
        "outputId": "92a3eac6-b023-45fc-fca5-4d7aa820b806"
      },
      "execution_count": null,
      "outputs": [
        {
          "output_type": "stream",
          "name": "stdout",
          "text": [
            "* * * * \n",
            " * * * \n",
            "  * * \n",
            "   * \n"
          ]
        }
      ]
    },
    {
      "cell_type": "code",
      "source": [
        "for i in range(1,5):\n",
        "  for j in range(i,4):\n",
        "    print(\" \",end=\"\")\n",
        "  ascii=65\n",
        "  for k in range(1,i+1):\n",
        "\n",
        "    alphabet=chr(ascii)\n",
        "    print(alphabet,end=\" \")\n",
        "    ascii=ascii+1\n",
        "  print()"
      ],
      "metadata": {
        "colab": {
          "base_uri": "https://localhost:8080/"
        },
        "id": "4frr8oz_M8L7",
        "outputId": "de3dd961-f527-4e78-9938-0e9ba03f2fbe"
      },
      "execution_count": null,
      "outputs": [
        {
          "output_type": "stream",
          "name": "stdout",
          "text": [
            "   A \n",
            "  A B \n",
            " A B C \n",
            "A B C D \n"
          ]
        }
      ]
    },
    {
      "cell_type": "code",
      "source": [
        " ascii=65\n",
        "for i in range(1,5):\n",
        "  for j in range(i,4):\n",
        "    print(\" \",end=\"\")\n",
        "\n",
        "  for k in range(1,i+1):\n",
        "\n",
        "    alphabet=chr(ascii)\n",
        "    print(alphabet,end=\" \")\n",
        "    ascii=ascii+1\n",
        "  print()"
      ],
      "metadata": {
        "colab": {
          "base_uri": "https://localhost:8080/"
        },
        "id": "yS8O-QvyMyVv",
        "outputId": "82f8b3e2-6d22-46a2-ffab-62c6fe044776"
      },
      "execution_count": null,
      "outputs": [
        {
          "output_type": "stream",
          "name": "stdout",
          "text": [
            "   A \n",
            "  B C \n",
            " D E F \n",
            "G H I J \n"
          ]
        }
      ]
    },
    {
      "cell_type": "code",
      "source": [
        "for i in range(1,6):\n",
        "  for j in range(1,6):\n",
        "    if(i==j or j==1 or i==5):\n",
        "      print(\"*\",end=\" \")\n",
        "    else:\n",
        "      print(\" \",end=\" \")\n",
        "  print()"
      ],
      "metadata": {
        "colab": {
          "base_uri": "https://localhost:8080/"
        },
        "id": "ochzUD6iP0ax",
        "outputId": "1e6d2077-cb23-418b-923f-ee8e4ce6af2f"
      },
      "execution_count": null,
      "outputs": [
        {
          "output_type": "stream",
          "name": "stdout",
          "text": [
            "*         \n",
            "* *       \n",
            "*   *     \n",
            "*     *   \n",
            "* * * * * \n"
          ]
        }
      ]
    },
    {
      "cell_type": "code",
      "source": [
        "for i in range(1,6):\n",
        "  for j in range(1,6):\n",
        "    if(i+j==1+5 or j==1 or i==1):\n",
        "      print(\"*\",end=\" \")\n",
        "    else:\n",
        "      print(\" \",end=\" \")\n",
        "  print()"
      ],
      "metadata": {
        "colab": {
          "base_uri": "https://localhost:8080/"
        },
        "id": "uGotOsygRbfy",
        "outputId": "4f37de76-dab2-425c-eaa1-c1abd4f89fde"
      },
      "execution_count": null,
      "outputs": [
        {
          "output_type": "stream",
          "name": "stdout",
          "text": [
            "* * * * * \n",
            "*     *   \n",
            "*   *     \n",
            "* *       \n",
            "*         \n"
          ]
        }
      ]
    },
    {
      "cell_type": "code",
      "source": [
        "for i in range(1,6):\n",
        "  for j in range(1,6):\n",
        "    if(i==j or j==1 or i==5):\n",
        "      print(j,end=\" \")\n",
        "    else:\n",
        "      print(\" \",end=\" \")\n",
        "  print()"
      ],
      "metadata": {
        "colab": {
          "base_uri": "https://localhost:8080/"
        },
        "id": "b5kjsuGXR7r1",
        "outputId": "ab2e1b9a-e162-43cb-aea3-4aec48725ce3"
      },
      "execution_count": null,
      "outputs": [
        {
          "output_type": "stream",
          "name": "stdout",
          "text": [
            "1         \n",
            "1 2       \n",
            "1   3     \n",
            "1     4   \n",
            "1 2 3 4 5 \n"
          ]
        }
      ]
    },
    {
      "cell_type": "code",
      "source": [
        "for i in range(1,6):\n",
        "  for k in range(5,i,-1):\n",
        "    print(\" \",end=\" \")\n",
        "  for j in range(1,6):\n",
        "    if(j==i or j==1 or i==5):\n",
        "      print(\" *\",end=\" \")\n",
        "    else:\n",
        "      print(\" \",end=\"  \")\n",
        "  print()"
      ],
      "metadata": {
        "colab": {
          "base_uri": "https://localhost:8080/"
        },
        "id": "rNraZEacSbS6",
        "outputId": "2ae29178-6c63-4204-9f96-c582aa5d7675"
      },
      "execution_count": null,
      "outputs": [
        {
          "output_type": "stream",
          "name": "stdout",
          "text": [
            "         *             \n",
            "       *  *          \n",
            "     *     *       \n",
            "   *        *    \n",
            " *  *  *  *  * \n"
          ]
        }
      ]
    }
  ]
}