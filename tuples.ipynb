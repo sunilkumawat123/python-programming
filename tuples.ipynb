{
 "cells": [
  {
   "cell_type": "code",
   "execution_count": 2,
   "id": "4c3ab101",
   "metadata": {},
   "outputs": [],
   "source": [
    "# # Tuple ()--->\n",
    "# (1.) identification =()\n",
    "# (2). immutable data type ===> we cannot change or update values at a run time\n",
    "# (3). indexing start from 0 and length start from 1"
   ]
  },
  {
   "cell_type": "code",
   "execution_count": 3,
   "id": "7008e010",
   "metadata": {},
   "outputs": [
    {
     "data": {
      "text/plain": [
       "('sam', 23, 34, 'raj')"
      ]
     },
     "execution_count": 3,
     "metadata": {},
     "output_type": "execute_result"
    }
   ],
   "source": [
    "a=('sam',23,34,'raj')\n",
    "a"
   ]
  },
  {
   "cell_type": "code",
   "execution_count": 4,
   "id": "ef15b16c",
   "metadata": {},
   "outputs": [
    {
     "name": "stdout",
     "output_type": "stream",
     "text": [
      "sam\n",
      "23\n",
      "34\n",
      "raj\n"
     ]
    }
   ],
   "source": [
    "print(a[0])\n",
    "print(a[1])\n",
    "print(a[2])\n",
    "print(a[3])"
   ]
  },
  {
   "cell_type": "code",
   "execution_count": 6,
   "id": "e2c1cd2b",
   "metadata": {},
   "outputs": [],
   "source": [
    "# Q.1. a=('sam',23,34,'raj') convert into a=('sam',200,34,'raj')\n",
    "\n"
   ]
  },
  {
   "cell_type": "code",
   "execution_count": 7,
   "id": "9c51b32e",
   "metadata": {},
   "outputs": [
    {
     "name": "stdout",
     "output_type": "stream",
     "text": [
      "('sam', 23, 34, 'raj')\n",
      "['sam', 23, 34, 'raj']\n",
      "['sam', 200, 34, 'raj']\n",
      "('sam', 200, 34, 'raj')\n"
     ]
    }
   ],
   "source": [
    "a=('sam',23,34,'raj')\n",
    "print(a)\n",
    "b=list(a)\n",
    "print(b)\n",
    "b[1]=200\n",
    "print(b)\n",
    "c=tuple(b)\n",
    "print(c)\n"
   ]
  },
  {
   "cell_type": "code",
   "execution_count": 8,
   "id": "fa6cd2e8",
   "metadata": {},
   "outputs": [
    {
     "name": "stdout",
     "output_type": "stream",
     "text": [
      "sam\n",
      "23\n",
      "34\n",
      "raj\n"
     ]
    }
   ],
   "source": [
    "#loop in tuple\n",
    "a=('sam',23,34,'raj')\n",
    "for i in a:\n",
    "    print(i)"
   ]
  },
  {
   "cell_type": "code",
   "execution_count": 9,
   "id": "23304055",
   "metadata": {},
   "outputs": [
    {
     "data": {
      "text/plain": [
       "4"
      ]
     },
     "execution_count": 9,
     "metadata": {},
     "output_type": "execute_result"
    }
   ],
   "source": [
    "len(a)"
   ]
  },
  {
   "cell_type": "code",
   "execution_count": 11,
   "id": "f7051992",
   "metadata": {},
   "outputs": [
    {
     "name": "stdout",
     "output_type": "stream",
     "text": [
      "sam\n",
      "23\n",
      "34\n",
      "raj\n"
     ]
    }
   ],
   "source": [
    "for i in range(len(a)):\n",
    "    print(a[i])"
   ]
  },
  {
   "cell_type": "code",
   "execution_count": 12,
   "id": "6b808f04",
   "metadata": {},
   "outputs": [
    {
     "data": {
      "text/plain": [
       "0"
      ]
     },
     "execution_count": 12,
     "metadata": {},
     "output_type": "execute_result"
    }
   ],
   "source": [
    "#index()\n",
    "a=('sam',23,34,'raj')\n",
    "a.index('sam')"
   ]
  },
  {
   "cell_type": "code",
   "execution_count": 13,
   "id": "ac523e92",
   "metadata": {},
   "outputs": [
    {
     "data": {
      "text/plain": [
       "4"
      ]
     },
     "execution_count": 13,
     "metadata": {},
     "output_type": "execute_result"
    }
   ],
   "source": [
    "#len()\n",
    "a=('sam',23,34,'raj')\n",
    "len(a)"
   ]
  },
  {
   "cell_type": "code",
   "execution_count": 17,
   "id": "4f744e69",
   "metadata": {},
   "outputs": [
    {
     "data": {
      "text/plain": [
       "12"
      ]
     },
     "execution_count": 17,
     "metadata": {},
     "output_type": "execute_result"
    }
   ],
   "source": [
    "#min()\n",
    "a=(12,23,123,231,23123)\n",
    "min(a)"
   ]
  },
  {
   "cell_type": "code",
   "execution_count": 18,
   "id": "2ba8335c",
   "metadata": {},
   "outputs": [
    {
     "data": {
      "text/plain": [
       "23123"
      ]
     },
     "execution_count": 18,
     "metadata": {},
     "output_type": "execute_result"
    }
   ],
   "source": [
    "max(a)"
   ]
  },
  {
   "cell_type": "code",
   "execution_count": 19,
   "id": "6866038a",
   "metadata": {},
   "outputs": [
    {
     "data": {
      "text/plain": [
       "1"
      ]
     },
     "execution_count": 19,
     "metadata": {},
     "output_type": "execute_result"
    }
   ],
   "source": [
    "#count()\n",
    "a.count(12)"
   ]
  },
  {
   "cell_type": "markdown",
   "id": "0722cdf4",
   "metadata": {},
   "source": [
    "### how we can create a user defined tuple()"
   ]
  },
  {
   "cell_type": "code",
   "execution_count": 20,
   "id": "c989eccf",
   "metadata": {},
   "outputs": [
    {
     "name": "stdout",
     "output_type": "stream",
     "text": [
      "enter size 3\n",
      "enter item: 23\n",
      "enter item: 12\n",
      "enter item: 333\n"
     ]
    },
    {
     "data": {
      "text/plain": [
       "('23', '12', '333')"
      ]
     },
     "execution_count": 20,
     "metadata": {},
     "output_type": "execute_result"
    }
   ],
   "source": [
    "a=[]\n",
    "size=int(input(\"enter size \"))\n",
    "for i in range(size):\n",
    "    val=input(\"enter item: \")\n",
    "    a.append(val)\n",
    "b=tuple(a)\n",
    "b"
   ]
  },
  {
   "cell_type": "code",
   "execution_count": 21,
   "id": "1d580a57",
   "metadata": {},
   "outputs": [
    {
     "data": {
      "text/plain": [
       "('23', 12, '333')"
      ]
     },
     "execution_count": 21,
     "metadata": {},
     "output_type": "execute_result"
    }
   ],
   "source": [
    "c=list(b)\n",
    "c[1]=int(c[1])\n",
    "d=tuple(c)\n",
    "d"
   ]
  },
  {
   "cell_type": "code",
   "execution_count": 22,
   "id": "9d09f7be",
   "metadata": {},
   "outputs": [
    {
     "data": {
      "text/plain": [
       "False"
      ]
     },
     "execution_count": 22,
     "metadata": {},
     "output_type": "execute_result"
    }
   ],
   "source": [
    "#isdigit()\n",
    "a='sam12'\n",
    "a.isdigit()\n"
   ]
  },
  {
   "cell_type": "code",
   "execution_count": 25,
   "id": "801687f9",
   "metadata": {},
   "outputs": [
    {
     "name": "stdout",
     "output_type": "stream",
     "text": [
      "('23', '23')\n",
      "('sam', 'raj')\n"
     ]
    }
   ],
   "source": [
    "a=('sam',\"23\",'34','raj')\n",
    "b=list(a)\n",
    "c=[]\n",
    "d=[]\n",
    "for i in range(len(b)):\n",
    "    if(b[i].isdigit()==True):\n",
    "        c.append(b[1])\n",
    "    elif(b[i].isalnum()==True):\n",
    "        d.append(b[i])\n",
    "e=tuple(c)\n",
    "f=tuple(d)\n",
    "print(e)\n",
    "print(f)"
   ]
  },
  {
   "cell_type": "code",
   "execution_count": 26,
   "id": "e71b9437",
   "metadata": {},
   "outputs": [
    {
     "data": {
      "text/plain": [
       "81"
      ]
     },
     "execution_count": 26,
     "metadata": {},
     "output_type": "execute_result"
    }
   ],
   "source": [
    "a=(12,23,34,12)\n",
    "sum(a)"
   ]
  },
  {
   "cell_type": "code",
   "execution_count": 27,
   "id": "d30f27e3",
   "metadata": {},
   "outputs": [
    {
     "name": "stdout",
     "output_type": "stream",
     "text": [
      "81\n"
     ]
    }
   ],
   "source": [
    "sum=0\n",
    "for i in range(len(a)):\n",
    "    sum=sum+a[i]\n",
    "print(sum)"
   ]
  },
  {
   "cell_type": "code",
   "execution_count": 28,
   "id": "a702c4f6",
   "metadata": {},
   "outputs": [
    {
     "name": "stdout",
     "output_type": "stream",
     "text": [
      "enter size 4\n",
      "enter number 23\n",
      "enter number 2\n",
      "enter number 12\n",
      "enter number 1\n",
      "(23, 2, 12, 1)\n",
      "total addition :  38\n"
     ]
    }
   ],
   "source": [
    "a=[]\n",
    "size=int(input(\"enter size \"))\n",
    "for i in range(size):\n",
    "    val=int(input(\"enter number \"))\n",
    "    a.append(val)\n",
    "b=tuple(a)\n",
    "print(b)\n",
    "sum=0\n",
    "for i in range(size):\n",
    "    sum=sum+b[i]\n",
    "print('total addition : ',sum)"
   ]
  },
  {
   "cell_type": "code",
   "execution_count": null,
   "id": "5e4346cd",
   "metadata": {},
   "outputs": [],
   "source": []
  }
 ],
 "metadata": {
  "kernelspec": {
   "display_name": "Python 3 (ipykernel)",
   "language": "python",
   "name": "python3"
  },
  "language_info": {
   "codemirror_mode": {
    "name": "ipython",
    "version": 3
   },
   "file_extension": ".py",
   "mimetype": "text/x-python",
   "name": "python",
   "nbconvert_exporter": "python",
   "pygments_lexer": "ipython3",
   "version": "3.10.9"
  }
 },
 "nbformat": 4,
 "nbformat_minor": 5
}
