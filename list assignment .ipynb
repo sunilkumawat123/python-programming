{
 "cells": [
  {
   "cell_type": "code",
   "execution_count": 1,
   "id": "12e316e5",
   "metadata": {},
   "outputs": [
    {
     "name": "stdout",
     "output_type": "stream",
     "text": [
      "[1, 3, 5, 7, 9, 11, 13, 15, 17, 19, 21, 23, 25, 27, 29, 31, 33, 35, 37, 39, 41, 43, 45, 47, 49]\n"
     ]
    }
   ],
   "source": [
    "# 1. Write a program to print the first 25 odd numbers in list\n",
    "lst=[]\n",
    "for i in range(1,51):\n",
    "    if(i%2!=0):\n",
    "        lst.append(i)\n",
    "print(lst)"
   ]
  },
  {
   "cell_type": "code",
   "execution_count": 4,
   "id": "8fbbf85e",
   "metadata": {},
   "outputs": [
    {
     "name": "stdout",
     "output_type": "stream",
     "text": [
      "enter string32erwsd\n",
      "wsred32\n"
     ]
    }
   ],
   "source": [
    "# 2. Arrange string characters such that lowercase letters should come first\n",
    "a=input(\"enter string\")\n",
    "s=\"\".join(sorted(a))\n",
    "print(s[::-1])"
   ]
  },
  {
   "cell_type": "code",
   "execution_count": 15,
   "id": "2be7bedf",
   "metadata": {},
   "outputs": [
    {
     "name": "stdout",
     "output_type": "stream",
     "text": [
      "count of digit 3\n",
      "count of chars 8\n",
      "count of symbols 4\n"
     ]
    }
   ],
   "source": [
    "# 3. Count all letters, digits, and special symbols from a given string\n",
    "# a. given-->str1 = \"P@#yn26at^&i5ve\"\n",
    "# b. expected-->Total counts of chars, digits, and symbols\n",
    "str1 = \"P@#yn26at^&i5ve\"\n",
    "d_count=0\n",
    "c_count=0\n",
    "a=0\n",
    "for i in str1:\n",
    "    if i.isdigit():\n",
    "        d_count=d_count+1\n",
    "    elif(i.isalpha()):\n",
    "        c_count=c_count+1\n",
    "    elif(i.isprintable()):\n",
    "        a=a+1\n",
    "print(\"count of digit\", d_count)\n",
    "print(\"count of chars\", c_count)\n",
    "print(\"count of symbols\", a)\n"
   ]
  },
  {
   "cell_type": "code",
   "execution_count": 18,
   "id": "c1bd8d1a",
   "metadata": {},
   "outputs": [
    {
     "name": "stdout",
     "output_type": "stream",
     "text": [
      "['', 'asd', '', 'gsdf']\n",
      "['asd', 'gsdf']\n"
     ]
    }
   ],
   "source": [
    "# 4. Remove empty strings from a list of strings\n",
    "lst=['','asd','','gsdf']\n",
    "print(lst)\n",
    "for i in lst:\n",
    "    if(len(i)==0):\n",
    "        lst.remove(i)\n",
    "print(lst)"
   ]
  },
  {
   "cell_type": "code",
   "execution_count": 13,
   "id": "ef4439bc",
   "metadata": {},
   "outputs": [
    {
     "name": "stdout",
     "output_type": "stream",
     "text": [
      "\n",
      " wsasda\n"
     ]
    }
   ],
   "source": [
    "# 5. Remove special symbols / punctuation from a string\n",
    "str1='!@#$%wsasda'\n",
    "s=''\n",
    "for i in str1:\n",
    "    if i in '!@#$%^&*~':\n",
    "        str1=str1.removeprefix(i)\n",
    "#         print(i,end=\" \")\n",
    "print(\"\\n\",str1)"
   ]
  },
  {
   "cell_type": "code",
   "execution_count": 22,
   "id": "14f95743",
   "metadata": {},
   "outputs": [
    {
     "name": "stdout",
     "output_type": "stream",
     "text": [
      "2510\n"
     ]
    }
   ],
   "source": [
    "# 6. Removal all characters from a string except integers\n",
    "# a. str1 = 'I am 25 years and 10 months old'\n",
    "# b. expected-->2510\n",
    "\n",
    "str1 = 'I am 25 years and 10 months old'\n",
    "str2=''\n",
    "for i in str1:\n",
    "    if i.isdigit():\n",
    "        str2=str2 +i\n",
    "print(str2)"
   ]
  },
  {
   "cell_type": "code",
   "execution_count": 49,
   "id": "11defa53",
   "metadata": {},
   "outputs": [],
   "source": []
  },
  {
   "cell_type": "code",
   "execution_count": 58,
   "id": "4bcebd9d",
   "metadata": {},
   "outputs": [
    {
     "name": "stdout",
     "output_type": "stream",
     "text": [
      "service provider name is : datavizion.com\n",
      "service provider name is : yahoo.com\n",
      "service provider name is : google.com\n",
      "service provider name is : health\n"
     ]
    }
   ],
   "source": [
    "# 7. extract the email service provider name\n",
    "emaillist=[\"KSR@datavizion.com\",\"mymail@yahoo.com\",\"milindmali@google.com\",\"snehal@health\"]\n",
    "   \n",
    "for i in emaillist:\n",
    "    email = i.index('@')\n",
    "#     print(email)\n",
    "    print(\"service provider name is : \" + i[email+1:])\n",
    "# print(\""
   ]
  },
  {
   "cell_type": "code",
   "execution_count": 66,
   "id": "a7210ca1",
   "metadata": {},
   "outputs": [],
   "source": [
    "# 8. extract all the emailid for the given string\n",
    "# a. string=\"Hi my name is Govind Das and my mail id is\n",
    "# milindmali108@gmail.com and my org\n",
    "# b. Output => milindmali108@gmail.com"
   ]
  },
  {
   "cell_type": "code",
   "execution_count": 67,
   "id": "5af0c6ce",
   "metadata": {},
   "outputs": [
    {
     "name": "stdout",
     "output_type": "stream",
     "text": [
      "milindmali108@gmail.com\n"
     ]
    }
   ],
   "source": [
    "string=\"Hi my name is Govind Das and my mail id is milindmali108@gmail.com and my org\"\n",
    "str1=string.split()\n",
    "for i in range(len(str1)):\n",
    "    if '@' in str1[i]:\n",
    "        print(str1[i])"
   ]
  },
  {
   "cell_type": "code",
   "execution_count": 69,
   "id": "9b07cdf9",
   "metadata": {},
   "outputs": [],
   "source": [
    "# 9. Create a Python set such that it shows the element from both lists in a pair\n",
    "# a. first_list = [2, 3, 4, 5, 6, 7, 8]\n",
    "# b. second_list = [4, 9, 16, 25, 36, 49, 64]\n",
    "# c. Result is {(6, 36), (8, 64), (4, 16), (5, 25), (3, 9), (7, 49), (2, 4)}"
   ]
  },
  {
   "cell_type": "code",
   "execution_count": 85,
   "id": "5a3bba87",
   "metadata": {},
   "outputs": [
    {
     "name": "stdout",
     "output_type": "stream",
     "text": [
      "{(7, 49), (2, 4), (4, 16), (8, 64), (6, 36), (3, 9), (5, 25)}\n"
     ]
    }
   ],
   "source": [
    "first_list = [2, 3, 4, 5, 6, 7, 8]\n",
    "second_list = [4, 9, 16, 25, 36, 49, 64]\n",
    "set1=set()\n",
    "for i in first_list:\n",
    "    for j in second_list:\n",
    "        if(i**2==j):\n",
    "            set1.update([(i,j)])\n",
    "print(se)"
   ]
  },
  {
   "cell_type": "code",
   "execution_count": 86,
   "id": "c7bae606",
   "metadata": {},
   "outputs": [
    {
     "name": "stdout",
     "output_type": "stream",
     "text": [
      "[9, 8, 7, 6, 5, 4]\n"
     ]
    }
   ],
   "source": [
    "# 10. Write a program to reverse a List in Python\n",
    "# a. list = [4, 5, 6, 7, 8, 9]\n",
    "# b. Output => [9, 8, 7, 6, 5, 4]\n",
    "\n",
    "lst = [4, 5, 6, 7, 8, 9]\n",
    "print(lst[::-1])"
   ]
  },
  {
   "cell_type": "code",
   "execution_count": 87,
   "id": "07690d9c",
   "metadata": {},
   "outputs": [
    {
     "name": "stdout",
     "output_type": "stream",
     "text": [
      "[4, 5, 6, 7, 8, 9]\n"
     ]
    }
   ],
   "source": [
    "# 11. Write a program to clone or copy the list:\n",
    "ist = [4, 5, 6, 7, 8, 9]\n",
    "clone=ist\n",
    "print(clone)"
   ]
  },
  {
   "cell_type": "code",
   "execution_count": 89,
   "id": "017b534b",
   "metadata": {},
   "outputs": [
    {
     "name": "stdout",
     "output_type": "stream",
     "text": [
      "[5, 10, 9, 16, 11, 9]\n"
     ]
    }
   ],
   "source": [
    "# 12. Write a program to get sum of number of digit in a list\n",
    "\n",
    "lst=[41, 235, 36, 457, 38, 9]\n",
    "lst2=[]\n",
    "for i in lst:\n",
    "    sum1=0\n",
    "    rem=0\n",
    "    while(i>0):\n",
    "        rem=i%10\n",
    "        sum1=sum1+rem\n",
    "        i=i//10\n",
    "    lst2.append(sum1)\n",
    "print(lst2)\n",
    "    "
   ]
  },
  {
   "cell_type": "code",
   "execution_count": 90,
   "id": "5067344a",
   "metadata": {},
   "outputs": [
    {
     "data": {
      "text/plain": [
       "4"
      ]
     },
     "execution_count": 90,
     "metadata": {},
     "output_type": "execute_result"
    }
   ],
   "source": [
    "# 13. Write a program to get the smallest number in a list\n",
    "\n",
    "# Note => without using reverse(), sort() and slicing operator\n",
    "\n",
    "lst = [4, 5, 6, 7, 8, 9]\n",
    "min(lst)"
   ]
  },
  {
   "cell_type": "code",
   "execution_count": 5,
   "id": "3ef3cfd3",
   "metadata": {},
   "outputs": [
    {
     "name": "stdout",
     "output_type": "stream",
     "text": [
      "2\n"
     ]
    }
   ],
   "source": [
    "lst = [4, 5, 2,6, 7, 8, 9]\n",
    "min1=lst[0]\n",
    "for i in lst:\n",
    "    if(i<min1):\n",
    "        min1=i\n",
    "print(min1)"
   ]
  },
  {
   "cell_type": "code",
   "execution_count": 6,
   "id": "3b1a2767",
   "metadata": {},
   "outputs": [
    {
     "name": "stdout",
     "output_type": "stream",
     "text": [
      "even 6\n",
      "odd 1\n"
     ]
    }
   ],
   "source": [
    "# 14. Write a program to print the count of even and odd number from a list\n",
    "# 14. Write a program to print the count of even and odd number from a list\n",
    "lst=[34,34,23,12,34,4,2]\n",
    "e_c=0\n",
    "o_c=0\n",
    "for i in lst:\n",
    "    if(i%2==0):\n",
    "        e_c=e_c+1\n",
    "    else:\n",
    "        o_c=o_c+1\n",
    "print(\"even\",e_c)\n",
    "print(\"odd\",o_c)"
   ]
  },
  {
   "cell_type": "code",
   "execution_count": 7,
   "id": "21ad4e55",
   "metadata": {},
   "outputs": [
    {
     "name": "stdout",
     "output_type": "stream",
     "text": [
      "5\n"
     ]
    }
   ],
   "source": [
    "# 15. Write a program to get count of unique values inside a list\n",
    "# a. input_list = [1, 2, 2, 5, 8, 4, 4, 8]\n",
    "# b. Output => 5\n",
    "\n",
    "input_list = [1, 2, 2, 5, 8, 4, 4, 8]\n",
    "a=[]\n",
    "c=0\n",
    "for i in input_list:\n",
    "    if i not in a:\n",
    "        a.append(i)\n",
    "        c=c+1\n",
    "print(c)"
   ]
  },
  {
   "cell_type": "code",
   "execution_count": null,
   "id": "b5507554",
   "metadata": {},
   "outputs": [],
   "source": []
  }
 ],
 "metadata": {
  "kernelspec": {
   "display_name": "Python 3 (ipykernel)",
   "language": "python",
   "name": "python3"
  },
  "language_info": {
   "codemirror_mode": {
    "name": "ipython",
    "version": 3
   },
   "file_extension": ".py",
   "mimetype": "text/x-python",
   "name": "python",
   "nbconvert_exporter": "python",
   "pygments_lexer": "ipython3",
   "version": "3.10.9"
  }
 },
 "nbformat": 4,
 "nbformat_minor": 5
}
