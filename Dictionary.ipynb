{
  "nbformat": 4,
  "nbformat_minor": 0,
  "metadata": {
    "colab": {
      "provenance": []
    },
    "kernelspec": {
      "name": "python3",
      "display_name": "Python 3"
    },
    "language_info": {
      "name": "python"
    }
  },
  "cells": [
    {
      "cell_type": "code",
      "execution_count": null,
      "metadata": {
        "colab": {
          "base_uri": "https://localhost:8080/"
        },
        "id": "xZ3H-jI93K0P",
        "outputId": "00b7a848-04d4-449e-8401-30dcfcc54418"
      },
      "outputs": [
        {
          "output_type": "stream",
          "name": "stdout",
          "text": [
            "tushar\n"
          ]
        }
      ],
      "source": [
        "mydictionary={10:'tushar',20:'sunil'}\n",
        "print(mydictionary[10])"
      ]
    },
    {
      "cell_type": "code",
      "source": [
        "mydictionary[30]=\"suman\"\n",
        "print(mydictionary)"
      ],
      "metadata": {
        "colab": {
          "base_uri": "https://localhost:8080/"
        },
        "id": "7YdIknt130uS",
        "outputId": "3f6b2c2f-0f40-4d86-d105-e99e0e574742"
      },
      "execution_count": null,
      "outputs": [
        {
          "output_type": "stream",
          "name": "stdout",
          "text": [
            "{10: 'deepak', 20: 'sunil', 30: 'suman'}\n"
          ]
        }
      ]
    },
    {
      "cell_type": "code",
      "source": [
        "del mydictionary[10]\n",
        "print(mydictionary)"
      ],
      "metadata": {
        "colab": {
          "base_uri": "https://localhost:8080/"
        },
        "id": "19ospzPG4i35",
        "outputId": "e4236a45-7d3e-4c61-a3d5-87dff263b403"
      },
      "execution_count": null,
      "outputs": [
        {
          "output_type": "stream",
          "name": "stdout",
          "text": [
            "{20: 'sunil', 30: 'suman'}\n"
          ]
        }
      ]
    },
    {
      "cell_type": "code",
      "source": [
        "mydictionary[10]=\"tushar\"\n",
        "print(mydictionary)\n",
        "mydictionary.clear()\n",
        "print(mydictionary)"
      ],
      "metadata": {
        "colab": {
          "base_uri": "https://localhost:8080/"
        },
        "id": "lVtjtAli5jvb",
        "outputId": "e072ccdc-8e8a-4296-f425-cf1c0b465b11"
      },
      "execution_count": null,
      "outputs": [
        {
          "output_type": "stream",
          "name": "stdout",
          "text": [
            "{10: 'tushar'}\n",
            "{}\n"
          ]
        }
      ]
    },
    {
      "cell_type": "code",
      "source": [
        "mydictionary={10:\"sunil\",20:\"umesh\",30:\"tushar\",40:\"harsh\"}\n",
        "print(mydictionary)"
      ],
      "metadata": {
        "colab": {
          "base_uri": "https://localhost:8080/"
        },
        "id": "pVkWKhhF68eC",
        "outputId": "e577af11-9460-47f9-8f06-c92b595562eb"
      },
      "execution_count": null,
      "outputs": [
        {
          "output_type": "stream",
          "name": "stdout",
          "text": [
            "{10: 'sunil', 20: 'umesh', 30: 'tushar', 40: 'harsh'}\n"
          ]
        }
      ]
    },
    {
      "cell_type": "code",
      "source": [
        "x=mydictionary.pop(30)\n",
        "print(mydictionary,x)"
      ],
      "metadata": {
        "colab": {
          "base_uri": "https://localhost:8080/"
        },
        "id": "zdi6In6h4wU_",
        "outputId": "fd6f0cac-b8eb-4b92-b302-6ddfca0ce5e5"
      },
      "execution_count": null,
      "outputs": [
        {
          "output_type": "stream",
          "name": "stdout",
          "text": [
            "{10: 'yash'} suman\n"
          ]
        }
      ]
    },
    {
      "cell_type": "code",
      "source": [
        "mydictionary.keys()\n"
      ],
      "metadata": {
        "colab": {
          "base_uri": "https://localhost:8080/"
        },
        "id": "L525auHi5_hD",
        "outputId": "59bc8585-927e-4b79-ad56-dbb04e21e316"
      },
      "execution_count": null,
      "outputs": [
        {
          "output_type": "execute_result",
          "data": {
            "text/plain": [
              "dict_keys([10, 20, 30, 40])"
            ]
          },
          "metadata": {},
          "execution_count": 22
        }
      ]
    },
    {
      "cell_type": "code",
      "source": [
        "mydictionary.values()\n"
      ],
      "metadata": {
        "colab": {
          "base_uri": "https://localhost:8080/"
        },
        "id": "RGjf2eC86FdI",
        "outputId": "f0cf6505-9733-4639-9db6-133e083884b1"
      },
      "execution_count": null,
      "outputs": [
        {
          "output_type": "execute_result",
          "data": {
            "text/plain": [
              "dict_values(['sunil', 'umesh', 'tushar', 'harsh'])"
            ]
          },
          "metadata": {},
          "execution_count": 23
        }
      ]
    },
    {
      "cell_type": "code",
      "source": [
        "mydictionary.items()"
      ],
      "metadata": {
        "colab": {
          "base_uri": "https://localhost:8080/"
        },
        "id": "4F5oaDhR7fpf",
        "outputId": "e180737a-57bc-4f23-f2d0-9e4578597b09"
      },
      "execution_count": null,
      "outputs": [
        {
          "output_type": "execute_result",
          "data": {
            "text/plain": [
              "dict_items([(10, 'sunil'), (20, 'umesh'), (30, 'tushar'), (40, 'harsh')])"
            ]
          },
          "metadata": {},
          "execution_count": 24
        }
      ]
    },
    {
      "cell_type": "code",
      "source": [
        "mydictionary.update({60:\"suman\"})\n",
        "print(mydictionary)"
      ],
      "metadata": {
        "colab": {
          "base_uri": "https://localhost:8080/"
        },
        "id": "jhFC647P8B0X",
        "outputId": "969af6c6-d32f-47f0-c998-6d0745de9b7d"
      },
      "execution_count": null,
      "outputs": [
        {
          "output_type": "stream",
          "name": "stdout",
          "text": [
            "{10: 'sunil', 20: 'umesh', 30: 'tushar', 40: 'harsh', 60: 'suman'}\n"
          ]
        }
      ]
    },
    {
      "cell_type": "code",
      "source": [
        "for i in mydictionary:\n",
        "  print(i,mydictionary[i])"
      ],
      "metadata": {
        "colab": {
          "base_uri": "https://localhost:8080/"
        },
        "id": "UdVt1Gkf8Yz-",
        "outputId": "2aebc6d2-521d-4fb6-8c11-33bbea1cbc37"
      },
      "execution_count": null,
      "outputs": [
        {
          "output_type": "stream",
          "name": "stdout",
          "text": [
            "10 sunil\n",
            "20 umesh\n",
            "30 tushar\n",
            "40 harsh\n",
            "60 suman\n"
          ]
        }
      ]
    },
    {
      "cell_type": "code",
      "source": [
        "mylist=[10,20,30,40]\n",
        "\n",
        "dict={\"totalvalues\": 0}\n",
        "for i in mylist:\n",
        "  dict[\"totalvalues\"]=dict[\"totalvalues\"]+1\n",
        "\n",
        "print(dict)\n"
      ],
      "metadata": {
        "colab": {
          "base_uri": "https://localhost:8080/"
        },
        "id": "VMsyFV8_9q9F",
        "outputId": "4d5ab74a-9b35-4477-feef-538031d74a1b"
      },
      "execution_count": null,
      "outputs": [
        {
          "output_type": "stream",
          "name": "stdout",
          "text": [
            "{'totalvalues': 4}\n"
          ]
        }
      ]
    },
    {
      "cell_type": "code",
      "source": [
        "mydict={}\n",
        "for char in \"rhytm\":\n",
        "  if char not in mydict:\n",
        "    mydict[char]=1\n",
        "\n",
        "print(mydict)"
      ],
      "metadata": {
        "colab": {
          "base_uri": "https://localhost:8080/"
        },
        "id": "74x2Lqa3CGU4",
        "outputId": "7b84a49e-713d-45cd-c2a1-81af34cc7117"
      },
      "execution_count": null,
      "outputs": [
        {
          "output_type": "stream",
          "name": "stdout",
          "text": [
            "{'r': 1, 'h': 1, 'y': 1, 't': 1, 'm': 1}\n"
          ]
        }
      ]
    },
    {
      "cell_type": "code",
      "source": [
        "mydict={}\n",
        "for char in \"heeelloo\":\n",
        "  if char in \"aeiou\":\n",
        "    if char in mydict:\n",
        "      mydict[char]=mydict[char]+1\n",
        "    else:\n",
        "\n",
        "     mydict[char]=1\n",
        "print(mydict)\n",
        "\n"
      ],
      "metadata": {
        "colab": {
          "base_uri": "https://localhost:8080/"
        },
        "id": "sxqbSJBTFzKm",
        "outputId": "eb457b14-50f5-43b0-b9ee-727be9c2c043"
      },
      "execution_count": null,
      "outputs": [
        {
          "output_type": "stream",
          "name": "stdout",
          "text": [
            "{'e': 3, 'o': 2}\n"
          ]
        }
      ]
    },
    {
      "cell_type": "code",
      "source": [
        "for char in \"hey\":\n",
        "  if char in \"yhe\":\n",
        "   print(\"character is same\")\n",
        "  else:\n",
        "    print(\"character is not same\")"
      ],
      "metadata": {
        "colab": {
          "base_uri": "https://localhost:8080/"
        },
        "id": "YGuI9x7NHFdV",
        "outputId": "4958a183-082b-40c8-bd63-b7a93eaa85da"
      },
      "execution_count": null,
      "outputs": [
        {
          "output_type": "stream",
          "name": "stdout",
          "text": [
            "character is same\n",
            "character is same\n",
            "character is same\n"
          ]
        }
      ]
    },
    {
      "cell_type": "code",
      "source": [
        "for char in \"hey\":\n",
        "    if char in \"yhe\":\n",
        "        print(f\"{char}: character is in 'yhe'\")\n",
        "    else:\n",
        "        print(f\"{char}: character is not in 'yhe'\")"
      ],
      "metadata": {
        "colab": {
          "base_uri": "https://localhost:8080/"
        },
        "id": "Ngts-WTMK3nc",
        "outputId": "e12d1cbd-3b09-4b50-da52-8de1be374e01"
      },
      "execution_count": null,
      "outputs": [
        {
          "output_type": "stream",
          "name": "stdout",
          "text": [
            "h: character is in 'yhe'\n",
            "e: character is in 'yhe'\n",
            "y: character is in 'yhe'\n"
          ]
        }
      ]
    },
    {
      "cell_type": "code",
      "source": [],
      "metadata": {
        "id": "YJg1zPWfLE3q"
      },
      "execution_count": null,
      "outputs": []
    }
  ]
}