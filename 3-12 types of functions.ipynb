{
 "cells": [
  {
   "cell_type": "code",
   "execution_count": 4,
   "id": "59f359ee",
   "metadata": {},
   "outputs": [],
   "source": [
    "# 1. required argument:\n",
    "# 2. positional argument\n",
    "# 3. keyword argument\n",
    "# 4.  default argument \n",
    "# 5. variable length argument\n",
    "# 6. # keyword variable length argument\n"
   ]
  },
  {
   "cell_type": "code",
   "execution_count": 5,
   "id": "8f9239c2",
   "metadata": {},
   "outputs": [
    {
     "name": "stdout",
     "output_type": "stream",
     "text": [
      "datails 12 asd 34\n"
     ]
    }
   ],
   "source": [
    "def func(id,name,age):    #keyword argument\n",
    "    print(\"datails\",id,name,age)\n",
    "func(12,'asd',34)"
   ]
  },
  {
   "cell_type": "code",
   "execution_count": 6,
   "id": "ee9d26c0",
   "metadata": {},
   "outputs": [
    {
     "name": "stdout",
     "output_type": "stream",
     "text": [
      "datails 12 asd 34\n",
      "datails 12 asd 23\n"
     ]
    }
   ],
   "source": [
    "def func(id,name,age=23): #default argument   \n",
    "    print(\"datails\",id,name,age)\n",
    "func(12,'asd',34)\n",
    "func(12,'asd')"
   ]
  },
  {
   "cell_type": "code",
   "execution_count": 9,
   "id": "e5fb7732",
   "metadata": {},
   "outputs": [
    {
     "name": "stdout",
     "output_type": "stream",
     "text": [
      "details : (23, 45) <class 'tuple'>\n"
     ]
    }
   ],
   "source": [
    "# 5. variable length argument\n",
    "def func(*x):\n",
    "    print(\"details :\",x, type(x))\n",
    "func(23,45)"
   ]
  },
  {
   "cell_type": "code",
   "execution_count": 12,
   "id": "ab20ff84",
   "metadata": {},
   "outputs": [
    {
     "name": "stdout",
     "output_type": "stream",
     "text": [
      "details : 23 (45, 45)\n"
     ]
    }
   ],
   "source": [
    "def func(a,*x):\n",
    "    print(\"details :\",a,x)\n",
    "func(23,45,45)"
   ]
  },
  {
   "cell_type": "code",
   "execution_count": 15,
   "id": "a39c9612",
   "metadata": {},
   "outputs": [
    {
     "name": "stdout",
     "output_type": "stream",
     "text": [
      "details:  {'id': 12, 'name': 'hey'} <class 'dict'>\n",
      "details:  {'id': 123} <class 'dict'>\n"
     ]
    }
   ],
   "source": [
    "# keyword variable length argument\n",
    "def func( **x):\n",
    "    print(\"details: \",x,type(x))\n",
    "    \n",
    "func(id=12,name='hey')\n",
    "func(id=123)"
   ]
  },
  {
   "cell_type": "code",
   "execution_count": 16,
   "id": "879b60df",
   "metadata": {},
   "outputs": [],
   "source": [
    "# args: variable length argument\n",
    "# kwargs: keyword variable length argument"
   ]
  },
  {
   "cell_type": "code",
   "execution_count": 21,
   "id": "bc44633b",
   "metadata": {},
   "outputs": [
    {
     "name": "stdout",
     "output_type": "stream",
     "text": [
      "[-1, 0, 1]\n",
      "[-1, 2, -1]\n",
      "[0, 1, -1]\n"
     ]
    }
   ],
   "source": [
    "nums = [-1,0,1,2,-1,-4]\n",
    "# Output: [[-1,-1,2],[-1,0,1]]\n",
    "for i in range(0,len(nums)):\n",
    "    for j in range(i,len(nums)):\n",
    "        for k in range(j,len(nums)):\n",
    "#              i != j, i != k, and j != k, \n",
    "            if(nums[i]+nums[j]+nums[k]==0 and i != j and i != k and j != k):\n",
    "#                 print(i,j,k)\n",
    "                print([nums[i],nums[j],nums[k]])\n",
    "                break"
   ]
  },
  {
   "cell_type": "code",
   "execution_count": 3,
   "id": "fe2db994",
   "metadata": {},
   "outputs": [
    {
     "name": "stdout",
     "output_type": "stream",
     "text": [
      "[[-1, -1, 2], [-1, 0, 1]]\n"
     ]
    }
   ],
   "source": [
    "nums = [-1,0,1,2,-1,-4]\n",
    "nums=sorted(nums)\n",
    "lst=[]\n",
    "for i in range(0,len(nums)-2):\n",
    "    j=i+1\n",
    "    k=len(nums)-1\n",
    "    while(j<k):\n",
    "        if(nums[i]+nums[j]+nums[k]==0):\n",
    "            lst.append([nums[i],nums[j],nums[k]])\n",
    "            break\n",
    "        elif(nums[i]+nums[j]+nums[k]>0):\n",
    "            k-=1\n",
    "        else:\n",
    "            j+=1\n",
    "            \n",
    "print(lst)"
   ]
  },
  {
   "cell_type": "raw",
   "id": "c64a4663",
   "metadata": {},
   "source": [
    "#high oreder function\n",
    "    A higher-order function is a function that takes one or more functions as arguments, or returns a function or value as its result\n",
    "# first class function"
   ]
  }
 ],
 "metadata": {
  "kernelspec": {
   "display_name": "Python 3 (ipykernel)",
   "language": "python",
   "name": "python3"
  },
  "language_info": {
   "codemirror_mode": {
    "name": "ipython",
    "version": 3
   },
   "file_extension": ".py",
   "mimetype": "text/x-python",
   "name": "python",
   "nbconvert_exporter": "python",
   "pygments_lexer": "ipython3",
   "version": "3.10.9"
  }
 },
 "nbformat": 4,
 "nbformat_minor": 5
}
