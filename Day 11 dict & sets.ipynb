{
 "cells": [
  {
   "cell_type": "markdown",
   "id": "a2fbecd1",
   "metadata": {},
   "source": [
    "## Dictonary in python"
   ]
  },
  {
   "cell_type": "code",
   "execution_count": 1,
   "id": "29929b5e",
   "metadata": {},
   "outputs": [],
   "source": [
    "# (1). Identification ={key:value, key:value,....}\n",
    "# (2). Mutable data type from values\n",
    "# (3). Elements are separated by comas"
   ]
  },
  {
   "cell_type": "code",
   "execution_count": 2,
   "id": "f23b7f16",
   "metadata": {},
   "outputs": [
    {
     "data": {
      "text/plain": [
       "{'brand': 'kia', 'model': 'seltos', 'year': 2022}"
      ]
     },
     "execution_count": 2,
     "metadata": {},
     "output_type": "execute_result"
    }
   ],
   "source": [
    "a={'brand':'kia','model':'seltos','year':2022}\n",
    "a"
   ]
  },
  {
   "cell_type": "code",
   "execution_count": 3,
   "id": "2c8c67b8",
   "metadata": {},
   "outputs": [
    {
     "data": {
      "text/plain": [
       "dict"
      ]
     },
     "execution_count": 3,
     "metadata": {},
     "output_type": "execute_result"
    }
   ],
   "source": [
    "type(a)"
   ]
  },
  {
   "cell_type": "code",
   "execution_count": 5,
   "id": "ffc91104",
   "metadata": {},
   "outputs": [
    {
     "name": "stdout",
     "output_type": "stream",
     "text": [
      "kia\n",
      "seltos\n",
      "2022\n"
     ]
    }
   ],
   "source": [
    "print(a['brand'])\n",
    "print(a['model'])\n",
    "print(a['year'])"
   ]
  },
  {
   "cell_type": "code",
   "execution_count": 7,
   "id": "0d9a9d7e",
   "metadata": {},
   "outputs": [
    {
     "data": {
      "text/plain": [
       "{'brand': 'kia', 'model': 'seltos', 'year': 2024}"
      ]
     },
     "execution_count": 7,
     "metadata": {},
     "output_type": "execute_result"
    }
   ],
   "source": [
    "a['year']=2024\n",
    "a"
   ]
  },
  {
   "cell_type": "code",
   "execution_count": 10,
   "id": "52860f34",
   "metadata": {},
   "outputs": [
    {
     "name": "stdout",
     "output_type": "stream",
     "text": [
      "brand\n",
      "model\n",
      "year\n"
     ]
    }
   ],
   "source": [
    "#loop in dictionary\n",
    "for i in a.keys():     # extract all keys\n",
    "    print(i)"
   ]
  },
  {
   "cell_type": "code",
   "execution_count": 12,
   "id": "608a63bd",
   "metadata": {},
   "outputs": [
    {
     "name": "stdout",
     "output_type": "stream",
     "text": [
      "kia\n",
      "seltos\n",
      "2024\n"
     ]
    }
   ],
   "source": [
    "for i in a.values():     # extract all values\n",
    "    print(i)"
   ]
  },
  {
   "cell_type": "code",
   "execution_count": 14,
   "id": "c55d5305",
   "metadata": {},
   "outputs": [
    {
     "name": "stdout",
     "output_type": "stream",
     "text": [
      "brand kia\n",
      "model seltos\n",
      "year 2024\n"
     ]
    }
   ],
   "source": [
    "for i,y in a.items():     # extract all keys and values parallel\n",
    "    print(i,y)"
   ]
  },
  {
   "cell_type": "code",
   "execution_count": 15,
   "id": "6b7f4ed3",
   "metadata": {},
   "outputs": [
    {
     "data": {
      "text/plain": [
       "3"
      ]
     },
     "execution_count": 15,
     "metadata": {},
     "output_type": "execute_result"
    }
   ],
   "source": [
    "len(a)"
   ]
  },
  {
   "cell_type": "code",
   "execution_count": 16,
   "id": "eedc8b2c",
   "metadata": {},
   "outputs": [
    {
     "name": "stdout",
     "output_type": "stream",
     "text": [
      "{'brand': 'kia', 'model': 'seltos', 'year': 2024}\n",
      "{'brand': 'kia', 'model': 'seltos', 'year': 2025}\n",
      "{'brand': 'kia', 'model': 'seltos'}\n",
      "{'brand': 'kia'}\n"
     ]
    }
   ],
   "source": [
    "print(a)\n",
    "a['year']=2025\n",
    "print(a)\n",
    "a.popitem()   ## removes last key value pair\n",
    "print(a)\n",
    "a.pop('model')   ## remove specific key:value\n",
    "print(a)"
   ]
  },
  {
   "cell_type": "code",
   "execution_count": 19,
   "id": "36c2aadc",
   "metadata": {},
   "outputs": [
    {
     "name": "stdout",
     "output_type": "stream",
     "text": [
      "{}\n"
     ]
    }
   ],
   "source": [
    "a.clear()\n",
    "print(a)"
   ]
  },
  {
   "cell_type": "code",
   "execution_count": 41,
   "id": "dae579fb",
   "metadata": {},
   "outputs": [
    {
     "data": {
      "text/plain": [
       "{'id': [12, 23, 34], 'name': ['shiv', 'aado']}"
      ]
     },
     "execution_count": 41,
     "metadata": {},
     "output_type": "execute_result"
    }
   ],
   "source": [
    "a={\n",
    "    'id':[12,23,34],\n",
    "    'name':['shiv','aado']\n",
    "}\n",
    "a"
   ]
  },
  {
   "cell_type": "code",
   "execution_count": 44,
   "id": "722da365",
   "metadata": {},
   "outputs": [
    {
     "data": {
      "text/plain": [
       "23"
      ]
     },
     "execution_count": 44,
     "metadata": {},
     "output_type": "execute_result"
    }
   ],
   "source": [
    "a['id'][1]"
   ]
  },
  {
   "cell_type": "markdown",
   "id": "55d08a88",
   "metadata": {},
   "source": [
    "## sets in python"
   ]
  },
  {
   "cell_type": "code",
   "execution_count": 20,
   "id": "a3b072da",
   "metadata": {},
   "outputs": [],
   "source": [
    "# identification ={}\n",
    "# mutable data type\n",
    "# unordered , unindexed and does not allow duplicates value"
   ]
  },
  {
   "cell_type": "code",
   "execution_count": 21,
   "id": "035af626",
   "metadata": {},
   "outputs": [
    {
     "name": "stdout",
     "output_type": "stream",
     "text": [
      "{'sam', 12, 23}\n"
     ]
    }
   ],
   "source": [
    "a={'sam',23,'sam',12}\n",
    "print(a)"
   ]
  },
  {
   "cell_type": "code",
   "execution_count": 22,
   "id": "1c79119e",
   "metadata": {},
   "outputs": [
    {
     "data": {
      "text/plain": [
       "set"
      ]
     },
     "execution_count": 22,
     "metadata": {},
     "output_type": "execute_result"
    }
   ],
   "source": [
    "type(a)"
   ]
  },
  {
   "cell_type": "code",
   "execution_count": 23,
   "id": "bfaaf768",
   "metadata": {},
   "outputs": [
    {
     "data": {
      "text/plain": [
       "set()"
      ]
     },
     "execution_count": 23,
     "metadata": {},
     "output_type": "execute_result"
    }
   ],
   "source": [
    "a.clear()\n",
    "a"
   ]
  },
  {
   "cell_type": "code",
   "execution_count": 25,
   "id": "ea4acc1f",
   "metadata": {},
   "outputs": [
    {
     "data": {
      "text/plain": [
       "set()"
      ]
     },
     "execution_count": 25,
     "metadata": {},
     "output_type": "execute_result"
    }
   ],
   "source": [
    "a=set() #empty set\n",
    "a"
   ]
  },
  {
   "cell_type": "code",
   "execution_count": 26,
   "id": "8fdec23e",
   "metadata": {},
   "outputs": [
    {
     "name": "stdout",
     "output_type": "stream",
     "text": [
      "{'sam', 'rahul', 23}\n"
     ]
    },
    {
     "data": {
      "text/plain": [
       "{23, 'mohit', 'rahul', 'sam'}"
      ]
     },
     "execution_count": 26,
     "metadata": {},
     "output_type": "execute_result"
    }
   ],
   "source": [
    "a={'sam',23,'sam','rahul'}\n",
    "print(a)\n",
    "a.add('mohit')\n",
    "a\n"
   ]
  },
  {
   "cell_type": "code",
   "execution_count": 27,
   "id": "ab5250c8",
   "metadata": {},
   "outputs": [],
   "source": [
    "a.remove('mohit')"
   ]
  },
  {
   "cell_type": "code",
   "execution_count": 28,
   "id": "f07afb37",
   "metadata": {},
   "outputs": [
    {
     "data": {
      "text/plain": [
       "{23, 'rahul', 'sam'}"
      ]
     },
     "execution_count": 28,
     "metadata": {},
     "output_type": "execute_result"
    }
   ],
   "source": [
    "a"
   ]
  },
  {
   "cell_type": "markdown",
   "id": "46f847d4",
   "metadata": {},
   "source": [
    "### operations in sets"
   ]
  },
  {
   "cell_type": "code",
   "execution_count": 29,
   "id": "29037045",
   "metadata": {},
   "outputs": [
    {
     "name": "stdout",
     "output_type": "stream",
     "text": [
      "{1, 2, 3, 4, 5, 6, 7, 8}\n"
     ]
    }
   ],
   "source": [
    "# (1). union\n",
    "a={1,2,3,4,5}\n",
    "b={4,5,6,7,8}\n",
    "c=a.union(b)\n",
    "print(c)"
   ]
  },
  {
   "cell_type": "code",
   "execution_count": 31,
   "id": "0db480ee",
   "metadata": {},
   "outputs": [
    {
     "name": "stdout",
     "output_type": "stream",
     "text": [
      "{1, 2, 3, 4, 5, 6, 7, 8}\n"
     ]
    }
   ],
   "source": [
    "#type 2\n",
    "c=a|b\n",
    "print(c)"
   ]
  },
  {
   "cell_type": "code",
   "execution_count": 32,
   "id": "9b1a9203",
   "metadata": {},
   "outputs": [
    {
     "name": "stdout",
     "output_type": "stream",
     "text": [
      "{4, 5}\n"
     ]
    }
   ],
   "source": [
    "# (1). insertion\n",
    "a={1,2,3,4,5}\n",
    "b={4,5,6,7,8}\n",
    "c=a.intersection(b)\n",
    "print(c)"
   ]
  },
  {
   "cell_type": "code",
   "execution_count": 33,
   "id": "31658b4b",
   "metadata": {},
   "outputs": [
    {
     "name": "stdout",
     "output_type": "stream",
     "text": [
      "{4, 5}\n"
     ]
    }
   ],
   "source": [
    "#type 2\n",
    "c=a&b\n",
    "print(c)"
   ]
  },
  {
   "cell_type": "code",
   "execution_count": 34,
   "id": "b8df0739",
   "metadata": {},
   "outputs": [
    {
     "data": {
      "text/plain": [
       "{1, 2, 3}"
      ]
     },
     "execution_count": 34,
     "metadata": {},
     "output_type": "execute_result"
    }
   ],
   "source": [
    "a-b  # deletion\n",
    "# elements that present in a not in b"
   ]
  },
  {
   "cell_type": "code",
   "execution_count": 36,
   "id": "b293b3d3",
   "metadata": {},
   "outputs": [
    {
     "data": {
      "text/plain": [
       "{6, 7, 8}"
      ]
     },
     "execution_count": 36,
     "metadata": {},
     "output_type": "execute_result"
    }
   ],
   "source": [
    "b-a     # elements that present in b not in a"
   ]
  },
  {
   "cell_type": "code",
   "execution_count": 37,
   "id": "2631fe76",
   "metadata": {},
   "outputs": [
    {
     "data": {
      "text/plain": [
       "set()"
      ]
     },
     "execution_count": 37,
     "metadata": {},
     "output_type": "execute_result"
    }
   ],
   "source": [
    "a.clear()\n",
    "a"
   ]
  },
  {
   "cell_type": "code",
   "execution_count": null,
   "id": "d7471b62",
   "metadata": {},
   "outputs": [],
   "source": []
  }
 ],
 "metadata": {
  "kernelspec": {
   "display_name": "Python 3 (ipykernel)",
   "language": "python",
   "name": "python3"
  },
  "language_info": {
   "codemirror_mode": {
    "name": "ipython",
    "version": 3
   },
   "file_extension": ".py",
   "mimetype": "text/x-python",
   "name": "python",
   "nbconvert_exporter": "python",
   "pygments_lexer": "ipython3",
   "version": "3.10.9"
  }
 },
 "nbformat": 4,
 "nbformat_minor": 5
}
