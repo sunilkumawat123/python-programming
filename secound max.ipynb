{
 "cells": [
  {
   "cell_type": "code",
   "execution_count": 2,
   "id": "7e506f38",
   "metadata": {},
   "outputs": [
    {
     "name": "stdout",
     "output_type": "stream",
     "text": [
      "57\n"
     ]
    }
   ],
   "source": [
    "lst=[12,34,654,57,654,53,34,34]\n",
    "max1=0\n",
    "sm=0\n",
    "for i in range(len(lst)):\n",
    "    if(lst[i]>max1):\n",
    "        sm=max1\n",
    "        max1=lst[i]\n",
    "        \n",
    "    elif(lst[i]>sm and lst[i]!=max1):\n",
    "        sm=lst[i]\n",
    "print(sm)"
   ]
  },
  {
   "cell_type": "code",
   "execution_count": 5,
   "id": "a639c72b",
   "metadata": {},
   "outputs": [
    {
     "name": "stdout",
     "output_type": "stream",
     "text": [
      "[23, 34, 12, 45, 56]\n"
     ]
    }
   ],
   "source": [
    "lst=[23,34,23,23,12,23,45,56]\n",
    "ls=[]\n",
    "for i in lst:\n",
    "    if i not in ls:\n",
    "        ls.append(i)\n",
    "print(ls)"
   ]
  },
  {
   "cell_type": "code",
   "execution_count": 4,
   "id": "53a5f032",
   "metadata": {},
   "outputs": [
    {
     "name": "stdout",
     "output_type": "stream",
     "text": [
      "(5, 11)\n",
      "(9, 7)\n",
      "(5, 11)\n"
     ]
    }
   ],
   "source": [
    "lst=[2,3,4,5,67,8,9,0,45,34,7,5,11]\n",
    "for i in range(len(lst)):\n",
    "    for j in range(i+1,len(lst)):\n",
    "        if(lst[i]+lst[j]==16):\n",
    "            print((lst[i],lst[j]))\n",
    "            break"
   ]
  },
  {
   "cell_type": "code",
   "execution_count": null,
   "id": "189e8beb",
   "metadata": {},
   "outputs": [],
   "source": []
  }
 ],
 "metadata": {
  "kernelspec": {
   "display_name": "Python 3 (ipykernel)",
   "language": "python",
   "name": "python3"
  },
  "language_info": {
   "codemirror_mode": {
    "name": "ipython",
    "version": 3
   },
   "file_extension": ".py",
   "mimetype": "text/x-python",
   "name": "python",
   "nbconvert_exporter": "python",
   "pygments_lexer": "ipython3",
   "version": "3.10.9"
  }
 },
 "nbformat": 4,
 "nbformat_minor": 5
}
