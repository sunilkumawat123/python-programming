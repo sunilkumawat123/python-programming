{
  "cells": [
    {
      "cell_type": "code",
      "execution_count": null,
      "metadata": {
        "colab": {
          "base_uri": "https://localhost:8080/"
        },
        "id": "-_6bAUeYwqG3",
        "outputId": "27c8c057-844b-460f-efc9-fbabeacb9c2a"
      },
      "outputs": [
        {
          "data": {
            "text/plain": [
              "[0, 1, 0]"
            ]
          },
          "execution_count": 2,
          "metadata": {},
          "output_type": "execute_result"
        }
      ],
      "source": [
        "mylist=[[1]]\n",
        "[0]+mylist[-1]+[0]"
      ]
    },
    {
      "cell_type": "code",
      "execution_count": null,
      "metadata": {
        "colab": {
          "base_uri": "https://localhost:8080/"
        },
        "id": "3Fvg5XmuDmU8",
        "outputId": "849a283b-8f6b-409d-bfaf-a8b75c40c1d0"
      },
      "outputs": [
        {
          "name": "stdout",
          "output_type": "stream",
          "text": [
            "[1]\n",
            "[1, 1]\n",
            "[1, 1]\n",
            "[1, 1]\n",
            "[1, 1]\n"
          ]
        }
      ],
      "source": [
        "mylist=[]\n",
        "for i in range (0,5):\n",
        "  res=[]\n",
        "  for j in range(0,i+1):\n",
        "    if(j==0 or j==i):\n",
        "       res.append(1)\n",
        "  print(res)"
      ]
    },
    {
      "cell_type": "code",
      "execution_count": null,
      "metadata": {
        "colab": {
          "base_uri": "https://localhost:8080/"
        },
        "id": "3ZyKZBIhEwcw",
        "outputId": "4ed34990-bb66-4c95-a65f-994a30bd65d9"
      },
      "outputs": [
        {
          "name": "stdout",
          "output_type": "stream",
          "text": [
            "pallindrome\n"
          ]
        }
      ],
      "source": [
        "mylist=[\"wrold\"]\n",
        "name=mylist[:]\n",
        "start=0\n",
        "end=len(mylist)-1\n",
        "while(start<end):\n",
        "  temp=mylist[start]\n",
        "  mylist[start]=mylist[end]\n",
        "  mylist[end]=temp\n",
        "  start+=1\n",
        "  end-=1\n",
        "\n",
        "if(mylist==name):\n",
        "  print(\"pallindrome\")\n",
        "else:\n",
        "  print(\"not pallindrome\")"
      ]
    },
    {
      "cell_type": "code",
      "execution_count": null,
      "metadata": {
        "colab": {
          "base_uri": "https://localhost:8080/"
        },
        "id": "2uT3qtpLwysj",
        "outputId": "db3be66e-4c0f-449e-8e67-bac11f866a5e"
      },
      "outputs": [
        {
          "name": "stdout",
          "output_type": "stream",
          "text": [
            "[1, 3, 5, 7, 9, 11, 13, 15, 17, 19, 21, 23, 25, 27, 29, 31, 33, 35, 37, 39, 41, 43, 45, 47, 49]\n"
          ]
        }
      ],
      "source": [
        "oddnumbers = []\n",
        "\n",
        "for num in range(1, 50,2):\n",
        "    oddnumbers.append(num)\n",
        "    if len(oddnumbers) == 25:\n",
        "        break\n",
        "print(oddnumbers)"
      ]
    },
    {
      "cell_type": "code",
      "execution_count": null,
      "metadata": {
        "colab": {
          "base_uri": "https://localhost:8080/"
        },
        "id": "KFIrScUbJEbT",
        "outputId": "112077fb-4fed-48b6-b806-351bb046555a"
      },
      "outputs": [
        {
          "name": "stdout",
          "output_type": "stream",
          "text": [
            "{'total': 5}\n"
          ]
        }
      ],
      "source": [
        "mydictionary={\"total\":0}\n",
        "string = \"hello\"\n",
        "count = len(string)\n",
        "mydictionary[\"total\"]=mydictionary[\"total\"]+count\n",
        "print(mydictionary)"
      ]
    },
    {
      "cell_type": "code",
      "execution_count": null,
      "metadata": {
        "colab": {
          "base_uri": "https://localhost:8080/"
        },
        "id": "Bp8vfKUCKhFo",
        "outputId": "8a57448b-33a6-48f3-9215-60e08945ce69"
      },
      "outputs": [
        {
          "name": "stdout",
          "output_type": "stream",
          "text": [
            "{'total': 2}\n"
          ]
        }
      ],
      "source": [
        "mydictionary={\"total\":0}\n",
        "for char in \"hello\":\n",
        "  if char in \"aeiou\":\n",
        "    mydictionary[\"total\"] = mydictionary[\"total\"]+1\n",
        "print(mydictionary)\n"
      ]
    },
    {
      "cell_type": "code",
      "execution_count": null,
      "metadata": {
        "colab": {
          "base_uri": "https://localhost:8080/"
        },
        "id": "o02Ol1rxNkZL",
        "outputId": "7fae30d5-7f31-4003-f376-365ab767eb8a"
      },
      "outputs": [
        {
          "name": "stdout",
          "output_type": "stream",
          "text": [
            "hey\n",
            "hello\n",
            "hey\n",
            "user\n"
          ]
        }
      ],
      "source": [
        "mydictionary=[]\n",
        "x=\"hey hello hey user\".split()\n",
        "for i in x:\n",
        "  if x in mydictionary:\n",
        "    mydictionary\n",
        "\n",
        "  print(i)"
      ]
    },
    {
      "cell_type": "code",
      "execution_count": null,
      "metadata": {
        "id": "tERwMTF_QPJr"
      },
      "outputs": [],
      "source": [
        "mylist=[10,2,11,6,7,8]\n",
        "for index in range(0,len(mylist)):\n",
        "  for x in range(index+1,len(mylist)):\n",
        "    if (mylist[x]==9):\n",
        "      print(mylist[index])\n",
        "      break\n"
      ]
    },
    {
      "cell_type": "code",
      "execution_count": null,
      "metadata": {
        "colab": {
          "base_uri": "https://localhost:8080/"
        },
        "id": "HKz8PBcrX3Aj",
        "outputId": "7d73bc61-5414-46c0-dc9b-505e89fc122d"
      },
      "outputs": [
        {
          "name": "stdout",
          "output_type": "stream",
          "text": [
            "1 7\n"
          ]
        }
      ],
      "source": [
        "mylist=[0,1,2,3,4,5,6,7]\n",
        "start=0\n",
        "end=len(mylist)-1\n",
        "while(start<end):\n",
        "  if(mylist[start]+mylist[end]==8):\n",
        "    break\n",
        "  elif(mylist[start]+mylist[end]<8):\n",
        "    start+=1\n",
        "  else:\n",
        "      end-=1\n",
        "\n",
        "\n",
        "\n",
        "print(mylist[start],mylist[end])"
      ]
    },
    {
      "cell_type": "code",
      "execution_count": null,
      "metadata": {
        "colab": {
          "base_uri": "https://localhost:8080/"
        },
        "id": "fmySHtpVcEDp",
        "outputId": "25c02c85-db4e-4fff-b6a9-e760c27d5390"
      },
      "outputs": [
        {
          "data": {
            "text/plain": [
              "20"
            ]
          },
          "execution_count": 8,
          "metadata": {},
          "output_type": "execute_result"
        }
      ],
      "source": [
        "mylist=[10,20,30,\"hey\"]\n",
        "mylist[1]"
      ]
    },
    {
      "cell_type": "code",
      "execution_count": null,
      "metadata": {
        "colab": {
          "base_uri": "https://localhost:8080/"
        },
        "id": "RNFaR4LBcQcu",
        "outputId": "cde09d23-978d-4001-b986-f126661cba82"
      },
      "outputs": [
        {
          "name": "stdout",
          "output_type": "stream",
          "text": [
            "[22, 20, 30, 'hey']\n"
          ]
        }
      ],
      "source": [
        "mylist[0]=22\n",
        "print(mylist)"
      ]
    },
    {
      "cell_type": "code",
      "execution_count": null,
      "metadata": {
        "colab": {
          "base_uri": "https://localhost:8080/"
        },
        "id": "vxUZRISDcX6u",
        "outputId": "1b550277-5dbe-4363-903e-9350574ba702"
      },
      "outputs": [
        {
          "name": "stdout",
          "output_type": "stream",
          "text": [
            "[100, 200, 200, 30, 'hey']\n"
          ]
        }
      ],
      "source": [
        "mylist[0:2]=[100,200]\n",
        "print(mylist)"
      ]
    },
    {
      "cell_type": "code",
      "execution_count": null,
      "metadata": {
        "colab": {
          "base_uri": "https://localhost:8080/"
        },
        "id": "roul4HSvgtdo",
        "outputId": "c39ea832-839e-4ecb-a147-dcf15525718f"
      },
      "outputs": [
        {
          "name": "stdout",
          "output_type": "stream",
          "text": [
            "[10, 20, 30, 40]\n",
            "[100, 200, 30, 40]\n"
          ]
        }
      ],
      "source": [
        "mylist=[10,20,30,40]\n",
        "print(mylist)\n",
        "mylist[0:2]=[100,200]\n",
        "print(mylist)"
      ]
    },
    {
      "cell_type": "code",
      "execution_count": null,
      "metadata": {
        "colab": {
          "base_uri": "https://localhost:8080/"
        },
        "id": "W934ke21iFk9",
        "outputId": "6af334bc-e0b6-41aa-fb1f-f7e5901d789f"
      },
      "outputs": [
        {
          "name": "stdout",
          "output_type": "stream",
          "text": [
            "[100, 200, 30, 40]\n",
            "[100, 200, 30, 40, 99]\n"
          ]
        }
      ],
      "source": [
        "print(mylist)\n",
        "mylist.append(99)\n",
        "print(mylist)\n"
      ]
    },
    {
      "cell_type": "code",
      "execution_count": null,
      "metadata": {
        "colab": {
          "base_uri": "https://localhost:8080/"
        },
        "id": "Gbe6cm5ric21",
        "outputId": "e3c9ee9a-beb0-465a-d3ad-c4e9d93bab3e"
      },
      "outputs": [
        {
          "name": "stdout",
          "output_type": "stream",
          "text": [
            "[100, 200, 30, 40, 99, 'h', 'e', 'y']\n"
          ]
        }
      ],
      "source": [
        "mylist.extend(\"hey\")\n",
        "print(mylist)"
      ]
    },
    {
      "cell_type": "code",
      "execution_count": null,
      "metadata": {
        "colab": {
          "base_uri": "https://localhost:8080/"
        },
        "id": "gY7-DRfQioFc",
        "outputId": "e43bc124-4905-4140-ebfc-e27851d6eba9"
      },
      "outputs": [
        {
          "name": "stdout",
          "output_type": "stream",
          "text": [
            "[100, 200, 30, 40, 99, 'h', 'e', 'y', 500]\n"
          ]
        }
      ],
      "source": [
        "mylist.extend([500])\n",
        "print(mylist)"
      ]
    },
    {
      "cell_type": "code",
      "execution_count": null,
      "metadata": {
        "colab": {
          "base_uri": "https://localhost:8080/"
        },
        "id": "qckz6td3kHgr",
        "outputId": "1da7b1f5-9e91-40c0-abdb-82c973fcc717"
      },
      "outputs": [
        {
          "name": "stdout",
          "output_type": "stream",
          "text": [
            "[100, 200, 40, 99, 'h', 'e', 'y', 500, 'hello']\n",
            "[100, 200, 99, 'h', 'e', 'y', 500, 'hello'] x 40\n"
          ]
        }
      ],
      "source": [
        "print(mylist)\n",
        "x=mylist.pop(2)\n",
        "print(mylist,\"x\",x)"
      ]
    },
    {
      "cell_type": "code",
      "execution_count": null,
      "metadata": {
        "colab": {
          "base_uri": "https://localhost:8080/"
        },
        "id": "J4dxX-zGkfW5",
        "outputId": "8c58fd92-71da-415f-9ea6-3785a07097db"
      },
      "outputs": [
        {
          "name": "stdout",
          "output_type": "stream",
          "text": [
            "[200, 99, 'h', 'e', 'y', 500, 'hello']\n",
            "[200, 99, 'h', 'y', 500, 'hello']\n"
          ]
        }
      ],
      "source": [
        "print(mylist)\n",
        "del mylist[3]\n",
        "print(mylist)"
      ]
    },
    {
      "cell_type": "code",
      "execution_count": null,
      "metadata": {
        "colab": {
          "base_uri": "https://localhost:8080/"
        },
        "id": "3QfhrkZbkrZR",
        "outputId": "539dc6e9-3eda-4ee4-975d-7019c5bf1447"
      },
      "outputs": [
        {
          "name": "stdout",
          "output_type": "stream",
          "text": [
            "[200, 99, 'h', 'y', 500, 'hello']\n",
            "[200, 99, 'h', 'y', 500]\n"
          ]
        }
      ],
      "source": [
        "print(mylist)\n",
        "mylist.remove(\"hello\")\n",
        "print(mylist)"
      ]
    },
    {
      "cell_type": "code",
      "execution_count": null,
      "metadata": {
        "colab": {
          "base_uri": "https://localhost:8080/"
        },
        "id": "nIFGPEADpsvo",
        "outputId": "8e42e788-dd08-4988-d11e-1f3d562acc62"
      },
      "outputs": [
        {
          "name": "stdout",
          "output_type": "stream",
          "text": [
            "0 [10, 20, 121, 30, 40]\n",
            "1 [20, 10, 121, 30, 40]\n",
            "2 [121, 10, 20, 30, 40]\n",
            "3 [121, 10, 20, 30, 40]\n",
            "4 [121, 10, 20, 30, 40]\n"
          ]
        }
      ],
      "source": [
        "mylist=[10,20,121,30,40]\n",
        "max=mylist[0]\n",
        "for i in range(0,len(mylist)):\n",
        "  if(mylist[i]>mylist[0]):\n",
        "    temp=mylist[0]\n",
        "    mylist[0]=mylist[i]\n",
        "    mylist[i]=temp\n",
        "    max=mylist[0]\n",
        "  print(i,mylist)"
      ]
    },
    {
      "cell_type": "code",
      "execution_count": null,
      "metadata": {
        "colab": {
          "base_uri": "https://localhost:8080/"
        },
        "id": "CFeyuAfiro45",
        "outputId": "9456a65f-fd6e-4bc5-e1aa-48c799d60389"
      },
      "outputs": [
        {
          "name": "stdout",
          "output_type": "stream",
          "text": [
            "30 30\n",
            "40 40\n"
          ]
        }
      ],
      "source": [
        "mylist=[10,20,30,40,30,40]\n",
        "for index in range(0,len(mylist)):\n",
        "  for x in range(index+1,len(mylist)):\n",
        "    if(mylist[index]==mylist[x]):\n",
        "      print(mylist[index],mylist[x])\n",
        "\n"
      ]
    },
    {
      "cell_type": "code",
      "execution_count": null,
      "metadata": {
        "colab": {
          "base_uri": "https://localhost:8080/"
        },
        "id": "ccKwMxBftT7h",
        "outputId": "6bb8dbe0-de72-4a02-ca57-d2054d1e99b4"
      },
      "outputs": [
        {
          "name": "stdout",
          "output_type": "stream",
          "text": [
            "2 30\n",
            "3 40\n"
          ]
        }
      ],
      "source": [
        "mylist=[10,20,30,40,30,40]\n",
        "for index in range(0,len(mylist)):\n",
        "  for x in range(index+1,len(mylist)):\n",
        "    if(mylist[index]==mylist[x]):\n",
        "      print(index,mylist[x])\n",
        "\n"
      ]
    },
    {
      "cell_type": "code",
      "execution_count": null,
      "metadata": {
        "colab": {
          "base_uri": "https://localhost:8080/"
        },
        "id": "3fjz46i8upT8",
        "outputId": "9e954d26-1056-4905-d7a0-49b466eb7388"
      },
      "outputs": [
        {
          "name": "stdout",
          "output_type": "stream",
          "text": [
            "100 50\n"
          ]
        }
      ],
      "source": [
        "mylist=[10,40,30,50,10,100]\n",
        "h=0\n",
        "sh=0\n",
        "for index in range(0,len(mylist)):\n",
        "  if(mylist[index]>h):\n",
        "    sh=h\n",
        "    h=mylist[index]\n",
        "  elif(mylist[index]>sh):\n",
        "    sh=mylist[index]\n",
        "print(h,sh)"
      ]
    },
    {
      "cell_type": "code",
      "execution_count": null,
      "metadata": {
        "colab": {
          "base_uri": "https://localhost:8080/"
        },
        "id": "irI10srxWHEq",
        "outputId": "bc134278-7185-45b0-8df7-9b94c50feace"
      },
      "outputs": [
        {
          "name": "stdout",
          "output_type": "stream",
          "text": [
            "80 70\n"
          ]
        }
      ],
      "source": [
        "mylist=[20,60,70,40,70,60,50,80]\n",
        "h=0\n",
        "sh=0\n",
        "for index in range(0,len(mylist)):\n",
        "  if(mylist[index]>h):\n",
        "    sh=h\n",
        "    h=mylist[index]\n",
        "\n",
        "  elif(mylist[index]>sh and mylist[index]!=h):\n",
        "    sh=mylist[index]\n",
        "\n",
        "print(h,sh)"
      ]
    },
    {
      "cell_type": "code",
      "execution_count": null,
      "metadata": {
        "colab": {
          "base_uri": "https://localhost:8080/"
        },
        "id": "awEca36XY7D1",
        "outputId": "fc50d598-06f7-4601-80ce-0d40d5e025d9"
      },
      "outputs": [
        {
          "name": "stdout",
          "output_type": "stream",
          "text": [
            "[[1], [1, 1]]\n"
          ]
        }
      ],
      "source": [
        "mylist=[[1]]\n",
        "for index in range(0,len(mylist)):\n",
        "  temp=[0]+mylist[-1]+[0]\n",
        "  res=[]\n",
        "\n",
        "  for i in range (0,len(temp)-1):\n",
        "    res.append(temp[i]+temp[i+1])\n",
        "\n",
        "  mylist.append(res)\n",
        "print(mylist)"
      ]
    },
    {
      "cell_type": "code",
      "execution_count": null,
      "metadata": {
        "colab": {
          "base_uri": "https://localhost:8080/"
        },
        "id": "PBedLwjBd95c",
        "outputId": "b28f3f67-d628-4eb3-a2d1-a95f7add1868"
      },
      "outputs": [
        {
          "data": {
            "text/plain": [
              "[0, 1, 0]"
            ]
          },
          "execution_count": 7,
          "metadata": {},
          "output_type": "execute_result"
        }
      ],
      "source": [
        "mylist=[1]\n",
        "[0]+mylist+[0]"
      ]
    },
    {
      "cell_type": "code",
      "execution_count": null,
      "metadata": {
        "colab": {
          "base_uri": "https://localhost:8080/"
        },
        "id": "84LUFMsyeLpf",
        "outputId": "9de9d9d2-956c-400a-fc22-f6d0e3785017"
      },
      "outputs": [
        {
          "data": {
            "text/plain": [
              "[0, 1, 1, 0]"
            ]
          },
          "execution_count": 10,
          "metadata": {},
          "output_type": "execute_result"
        }
      ],
      "source": [
        "mylist=[[1,1]]\n",
        "[0]+mylist[-1]+[0]"
      ]
    },
    {
      "cell_type": "code",
      "execution_count": null,
      "metadata": {
        "colab": {
          "base_uri": "https://localhost:8080/"
        },
        "id": "8G3c-2XlhWR5",
        "outputId": "9505adf5-e92a-48e9-bd0f-8aa2208ff240"
      },
      "outputs": [
        {
          "name": "stdout",
          "output_type": "stream",
          "text": [
            "[[1], [1, 1], [1, 2, 1], [1, 3, 3, 1], [1, 4, 6, 4, 1]]\n"
          ]
        }
      ],
      "source": [
        "mylist=[[1]]\n",
        "rows = 5\n",
        "while len(mylist) < rows:\n",
        "  for index in range(0,len(mylist)):\n",
        "    temp=[0]+mylist[-1]+[0]\n",
        "    res=[]\n",
        "\n",
        "    for i in range (0,len(temp)-1):\n",
        "       res.append(temp[i]+temp[i+1])\n",
        "\n",
        "  mylist.append(res)\n",
        "print(mylist)"
      ]
    },
    {
      "cell_type": "code",
      "execution_count": null,
      "metadata": {
        "colab": {
          "base_uri": "https://localhost:8080/"
        },
        "id": "zDDmkCjaqjn_",
        "outputId": "750d82a0-1619-47ba-963f-cf3a092dd8a4"
      },
      "outputs": [
        {
          "name": "stdout",
          "output_type": "stream",
          "text": [
            "[50, 40, 30, 20, 10]\n"
          ]
        }
      ],
      "source": [
        "# two pointer problem\n",
        "mylist=[10,20,30,40,50]\n",
        "start=0\n",
        "end=len(mylist)-1\n",
        "while(start<end):\n",
        "  temp=mylist[start]\n",
        "  mylist[start]=mylist[end]\n",
        "  mylist[end]=temp\n",
        "  start+=1\n",
        "  end-=1\n",
        "print(mylist)"
      ]
    },
    {
      "cell_type": "code",
      "execution_count": null,
      "metadata": {
        "colab": {
          "base_uri": "https://localhost:8080/"
        },
        "id": "a7fIJgegQi19",
        "outputId": "6cd525a3-83f8-4e65-b7b8-8824c1bf3f75"
      },
      "outputs": [
        {
          "name": "stdout",
          "output_type": "stream",
          "text": [
            "['[', '(']\n"
          ]
        }
      ],
      "source": [
        "mylist=[]\n",
        "for char in \"[(]\":\n",
        "  if char in \"[{(\":\n",
        "    mylist.append(char)\n",
        "print(mylist)\n"
      ]
    },
    {
      "cell_type": "code",
      "execution_count": null,
      "metadata": {
        "id": "NLfA3Qghx8eQ"
      },
      "outputs": [],
      "source": [
        "mylist=[]\n",
        "for char in \"[]\":\n",
        "  if char in \"[{(\":\n",
        "    mylist.append(char)\n",
        "\n",
        "  else:\n",
        "    if mylist.pop==\"[\" and char==\"]\":\n",
        "     continue\n"
      ]
    },
    {
      "cell_type": "code",
      "execution_count": null,
      "metadata": {
        "colab": {
          "base_uri": "https://localhost:8080/"
        },
        "id": "xhMNRQcr3rCD",
        "outputId": "603426d3-69d6-4e06-8140-ccba4c944a3b"
      },
      "outputs": [
        {
          "name": "stdout",
          "output_type": "stream",
          "text": [
            "Valid bracket sequence\n"
          ]
        }
      ],
      "source": [
        "mylist = []\n",
        "for char in \"[]\":\n",
        "    if char in \"[{(\":\n",
        "\n",
        "        mylist.append(char)\n",
        "    else:\n",
        "\n",
        "        if mylist and mylist.pop() == \"[\" and char == \"]\":\n",
        "            continue\n",
        "        else:\n",
        "\n",
        "            print(\"Invalid bracket sequence\")\n",
        "            break\n",
        "else:\n",
        "\n",
        "    if not mylist:\n",
        "        print(\"Valid bracket sequence\")\n",
        "    else:\n",
        "\n",
        "        print(\"Invalid bracket sequence\")"
      ]
    },
    {
      "cell_type": "code",
      "execution_count": null,
      "metadata": {
        "colab": {
          "base_uri": "https://localhost:8080/"
        },
        "id": "dymSQnFV_Ytw",
        "outputId": "e1aa0d32-a0b9-45a2-9cb3-1897c10a3fa6"
      },
      "outputs": [
        {
          "name": "stdout",
          "output_type": "stream",
          "text": [
            "[1, 3, 5, 7, 9, 11, 13, 15, 17, 19, 21, 23, 25, 27, 29, 31, 33, 35, 37, 39, 41, 43, 45, 47, 49]\n"
          ]
        }
      ],
      "source": [
        "mylist=[]\n",
        "num=1\n",
        "while(num<50):\n",
        "  if num%2!=0:\n",
        "    mylist.append(num)\n",
        "\n",
        "  num=num+1\n",
        "print(mylist)"
      ]
    },
    {
      "cell_type": "code",
      "execution_count": null,
      "metadata": {
        "colab": {
          "base_uri": "https://localhost:8080/"
        },
        "id": "8b0v3ltr82_d",
        "outputId": "d467e69d-5b96-416b-afec-2c384131548f"
      },
      "outputs": [
        {
          "name": "stdout",
          "output_type": "stream",
          "text": [
            "original string: HeySunil\n",
            "result: eyunilHS\n"
          ]
        }
      ],
      "source": [
        "str=\"HeySunil\"\n",
        "print('original string:',str)\n",
        "lower=[]\n",
        "upper=[]\n",
        "for char in str:\n",
        "  if char.islower():\n",
        "    lower.append(char)\n",
        "  else:\n",
        "    upper.append(char)\n",
        "\n",
        "sortedstr=''.join(lower+upper)\n",
        "print('result:',sortedstr)\n",
        "\n",
        "\n"
      ]
    },
    {
      "cell_type": "code",
      "execution_count": null,
      "metadata": {
        "colab": {
          "base_uri": "https://localhost:8080/"
        },
        "id": "T8KpDHjN_3Mm",
        "outputId": "b55694e9-990e-4b91-a4ce-d740ac29e5ae"
      },
      "outputs": [
        {
          "name": "stdout",
          "output_type": "stream",
          "text": [
            "mypeTY\n"
          ]
        }
      ],
      "source": [
        "w=\"myTYpe\"\n",
        "lowercase=[]\n",
        "uppercase=[]\n",
        "\n",
        "for char in w:\n",
        "  if 97<= ord(char)<=122:\n",
        "     lowercase.append(char)\n",
        "  else:\n",
        "      uppercase.append(char)\n",
        "sorted = ''.join(lowercase+uppercase)\n",
        "print(sorted)"
      ]
    },
    {
      "cell_type": "code",
      "execution_count": null,
      "metadata": {
        "colab": {
          "base_uri": "https://localhost:8080/"
        },
        "id": "rRvPAFsdFhxy",
        "outputId": "fe455f15-956b-453f-aeb2-cd1b4899b39b"
      },
      "outputs": [
        {
          "name": "stdout",
          "output_type": "stream",
          "text": [
            "letters: 8\n",
            "symbols: 4\n",
            "digits: 3\n"
          ]
        }
      ],
      "source": [
        "str = \"P@#yn26at^&i5ve\"\n",
        "letters=0\n",
        "symbols=0\n",
        "digits=0\n",
        "\n",
        "for char in str:\n",
        "  if char .isalpha():\n",
        "    letters=letters+1\n",
        "  elif char.isdigit():\n",
        "    digits=digits+1\n",
        "  else:\n",
        "    symbols+=1\n",
        "print('letters:',letters)\n",
        "print('symbols:',symbols)\n",
        "print('digits:',digits)\n"
      ]
    },
    {
      "cell_type": "code",
      "execution_count": null,
      "metadata": {
        "colab": {
          "base_uri": "https://localhost:8080/"
        },
        "id": "XTn0HHrqHp_S",
        "outputId": "3201652c-d102-4d71-bb5e-8a5292f3a911"
      },
      "outputs": [
        {
          "name": "stdout",
          "output_type": "stream",
          "text": [
            "letters: 8\n",
            "digits: 3\n",
            "symbols: 4\n"
          ]
        }
      ],
      "source": [
        "str=\"P@#yn26at^&i5ve\"\n",
        "letters=[]\n",
        "digits=[]\n",
        "symbols=[]\n",
        "for char in str:\n",
        "  if char.isalpha():\n",
        "    letters.append(char)\n",
        "  elif char.isdigit():\n",
        "    digits.append(char)\n",
        "  else:\n",
        "    symbols.append(char)\n",
        "\n",
        "print('letters:',len(letters))\n",
        "\n",
        "print('digits:',len(digits))\n",
        "\n",
        "print('symbols:',len(symbols))"
      ]
    },
    {
      "cell_type": "code",
      "execution_count": null,
      "metadata": {
        "colab": {
          "base_uri": "https://localhost:8080/"
        },
        "id": "V7BMX9QnI_8Z",
        "outputId": "bfa3167e-3421-4b3b-db9c-32c0be4fdf68"
      },
      "outputs": [
        {
          "name": "stdout",
          "output_type": "stream",
          "text": [
            "['hello', 'world', 'python']\n"
          ]
        }
      ],
      "source": [
        "strlist = [\"hello\", \"\", \"world\", \"\", \"python\", \"\"]\n",
        "\n",
        "newlist = []\n",
        "for i in strlist:\n",
        "    if i:\n",
        "        newlist.append(i)\n",
        "\n",
        "print(newlist)"
      ]
    },
    {
      "cell_type": "code",
      "execution_count": null,
      "metadata": {
        "colab": {
          "base_uri": "https://localhost:8080/"
        },
        "id": "0UIj1oOgUpDp",
        "outputId": "81ea44b0-a1d2-43b5-90f0-858b7df6d855"
      },
      "outputs": [
        {
          "output_type": "stream",
          "name": "stdout",
          "text": [
            "my namewe sunil\n"
          ]
        }
      ],
      "source": [
        "str=\"my, name$@we sunil\"\n",
        "newlist=[]\n",
        "\n",
        "for char in str:\n",
        "\n",
        " if char.isalnum() or char.isspace():\n",
        "        newlist.append(char)\n",
        "\n",
        "\n",
        "sorted = ''.join(newlist)\n",
        "\n",
        "print(sorted)"
      ]
    },
    {
      "cell_type": "code",
      "execution_count": null,
      "metadata": {
        "colab": {
          "base_uri": "https://localhost:8080/"
        },
        "id": "7Of2bAaaZK4W",
        "outputId": "dba25f5c-0532-4d8d-d1e7-faddcaca6b1e"
      },
      "outputs": [
        {
          "name": "stdout",
          "output_type": "stream",
          "text": [
            "my name we sunil\n"
          ]
        }
      ],
      "source": [
        "input_str = \"my, name$@ we sunil\"\n",
        "\n",
        "\n",
        "cleaned_str = ''.join( char for char in input_str if char.isalnum() or char.isspace())\n",
        "\n",
        "print(cleaned_str)"
      ]
    },
    {
      "cell_type": "code",
      "execution_count": null,
      "metadata": {
        "colab": {
          "base_uri": "https://localhost:8080/"
        },
        "id": "gXDu4jatiqe-",
        "outputId": "8a3492dc-a800-4e45-ca4f-c88605082f1a"
      },
      "outputs": [
        {
          "name": "stdout",
          "output_type": "stream",
          "text": [
            "123456789\n"
          ]
        }
      ],
      "source": [
        "str=\"Hello123, World456! Python789.\"\n",
        "digits=[]\n",
        "for char in str:\n",
        " if char.isdigit():\n",
        "    digits.append(char)\n",
        "digits = ''.join(digits)\n",
        "print(digits)\n"
      ]
    },
    {
      "cell_type": "code",
      "execution_count": null,
      "metadata": {
        "id": "d2uk7VYkkd1v"
      },
      "outputs": [],
      "source": [
        "# Q.1 You manage a store with several products. Write a program that continuously accepts\n",
        "# product names and quantities as input until the user types \"stop\". If a product's\n",
        "# quantity falls below a given threshold (say 10), display a warning message to reorder the product."
      ]
    },
    {
      "cell_type": "code",
      "execution_count": null,
      "metadata": {
        "colab": {
          "base_uri": "https://localhost:8080/"
        },
        "id": "44VoOs5kqWip",
        "outputId": "e2fb5f4c-537d-42e9-9163-7ae067a0bc28"
      },
      "outputs": [
        {
          "name": "stdout",
          "output_type": "stream",
          "text": [
            "enter product name:sdgsdg\n",
            "enter product name:45\n",
            "enter product name:stop\n"
          ]
        }
      ],
      "source": [
        "\n",
        "\n",
        "while(True):\n",
        "  name=input(\"enter product name:\")\n",
        "\n",
        "  if (name == \"stop\"):\n",
        "      break\n",
        "  elif (quantity<10):\n",
        "     quantity=int(input(\"enter the quantity:\"))\n",
        "     print(\"please reorder the product\")"
      ]
    },
    {
      "cell_type": "code",
      "execution_count": null,
      "metadata": {
        "id": "leY_mLLwtdZC"
      },
      "outputs": [],
      "source": [
        "# Q.2 Write a Python program that takes a list of student scores as input and calculates\n",
        "# the average score. If any student scores below 40, display a message saying \"Fail\" for that\n",
        "# student. Also, find and print the highest and lowest scores."
      ]
    },
    {
      "cell_type": "code",
      "execution_count": null,
      "metadata": {
        "colab": {
          "base_uri": "https://localhost:8080/"
        },
        "id": "G4w4LhSOtkIb",
        "outputId": "b1ed6ab4-b85c-46f1-9068-ea2aab38d566"
      },
      "outputs": [
        {
          "name": "stdout",
          "output_type": "stream",
          "text": [
            "enter marks of 1st subject:50\n",
            "enter marks of 2nd subject:40\n",
            "enter marks of 3rd subject:70\n",
            "enter marks of 4th subject:80\n",
            "the average score is : 60.0\n",
            "[50, 40, 70, 80]\n",
            "highest score 80\n",
            "lowest score 40\n"
          ]
        }
      ],
      "source": [
        "marks=[]\n",
        "sub1=int(input(\"enter marks of 1st subject:\"))\n",
        "marks.append(sub1)\n",
        "sub2=int(input(\"enter marks of 2nd subject:\"))\n",
        "marks.append(sub2)\n",
        "sub3=int(input(\"enter marks of 3rd subject:\"))\n",
        "marks.append(sub3)\n",
        "sub4=int(input(\"enter marks of 4th subject:\"))\n",
        "marks.append(sub4)\n",
        "average=(sub1+sub2+sub3+sub4)/4\n",
        "\n",
        "print(\"the average score is :\",average)\n",
        "\n",
        "if(average<40):\n",
        "  print(\"fail\")\n",
        "highestscore=max(marks)\n",
        "lowestscore=min(marks)\n",
        "\n",
        "print(marks)\n",
        "print(\"highest score\",highestscore)\n",
        "print(\"lowest score\",lowestscore)\n",
        "\n"
      ]
    },
    {
      "cell_type": "code",
      "execution_count": null,
      "metadata": {
        "id": "5b_W3IrDwUqc"
      },
      "outputs": [],
      "source": [
        "#Q.3 Write a Python program for an ATM that allows users to withdraw money in multiples of 100.\n",
        "# The ATM only has a limited number of bills of denominations: 100, 500, and 2000.\n",
        "# The program should keep track of available bills and prompt the user if the amount they\n",
        "# request exceeds the available bills or is not a multiple -of 100."
      ]
    },
    {
      "cell_type": "code",
      "execution_count": null,
      "metadata": {
        "colab": {
          "base_uri": "https://localhost:8080/"
        },
        "id": "Geig3Z4Xwf2o",
        "outputId": "56afa392-a189-4bf5-c18e-6342054fb17f"
      },
      "outputs": [
        {
          "name": "stdout",
          "output_type": "stream",
          "text": [
            "enter the amount:500\n",
            "the available balance is: 500\n",
            "enter the withdrawal amount:100\n",
            "Avaiable balance after withdrawal 400\n"
          ]
        }
      ],
      "source": [
        "balance=int(input(\"enter the amount:\"))\n",
        "print(\"the available balance is:\",balance)\n",
        "withdraw=int(input(\"enter the withdrawal amount:\"))\n",
        "\n",
        "if(balance>0):\n",
        "   if(withdraw==100 or withdraw==500 or withdraw==2000):\n",
        "     balance=balance-withdraw\n",
        "     print(\"Avaiable balance after withdrawal\",balance)\n",
        "   else:\n",
        "    print(\"withdraw is not multiple of 100,500,2000\")\n",
        "\n",
        "else:\n",
        "  print(\"not sufficient balance\")\n",
        "\n",
        "\n"
      ]
    },
    {
      "cell_type": "code",
      "execution_count": null,
      "metadata": {
        "id": "TIFf4PNJ1CP0"
      },
      "outputs": [],
      "source": [
        "\n",
        "# Q.4  You are designing a loan approval system for a bank. Write a Python program that\n",
        "# takes the user’s salary, credit score, and years of employment as input. The loan is\n",
        "# approved if the salary is above $50,000, the credit score is above 700, and the user has\n",
        "# been employed for at least 2 years."
      ]
    },
    {
      "cell_type": "code",
      "execution_count": null,
      "metadata": {
        "colab": {
          "base_uri": "https://localhost:8080/"
        },
        "id": "NLbaiSst1k2k",
        "outputId": "fec9f862-2b70-4896-df3f-42281874e608"
      },
      "outputs": [
        {
          "name": "stdout",
          "output_type": "stream",
          "text": [
            "enter your salary:60000\n",
            "enter your credit score:720\n",
            "enter your employment years:2\n",
            "your loan is approved\n"
          ]
        }
      ],
      "source": [
        "salary=int(input(\"enter your salary:\"))\n",
        "creditscore=int(input(\"enter your credit score:\"))\n",
        "year=int(input(\"enter your employment years:\"))\n",
        "\n",
        "if(salary>50000 and creditscore>700 and year==2):\n",
        "  print(\"your loan is approved\")\n",
        "else:\n",
        "  print(\"loan cant approved\")"
      ]
    },
    {
      "cell_type": "code",
      "execution_count": null,
      "metadata": {
        "id": "C9wOwsMY2wS6"
      },
      "outputs": [],
      "source": [
        "#Q.5 Write a Python program to manage a parking lot system where each parking slot\n",
        "# can accommodate only one vehicle. The parking lot has a maximum capacity of n vehicles.\n",
        "# The program should track the current number of parked vehicles and display a message when\n",
        "# the parking lot is full.\n"
      ]
    },
    {
      "cell_type": "code",
      "execution_count": null,
      "metadata": {
        "colab": {
          "base_uri": "https://localhost:8080/"
        },
        "id": "Qxw6UZis22_d",
        "outputId": "32109cf7-a314-4981-e65d-ef3eb89a460d"
      },
      "outputs": [
        {
          "name": "stdout",
          "output_type": "stream",
          "text": [
            "enter numbers of vechile:20\n",
            "enter number of parked vechile21\n",
            "space is available for parking\n"
          ]
        }
      ],
      "source": [
        "num=int(input(\"enter numbers of vechile:\"))\n",
        "lot=int(input(\"enter number of parked vechile\"))\n",
        "if(num<lot):\n",
        "  print(\"space is available for parking:\")\n",
        "else:\n",
        "  print(\"not enough space for parking:\")"
      ]
    },
    {
      "cell_type": "code",
      "execution_count": null,
      "metadata": {
        "id": "XzyJbxNq4Dad"
      },
      "outputs": [],
      "source": [
        "# Q.6  Write a Python program for an airline reservation system. The program should accept\n",
        "# passenger details and continuously ask if there are more passengers to add. If the flight\n",
        "# is full (with a maximum number of seats), display a \"Flight Full\" message."
      ]
    },
    {
      "cell_type": "code",
      "execution_count": null,
      "metadata": {
        "colab": {
          "base_uri": "https://localhost:8080/"
        },
        "id": "OMloi8cw4Kak",
        "outputId": "42478aad-5736-4027-dc78-679a6573d15b"
      },
      "outputs": [
        {
          "name": "stdout",
          "output_type": "stream",
          "text": [
            "enter name of passenger:cbxnfn\n",
            "enter your locationbb\n",
            "enter name of passenger:cbnb\n",
            "enter your locationbxb\n",
            "enter name of passenger:stop\n"
          ]
        }
      ],
      "source": [
        "\n",
        "seat=10\n",
        "while(True):\n",
        "  name=input(\"enter name of passenger:\")\n",
        "  if(name==\"stop\"):\n",
        "    break\n",
        "  place=input(\"enter your location\")\n",
        "  seat=seat+1\n",
        "\n",
        "  if(seat==10):\n",
        "    print(\"flight full\")\n",
        "    break"
      ]
    },
    {
      "cell_type": "code",
      "execution_count": null,
      "metadata": {
        "colab": {
          "base_uri": "https://localhost:8080/"
        },
        "id": "8NhU7IeMHw1E",
        "outputId": "977802cf-637d-4728-f067-2a29cd37dce9"
      },
      "outputs": [
        {
          "name": "stdout",
          "output_type": "stream",
          "text": [
            "Enter the maximum capacity of the parking lot: 20\n",
            "\n",
            "Choose an action:\n",
            "1. Park a vehicle\n",
            "2. Remove a vehicle\n",
            "3. Check parking lot status\n",
            "4. Exit\n",
            "Enter your choice: 1\n",
            "Vehicle parked. 19 slots remaining.\n",
            "\n",
            "Choose an action:\n",
            "1. Park a vehicle\n",
            "2. Remove a vehicle\n",
            "3. Check parking lot status\n",
            "4. Exit\n",
            "Enter your choice: 4\n",
            "Exiting program.\n"
          ]
        }
      ],
      "source": [
        "# Set up initial variables\n",
        "capacity = int(input(\"Enter the maximum capacity of the parking lot: \"))\n",
        "occupied_slots = 0  # Current number of parked vehicles\n",
        "\n",
        "# Main loop for user interaction\n",
        "while True:\n",
        "    print(\"\\nChoose an action:\")\n",
        "    print(\"1. Park a vehicle\")\n",
        "    print(\"2. Remove a vehicle\")\n",
        "    print(\"3. Check parking lot status\")\n",
        "    print(\"4. Exit\")\n",
        "\n",
        "    choice = int(input(\"Enter your choice: \"))\n",
        "\n",
        "    if choice == 1:  # Park a vehicle\n",
        "        if occupied_slots < capacity:\n",
        "            occupied_slots += 1\n",
        "            print(f\"Vehicle parked. {capacity - occupied_slots} slots remaining.\")\n",
        "        else:\n",
        "            print(\"Parking lot is full. No more vehicles can be parked.\")\n",
        "\n",
        "    elif choice == 2:  # Remove a vehicle\n",
        "        if occupied_slots > 0:\n",
        "            occupied_slots -= 1\n",
        "            print(f\"Vehicle removed. {capacity - occupied_slots} slots available.\")\n",
        "        else:\n",
        "            print(\"Parking lot is empty. No vehicles to remove.\")\n",
        "\n",
        "    elif choice == 3:  # Check status\n",
        "        print(f\"{occupied_slots} out of {capacity} slots are occupied.\")\n",
        "\n",
        "    elif choice == 4:  # Exit\n",
        "        print(\"Exiting program.\")\n",
        "        break\n",
        "\n",
        "    else:\n",
        "        print(\"Invalid choice. Please try again.\")\n"
      ]
    },
    {
      "cell_type": "code",
      "execution_count": null,
      "metadata": {
        "colab": {
          "base_uri": "https://localhost:8080/"
        },
        "id": "UbSTBH_PPOBT",
        "outputId": "9110608c-e61a-4147-a25e-c7a5e0cd2e94"
      },
      "outputs": [
        {
          "name": "stdout",
          "output_type": "stream",
          "text": [
            "['datavizion', 'yahoo', 'google', 'health']\n"
          ]
        }
      ],
      "source": [
        "emaillist = [\"KSR@datavizion.com\", \"mymail@yahoo.com\", \"milindmali@google.com\", \"snehal@health\"]\n",
        "\n",
        "\n",
        "providers = []\n",
        "\n",
        "for email in emaillist:\n",
        "\n",
        "    domain_part = email.split('@')[1]\n",
        "\n",
        "\n",
        "    provider_name = domain_part.split('.')[0]\n",
        "\n",
        "\n",
        "    providers.append(provider_name)\n",
        "\n",
        "\n",
        "print(providers)"
      ]
    },
    {
      "cell_type": "code",
      "execution_count": null,
      "metadata": {
        "colab": {
          "base_uri": "https://localhost:8080/"
        },
        "id": "77QDt443UEZO",
        "outputId": "f5d68802-7f82-4a85-9b23-53159f787550"
      },
      "outputs": [
        {
          "name": "stdout",
          "output_type": "stream",
          "text": [
            "['milindmali108@gmail.com']\n"
          ]
        }
      ],
      "source": [
        "string = \"Hi my name is Govind Das and my mail id is milindmali108@gmail.com and my org\"\n",
        "email = []\n",
        "\n",
        "if \"milindmali108@gmail.com\" in string:\n",
        "    email.append(\"milindmali108@gmail.com\")\n",
        "\n",
        "print(email)"
      ]
    },
    {
      "cell_type": "code",
      "execution_count": null,
      "metadata": {
        "colab": {
          "base_uri": "https://localhost:8080/"
        },
        "id": "ZnX8woiLaKGf",
        "outputId": "21500155-2263-4150-91f9-4a6bfee2294e"
      },
      "outputs": [
        {
          "name": "stdout",
          "output_type": "stream",
          "text": [
            "[(2, 4), (3, 9), (4, 16), (5, 25), (6, 36), (7, 49), (8, 64)]\n"
          ]
        }
      ],
      "source": [
        "first = [2, 3, 4, 5, 6, 7, 8]\n",
        "second = [4, 9, 16, 25, 36, 49, 64]\n",
        "mylist=[]\n",
        "for i in range(len(first)):\n",
        "  square=first[i]**2\n",
        "  if square in second:\n",
        "    mylist.append((first[i],square))\n",
        "\n",
        "print(mylist)\n",
        "\n"
      ]
    },
    {
      "cell_type": "code",
      "execution_count": null,
      "metadata": {
        "colab": {
          "base_uri": "https://localhost:8080/"
        },
        "id": "rFfrFtqUd_Wp",
        "outputId": "c41d96b4-2b8c-40e6-dce0-7af3d1ecb6c9"
      },
      "outputs": [
        {
          "name": "stdout",
          "output_type": "stream",
          "text": [
            "[7, 6, 5, 4, 3, 2, 1]\n"
          ]
        }
      ],
      "source": [
        "mylist=[1,2,3,4,5,6,7]\n",
        "mylist.reverse()\n",
        "\n",
        "print(mylist)"
      ]
    },
    {
      "cell_type": "code",
      "execution_count": null,
      "metadata": {
        "colab": {
          "base_uri": "https://localhost:8080/"
        },
        "id": "0Em1wJIxfaWu",
        "outputId": "275d64b6-ee2c-42f4-8bf8-84543f7c8ef6"
      },
      "outputs": [
        {
          "name": "stdout",
          "output_type": "stream",
          "text": [
            "[10, 9, 8, 7, 6, 5]\n"
          ]
        }
      ],
      "source": [
        "mylist=[5,6,7,8,9,10]\n",
        "\n",
        "reverse=mylist[::-1]\n",
        "print(reverse)"
      ]
    },
    {
      "cell_type": "code",
      "execution_count": null,
      "metadata": {
        "colab": {
          "base_uri": "https://localhost:8080/"
        },
        "id": "OaeDK4qSAYGI",
        "outputId": "96f22f74-a478-4073-8b14-ef9ff9fb5a60"
      },
      "outputs": [
        {
          "name": "stdout",
          "output_type": "stream",
          "text": [
            "[10, 20, 30, 40, 50, 60]\n"
          ]
        }
      ],
      "source": [
        "mylist=[10,20,30,40,50,60]\n",
        "copy=[]\n",
        "for i in mylist:\n",
        "  copy.append(i)\n",
        "print(copy)\n",
        "\n"
      ]
    },
    {
      "cell_type": "code",
      "execution_count": null,
      "metadata": {
        "colab": {
          "base_uri": "https://localhost:8080/"
        },
        "id": "SUVr5NRRnaWw",
        "outputId": "bf4d4e59-6ac4-41bf-8471-6e90ba22828a"
      },
      "outputs": [
        {
          "name": "stdout",
          "output_type": "stream",
          "text": [
            "7\n"
          ]
        }
      ],
      "source": [
        "mylist=[10,20,30,40,50,60,70]\n",
        "sum=0\n",
        "for i in mylist:\n",
        "  sum=sum+1\n",
        "print(sum)\n"
      ]
    },
    {
      "cell_type": "code",
      "execution_count": null,
      "metadata": {
        "colab": {
          "base_uri": "https://localhost:8080/"
        },
        "id": "-Ld3WGafnljr",
        "outputId": "b43badc7-b465-4722-dc0c-39e6edbe7836"
      },
      "outputs": [
        {
          "name": "stdout",
          "output_type": "stream",
          "text": [
            "[5, 20, 30, 40, 10, 50, 60, 70]\n"
          ]
        }
      ],
      "source": [
        "mylist=[10,20,30,40,5,50,60,70]\n",
        "min=mylist[0]\n",
        "\n",
        "for i in range(1,len(mylist)):\n",
        "  if(mylist[i]<mylist[0]):\n",
        "    temp=mylist[i]\n",
        "    mylist[i]=mylist[0]\n",
        "    mylist[0]=temp\n",
        "    min=mylist[i]\n",
        "\n",
        "print(mylist)\n",
        "\n"
      ]
    },
    {
      "cell_type": "code",
      "execution_count": null,
      "metadata": {
        "colab": {
          "base_uri": "https://localhost:8080/"
        },
        "id": "KdRdwIjsvYC2",
        "outputId": "bc323caf-026e-4bd8-e96d-20db37306c75"
      },
      "outputs": [
        {
          "name": "stdout",
          "output_type": "stream",
          "text": [
            "[30, 40, 50, 60, 70, 80]\n"
          ]
        }
      ],
      "source": [
        "mylist=[30,40,50,60,70,80]\n",
        "min=mylist[0]\n",
        "\n",
        "for i in range(1,len(mylist)):\n",
        "  if(mylist[i]<mylist[0]):\n",
        "    temp=mylist[i]\n",
        "    mylist[i]=mylist[0]\n",
        "    mylist[0]=temp\n",
        "    min=mylist[i]\n",
        "print(mylist)\n"
      ]
    },
    {
      "cell_type": "code",
      "execution_count": null,
      "metadata": {
        "colab": {
          "base_uri": "https://localhost:8080/"
        },
        "id": "5Iwb3RHr2Tjw",
        "outputId": "77d32d57-1e3b-4d8c-c993-e3599c7d8091"
      },
      "outputs": [
        {
          "name": "stdout",
          "output_type": "stream",
          "text": [
            "5 4\n"
          ]
        }
      ],
      "source": [
        "mylist=[2,3,4,5,6,7,8,9,10]\n",
        "count=0\n",
        "count1=0\n",
        "for num in mylist:\n",
        "  if num%2==0:\n",
        "    count+=1\n",
        "  else:\n",
        "    count1+=1\n",
        "\n",
        "print(count,count1)"
      ]
    },
    {
      "cell_type": "code",
      "execution_count": null,
      "metadata": {
        "colab": {
          "base_uri": "https://localhost:8080/"
        },
        "id": "4bBbi3XO279h",
        "outputId": "8113d30f-195b-4f51-aafe-e2cae3ee48c3"
      },
      "outputs": [
        {
          "output_type": "stream",
          "name": "stdout",
          "text": [
            "[1, 2, 5, 8, 4]\n",
            "[1, 2, 1, 2, 2]\n",
            "5\n"
          ]
        }
      ],
      "source": [
        "inputlist = [1, 2, 2, 5, 8, 4, 4, 8]\n",
        "unique=[]\n",
        "counts=[]\n",
        "for num in inputlist:\n",
        "  if num not in unique:\n",
        "   unique.append(num)\n",
        "   count=0\n",
        "   for element in inputlist:\n",
        "      if element == num:\n",
        "        count += 1\n",
        "   counts.append(count)\n",
        "\n",
        "\n",
        "print(unique)\n",
        "print(counts)\n",
        "uniquecount=len(counts)\n",
        "print(uniquecount)"
      ]
    },
    {
      "cell_type": "code",
      "source": [
        "data=\"{}\"\n",
        "mylist=[]\n",
        "for char in data:\n",
        "  if char in \"[({\":\n",
        "    mylist.append(char)\n",
        "  elif(char==\"}\" and mylist.pop()!=\"{\"):\n",
        "    break\n",
        "print(mylist)"
      ],
      "metadata": {
        "colab": {
          "base_uri": "https://localhost:8080/"
        },
        "id": "UFE3zpAz8YsI",
        "outputId": "a1234cc0-fb2f-433b-fad6-480a91238cf8"
      },
      "execution_count": null,
      "outputs": [
        {
          "output_type": "stream",
          "name": "stdout",
          "text": [
            "[]\n"
          ]
        }
      ]
    },
    {
      "cell_type": "code",
      "source": [
        "mylist=[10,11,2,5,7,12]\n",
        "target=9\n",
        "for i in range(0,len(mylist)):\n",
        "\n",
        "  for j in range(i+1,len(mylist)):\n",
        "    if(mylist[i]+mylist[j]==target):\n",
        "       print(\"position is :\",i,j)\n",
        "       break"
      ],
      "metadata": {
        "colab": {
          "base_uri": "https://localhost:8080/"
        },
        "id": "TXy1MjV7JWTI",
        "outputId": "8c79d9e0-2388-4645-d81b-d4878f1d9a50"
      },
      "execution_count": null,
      "outputs": [
        {
          "output_type": "stream",
          "name": "stdout",
          "text": [
            "position is : 2 4\n"
          ]
        }
      ]
    },
    {
      "cell_type": "code",
      "source": [
        "list1=[1,2,3]\n",
        "list2=['a','b','c']\n",
        "result=zip(list1,list2)\n",
        "print(list(result))"
      ],
      "metadata": {
        "colab": {
          "base_uri": "https://localhost:8080/"
        },
        "id": "QnIoXtxzK2oX",
        "outputId": "ace3f433-f70e-4026-c8dc-772014c18e52"
      },
      "execution_count": null,
      "outputs": [
        {
          "output_type": "stream",
          "name": "stdout",
          "text": [
            "[(1, 'a'), (2, 'b'), (3, 'c')]\n"
          ]
        }
      ]
    }
  ],
  "metadata": {
    "colab": {
      "provenance": []
    },
    "kernelspec": {
      "display_name": "Python 3",
      "name": "python3"
    },
    "language_info": {
      "name": "python"
    }
  },
  "nbformat": 4,
  "nbformat_minor": 0
}