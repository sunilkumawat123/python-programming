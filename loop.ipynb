{
  "nbformat": 4,
  "nbformat_minor": 0,
  "metadata": {
    "colab": {
      "provenance": []
    },
    "kernelspec": {
      "name": "python3",
      "display_name": "Python 3"
    },
    "language_info": {
      "name": "python"
    }
  },
  "cells": [
    {
      "cell_type": "code",
      "execution_count": null,
      "metadata": {
        "colab": {
          "base_uri": "https://localhost:8080/"
        },
        "id": "PUIk5y_WTE84",
        "outputId": "def900b3-1432-4d78-bdc0-519065226a25"
      },
      "outputs": [
        {
          "output_type": "stream",
          "name": "stdout",
          "text": [
            "enter any number4\n",
            "natural no 1\n",
            "natural no 2\n",
            "natural no 3\n",
            "natural no 4\n"
          ]
        }
      ],
      "source": [
        "num=int(input(\"enter any number\"))\n",
        "i=1\n",
        "while(i<=num):\n",
        "    print(\"natural no\",i)\n",
        "    i=i+1\n"
      ]
    },
    {
      "cell_type": "code",
      "source": [
        "num=int(input(\"enter any number:\"))\n",
        "while(num>=1):\n",
        "    print(num)\n",
        "    num=num-1"
      ],
      "metadata": {
        "colab": {
          "base_uri": "https://localhost:8080/"
        },
        "id": "NttZfoPeTYLx",
        "outputId": "ef919b60-a923-4e09-c658-1bd23e606369"
      },
      "execution_count": null,
      "outputs": [
        {
          "output_type": "stream",
          "name": "stdout",
          "text": [
            "enter any number:5\n",
            "5\n",
            "4\n",
            "3\n",
            "2\n",
            "1\n"
          ]
        }
      ]
    },
    {
      "cell_type": "code",
      "source": [
        "num=97\n",
        "while(num<=123):\n",
        "    print(chr(num))\n",
        "    num=num+1\n"
      ],
      "metadata": {
        "id": "9i0sKgtRTjUJ"
      },
      "execution_count": null,
      "outputs": []
    },
    {
      "cell_type": "code",
      "source": [
        "a=1\n",
        "while(a<=100):\n",
        "    if(a%2==0):\n",
        "        print(\"even no is\",a)\n",
        "    a=a+1\n"
      ],
      "metadata": {
        "colab": {
          "base_uri": "https://localhost:8080/"
        },
        "id": "L8WgJ2pvTlbc",
        "outputId": "b92b4455-e46b-490d-97cb-4db4ebe642b9"
      },
      "execution_count": null,
      "outputs": [
        {
          "output_type": "stream",
          "name": "stdout",
          "text": [
            "even no is 2\n",
            "even no is 4\n",
            "even no is 6\n",
            "even no is 8\n",
            "even no is 10\n",
            "even no is 12\n",
            "even no is 14\n",
            "even no is 16\n",
            "even no is 18\n",
            "even no is 20\n",
            "even no is 22\n",
            "even no is 24\n",
            "even no is 26\n",
            "even no is 28\n",
            "even no is 30\n",
            "even no is 32\n",
            "even no is 34\n",
            "even no is 36\n",
            "even no is 38\n",
            "even no is 40\n",
            "even no is 42\n",
            "even no is 44\n",
            "even no is 46\n",
            "even no is 48\n",
            "even no is 50\n",
            "even no is 52\n",
            "even no is 54\n",
            "even no is 56\n",
            "even no is 58\n",
            "even no is 60\n",
            "even no is 62\n",
            "even no is 64\n",
            "even no is 66\n",
            "even no is 68\n",
            "even no is 70\n",
            "even no is 72\n",
            "even no is 74\n",
            "even no is 76\n",
            "even no is 78\n",
            "even no is 80\n",
            "even no is 82\n",
            "even no is 84\n",
            "even no is 86\n",
            "even no is 88\n",
            "even no is 90\n",
            "even no is 92\n",
            "even no is 94\n",
            "even no is 96\n",
            "even no is 98\n",
            "even no is 100\n"
          ]
        }
      ]
    },
    {
      "cell_type": "code",
      "source": [
        "sum=0\n",
        "num=int(input(\"enter any number\"))\n",
        "a=1\n",
        "while(a<=num):\n",
        "    if(a%2!=0):\n",
        "        print(\"odd no is:\",a)\n",
        "        sum=sum+a\n",
        "    a=a+1\n",
        "print(sum)\n"
      ],
      "metadata": {
        "colab": {
          "base_uri": "https://localhost:8080/"
        },
        "id": "GwR1NpPMTtMG",
        "outputId": "937c324a-3ce5-443e-982e-f88d93b4d443"
      },
      "execution_count": null,
      "outputs": [
        {
          "output_type": "stream",
          "name": "stdout",
          "text": [
            "enter any number6\n",
            "odd no is: 1\n",
            "odd no is: 3\n",
            "odd no is: 5\n",
            "9\n"
          ]
        }
      ]
    },
    {
      "cell_type": "code",
      "source": [
        "count=0\n",
        "num=1234\n",
        "while(num>0):\n",
        "    num=num//10\n",
        "    count=count+1\n",
        "print(count)\n"
      ],
      "metadata": {
        "colab": {
          "base_uri": "https://localhost:8080/"
        },
        "id": "6YMq7R1WT7yk",
        "outputId": "8574a331-e646-48c0-85f0-604edd03a0a7"
      },
      "execution_count": null,
      "outputs": [
        {
          "output_type": "stream",
          "name": "stdout",
          "text": [
            "4\n"
          ]
        }
      ]
    },
    {
      "cell_type": "code",
      "source": [
        "num=542\n",
        "rem=int\n",
        "sum=0\n",
        "while(num>0):\n",
        "    rem=num%10\n",
        "    sum=sum+rem\n",
        "    num=num//10\n",
        "print(sum)\n"
      ],
      "metadata": {
        "colab": {
          "base_uri": "https://localhost:8080/"
        },
        "id": "Psjd7vW0T_oV",
        "outputId": "56513258-c672-479f-ca63-a6335319a478"
      },
      "execution_count": null,
      "outputs": [
        {
          "output_type": "stream",
          "name": "stdout",
          "text": [
            "11\n"
          ]
        }
      ]
    },
    {
      "cell_type": "code",
      "source": [
        "num=1234\n",
        "rem=int\n",
        "last=num%10\n",
        "while(num>=10):\n",
        "    num=num//10\n",
        "print(\"last digit=\",last)\n",
        "print(\"first digit=\",num)\n",
        "\n"
      ],
      "metadata": {
        "colab": {
          "base_uri": "https://localhost:8080/"
        },
        "id": "CbjP7IJRUGfq",
        "outputId": "0dcfe722-f571-4198-d7ff-6dcc8f06612d"
      },
      "execution_count": null,
      "outputs": [
        {
          "output_type": "stream",
          "name": "stdout",
          "text": [
            "last digit= 4\n",
            "first digit= 1\n"
          ]
        }
      ]
    },
    {
      "cell_type": "code",
      "source": [
        "num=6234\n",
        "rem=int\n",
        "last=num%10\n",
        "while(num>=10):\n",
        "    num=num//10\n",
        "print(\"last digit=\",last)\n",
        "print(\"first digit=\",num)\n",
        "sum=last+num\n",
        "print(sum)"
      ],
      "metadata": {
        "colab": {
          "base_uri": "https://localhost:8080/"
        },
        "id": "YfJ7gg-wUOTK",
        "outputId": "eafa29be-2b05-4e36-bd39-8c910c19c80f"
      },
      "execution_count": null,
      "outputs": [
        {
          "output_type": "stream",
          "name": "stdout",
          "text": [
            "last digit= 4\n",
            "first digit= 6\n",
            "10\n"
          ]
        }
      ]
    },
    {
      "cell_type": "code",
      "source": [
        "num=int(input(\"enter any number:\"))\n",
        "rem=int\n",
        "sum=0\n",
        "while(num>0):\n",
        "    rem=num%10\n",
        "    sum=sum*10+rem\n",
        "    num=num//10\n",
        "print(sum)"
      ],
      "metadata": {
        "colab": {
          "base_uri": "https://localhost:8080/"
        },
        "id": "6uYWW9U7UTWB",
        "outputId": "78bc7d59-0574-41ed-fe1a-284457c9dca7"
      },
      "execution_count": null,
      "outputs": [
        {
          "output_type": "stream",
          "name": "stdout",
          "text": [
            "enter any number:345\n",
            "543\n"
          ]
        }
      ]
    },
    {
      "cell_type": "code",
      "source": [
        "base=int(input(\"enter the value of base\"))\n",
        "power=int(input(\"enter the value of power\"))\n",
        "result=1\n",
        "for x in range(power):\n",
        "  result=base*result\n",
        "\n",
        "print(result)\n"
      ],
      "metadata": {
        "colab": {
          "base_uri": "https://localhost:8080/"
        },
        "id": "V6rfXaVwUa-Y",
        "outputId": "4c579de5-b486-4ffb-fdc1-dee67bc57388"
      },
      "execution_count": null,
      "outputs": [
        {
          "output_type": "stream",
          "name": "stdout",
          "text": [
            "enter the value of base2\n",
            "enter the value of power4\n",
            "16\n"
          ]
        }
      ]
    },
    {
      "cell_type": "code",
      "source": [
        "num=int(input(\"enter any number:\"))\n",
        "fact=1\n",
        "for x in range(1,num+1):\n",
        "  fact=fact*x\n",
        "print(fact)"
      ],
      "metadata": {
        "colab": {
          "base_uri": "https://localhost:8080/"
        },
        "id": "2zz0pJ6abSui",
        "outputId": "8c8d8efb-330e-4456-9927-9cec36724dad"
      },
      "execution_count": null,
      "outputs": [
        {
          "output_type": "stream",
          "name": "stdout",
          "text": [
            "enter any number:5\n",
            "120\n"
          ]
        }
      ]
    },
    {
      "cell_type": "code",
      "source": [
        "\n",
        "num=int(input(\"enter any number:\"))\n",
        "for x in range(1,num+1):\n",
        "  if(num%x==0):\n",
        "    print(\"it is factor\",x)\n",
        "\n",
        "\n"
      ],
      "metadata": {
        "colab": {
          "base_uri": "https://localhost:8080/"
        },
        "id": "uxX5ffx1cJ5V",
        "outputId": "69cd2f29-bf88-4f88-ccb2-bc000a3923ba"
      },
      "execution_count": null,
      "outputs": [
        {
          "output_type": "stream",
          "name": "stdout",
          "text": [
            "enter any number:10\n",
            "it is factor 1\n",
            "it is factor 2\n",
            "it is factor 5\n",
            "it is factor 10\n"
          ]
        }
      ]
    },
    {
      "cell_type": "code",
      "source": [
        "x=20\n",
        "y=18\n",
        "if(x>y):\n",
        "  greater=x\n",
        "else:\n",
        "  greater=y\n",
        "\n",
        "  while(True):\n",
        "   if(greater%x==0 and greater%y==0):\n",
        "      print(\"LCM is \",greater)\n",
        "      break\n",
        "   else:\n",
        "      greater=greater+1"
      ],
      "metadata": {
        "id": "CCnWgMMfhHAD"
      },
      "execution_count": null,
      "outputs": []
    },
    {
      "cell_type": "code",
      "source": [
        "num=int(input(\"enter any number:\"))\n",
        "if(num>1):\n",
        "  for x in range(2,num):\n",
        "    if(num%x==0):\n",
        "      print(\"not prime number\")\n",
        "      break\n",
        "  else:\n",
        "    print(\"prime number\")"
      ],
      "metadata": {
        "colab": {
          "base_uri": "https://localhost:8080/"
        },
        "id": "x7NeiYVAQlMA",
        "outputId": "2d7fd5a7-9f6f-4395-e044-70c15a507cc6"
      },
      "execution_count": null,
      "outputs": [
        {
          "output_type": "stream",
          "name": "stdout",
          "text": [
            "enter any number:7\n",
            "prime number\n"
          ]
        }
      ]
    },
    {
      "cell_type": "code",
      "source": [
        "num=int(input(\"enter any number:\"))\n",
        "if(num>=1):\n",
        "  for x in range (1,num):\n",
        "    if(num%x!=0):\n",
        "      print(\"prime number\",x)"
      ],
      "metadata": {
        "colab": {
          "base_uri": "https://localhost:8080/"
        },
        "id": "5TM77gxDceIA",
        "outputId": "b09bca24-1a3a-44e5-8fef-1a1c1d295f20"
      },
      "execution_count": null,
      "outputs": [
        {
          "output_type": "stream",
          "name": "stdout",
          "text": [
            "enter any number:5\n",
            "prime number 2\n",
            "prime number 3\n",
            "prime number 4\n"
          ]
        }
      ]
    },
    {
      "cell_type": "code",
      "source": [],
      "metadata": {
        "id": "0ozv0epXdTid"
      },
      "execution_count": null,
      "outputs": []
    },
    {
      "cell_type": "code",
      "source": [
        "\n",
        "num=int(input(\"enter any number:\"))\n",
        "rem=0\n",
        "sum=0\n",
        "temp=num\n",
        "while(num>0):\n",
        "  rem=num%10\n",
        "  sum=sum+rem*rem*rem\n",
        "  num=num//10\n",
        "\n",
        "if(sum==temp):\n",
        "  print(\"armstrong number\")\n",
        "else:\n",
        "  print(\"not armstrong\")\n"
      ],
      "metadata": {
        "colab": {
          "base_uri": "https://localhost:8080/"
        },
        "id": "VN3L76zcdxzl",
        "outputId": "84e3d306-45b3-4987-b782-a1a25316c913"
      },
      "execution_count": null,
      "outputs": [
        {
          "output_type": "stream",
          "name": "stdout",
          "text": [
            "enter any number:153\n",
            "armstrong number\n"
          ]
        }
      ]
    },
    {
      "cell_type": "code",
      "source": [
        "num=int(input(\"enter any number:\"))\n",
        "strong=num\n",
        "sum=0\n",
        "fact=1\n",
        "while(num>0):\n",
        "   rem=num%10\n",
        "   fact=1\n",
        "\n",
        "   for x in range(1,rem+1):\n",
        "       fact=fact*x\n",
        "   sum=sum+fact\n",
        "   num=num//10\n",
        "\n",
        "if(strong==sum):\n",
        "  print(\"strong number\")\n",
        "else:\n",
        "  print(\"not strong number\")\n",
        "\n",
        "\n"
      ],
      "metadata": {
        "colab": {
          "base_uri": "https://localhost:8080/"
        },
        "id": "Y3zWlKd7jSGK",
        "outputId": "a48ac5cf-cd56-475e-f1d3-33df22021317"
      },
      "execution_count": null,
      "outputs": [
        {
          "output_type": "stream",
          "name": "stdout",
          "text": [
            "enter any number:145\n",
            "strong number\n"
          ]
        }
      ]
    },
    {
      "cell_type": "code",
      "source": [
        "num=int(input(\"enter any number:\"))\n",
        "temp=num\n",
        "sum=0\n",
        "#while(num>0):\n",
        "for x in range (1,num):\n",
        "        if(num%x==0):\n",
        "             sum=sum+x\n",
        "\n",
        "if(sum==temp):\n",
        "  print(\"perfect number\")\n",
        "else:\n",
        "  print(\"not perfect\")\n"
      ],
      "metadata": {
        "colab": {
          "base_uri": "https://localhost:8080/"
        },
        "id": "4k6hRyRErGsx",
        "outputId": "d235a996-d248-4c74-9cd4-332a1c4f6187"
      },
      "execution_count": null,
      "outputs": [
        {
          "output_type": "stream",
          "name": "stdout",
          "text": [
            "enter any number:6\n",
            "perfect number\n"
          ]
        }
      ]
    }
  ]
}