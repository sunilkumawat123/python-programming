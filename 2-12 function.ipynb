{
 "cells": [
  {
   "cell_type": "code",
   "execution_count": 1,
   "id": "49fabf7a",
   "metadata": {},
   "outputs": [],
   "source": [
    "# function====> block of code\n",
    "# code readable\n"
   ]
  },
  {
   "cell_type": "code",
   "execution_count": 2,
   "id": "e922f50b",
   "metadata": {},
   "outputs": [
    {
     "name": "stdout",
     "output_type": "stream",
     "text": [
      "Aaditya\n",
      "deepak\n",
      "Aaditya\n",
      "deepak\n"
     ]
    }
   ],
   "source": [
    "def hello():\n",
    "    print(\"Aaditya\")\n",
    "    print(\"deepak\")\n",
    "hello()\n",
    "hello()"
   ]
  },
  {
   "cell_type": "code",
   "execution_count": 5,
   "id": "aee89998",
   "metadata": {},
   "outputs": [
    {
     "name": "stdout",
     "output_type": "stream",
     "text": [
      "78\n",
      "23\n"
     ]
    }
   ],
   "source": [
    "d=23  #global variable\n",
    "def add():\n",
    "    a=23  #local variable\n",
    "    b=32\n",
    "    c=a+b+d\n",
    "    print(c)\n",
    "add()\n",
    "print(d)"
   ]
  },
  {
   "cell_type": "code",
   "execution_count": 6,
   "id": "be3f38da",
   "metadata": {},
   "outputs": [
    {
     "name": "stdout",
     "output_type": "stream",
     "text": [
      "57\n",
      "23\n"
     ]
    }
   ],
   "source": [
    "d=23  #global variable\n",
    "def add():\n",
    "    a=23  #local variable\n",
    "    b=32\n",
    "    d=2\n",
    "    c=a+b+d\n",
    "    print(c)\n",
    "add()\n",
    "print(d)"
   ]
  },
  {
   "cell_type": "code",
   "execution_count": 9,
   "id": "990b1d52",
   "metadata": {},
   "outputs": [
    {
     "name": "stdout",
     "output_type": "stream",
     "text": [
      "145\n",
      "90\n"
     ]
    }
   ],
   "source": [
    "d=23  #global variable\n",
    "def add():\n",
    "    global d   #to change global variable value\n",
    "    a=23  #local variable\n",
    "    b=32\n",
    "    d=90\n",
    "    c=a+b+d\n",
    "    print(c)\n",
    "add()\n",
    "print(d)"
   ]
  },
  {
   "cell_type": "code",
   "execution_count": 11,
   "id": "09a77083",
   "metadata": {},
   "outputs": [
    {
     "name": "stdout",
     "output_type": "stream",
     "text": [
      "23\n"
     ]
    }
   ],
   "source": [
    "#parameter\n",
    "def addno(num):\n",
    "    print(num)\n",
    "addno(23)"
   ]
  },
  {
   "cell_type": "code",
   "execution_count": 3,
   "id": "519b6152",
   "metadata": {},
   "outputs": [
    {
     "name": "stdout",
     "output_type": "stream",
     "text": [
      "x: 34 num 23\n"
     ]
    }
   ],
   "source": [
    "def addno(num,x):\n",
    "    print(\"x:\",x,\"num\",num)\n",
    "addno(23,34)"
   ]
  },
  {
   "cell_type": "code",
   "execution_count": 7,
   "id": "4c6708e5",
   "metadata": {},
   "outputs": [
    {
     "name": "stdout",
     "output_type": "stream",
     "text": [
      "x: 34 num 23\n",
      "new x: 23 new num 45\n"
     ]
    }
   ],
   "source": [
    "def addno(num,x):\n",
    "    print(\"x:\",x,\"num\",num)\n",
    "    x=23\n",
    "    num=45\n",
    "    print(\"new x:\",x,\"new num\",num)\n",
    "\n",
    "addno(23,34)"
   ]
  },
  {
   "cell_type": "code",
   "execution_count": 10,
   "id": "7c3436a0",
   "metadata": {},
   "outputs": [
    {
     "name": "stdout",
     "output_type": "stream",
     "text": [
      "id z: 2322607506000 \n",
      "id x: 2322607506000\n",
      "id z: 2322607506000 \n",
      "id x: 2322607506352\n"
     ]
    }
   ],
   "source": [
    "z=12\n",
    "x=z\n",
    "print(\"id z:\",id(z),\"\\nid x:\",id(x))\n",
    "x=23\n",
    "print(\"id z:\",id(z),\"\\nid x:\",id(x))\n"
   ]
  },
  {
   "cell_type": "code",
   "execution_count": 11,
   "id": "988fd4fd",
   "metadata": {},
   "outputs": [
    {
     "name": "stdout",
     "output_type": "stream",
     "text": [
      "x:  2322607506704\n",
      "old x 34\n",
      "new x 23 2322607506352\n"
     ]
    }
   ],
   "source": [
    "def sum1(x):\n",
    "    print(\"x: \",id(x))\n",
    "    \n",
    "    print(\"old x\",x)\n",
    "    x=23\n",
    "    print(\"new x\",x, id(x))\n",
    "    \n",
    "sum1(34)"
   ]
  },
  {
   "cell_type": "code",
   "execution_count": 12,
   "id": "0222947a",
   "metadata": {},
   "outputs": [],
   "source": [
    "def func(x):\n",
    "    print(\"X:\",x)\n",
    "    x.append(2344)\n"
   ]
  },
  {
   "cell_type": "code",
   "execution_count": 13,
   "id": "9baf1401",
   "metadata": {},
   "outputs": [
    {
     "name": "stdout",
     "output_type": "stream",
     "text": [
      "X: [23, 45, 56, 78]\n",
      "[23, 45, 56, 78, 2344]\n"
     ]
    }
   ],
   "source": [
    "mylist=[23,45,56,78]\n",
    "func(mylist)\n",
    "print(mylist)"
   ]
  },
  {
   "cell_type": "code",
   "execution_count": 15,
   "id": "e7628d81",
   "metadata": {},
   "outputs": [],
   "source": [
    "# mutable data types also changes the value when any updates are made by global or local variable"
   ]
  },
  {
   "cell_type": "code",
   "execution_count": 18,
   "id": "5582c70f",
   "metadata": {},
   "outputs": [],
   "source": [
    "def func(x):\n",
    "    print(x+12)\n"
   ]
  },
  {
   "cell_type": "code",
   "execution_count": 19,
   "id": "a5e5a516",
   "metadata": {},
   "outputs": [
    {
     "name": "stdout",
     "output_type": "stream",
     "text": [
      "92\n",
      "None\n"
     ]
    }
   ],
   "source": [
    "out=func(80)\n",
    "print(out)"
   ]
  },
  {
   "cell_type": "code",
   "execution_count": 20,
   "id": "4450b06a",
   "metadata": {},
   "outputs": [],
   "source": [
    "# by default function returns none value"
   ]
  },
  {
   "cell_type": "code",
   "execution_count": 27,
   "id": "0b64fd3b",
   "metadata": {},
   "outputs": [],
   "source": [
    "def func(x):\n",
    "#     print(x+12)\n",
    "    return x+12"
   ]
  },
  {
   "cell_type": "code",
   "execution_count": 28,
   "id": "b6918fbb",
   "metadata": {},
   "outputs": [
    {
     "name": "stdout",
     "output_type": "stream",
     "text": [
      "35\n"
     ]
    }
   ],
   "source": [
    "out=func(23)\n",
    "print(out)"
   ]
  },
  {
   "cell_type": "code",
   "execution_count": 30,
   "id": "486506a3",
   "metadata": {},
   "outputs": [
    {
     "data": {
      "text/plain": [
       "True"
      ]
     },
     "execution_count": 30,
     "metadata": {},
     "output_type": "execute_result"
    }
   ],
   "source": [
    "def num(x):\n",
    "    if(x%2==0):\n",
    "        return True\n",
    "    else:\n",
    "        return False\n",
    "num(22)"
   ]
  },
  {
   "cell_type": "code",
   "execution_count": 32,
   "id": "49db650c",
   "metadata": {},
   "outputs": [
    {
     "name": "stdout",
     "output_type": "stream",
     "text": [
      "True\n"
     ]
    }
   ],
   "source": [
    "x=num(24)\n",
    "print(x)"
   ]
  },
  {
   "cell_type": "code",
   "execution_count": 33,
   "id": "213386f3",
   "metadata": {},
   "outputs": [],
   "source": [
    "# 1. 10 digit fibonaccy series in a list and return list\n",
    "# 2. take a num from user and check whether num is a palindrome num or not\n",
    "# 3. user input string and convert first and last word in capital\n",
    "# 4. function takes n as a number of rows and print piramid\n"
   ]
  },
  {
   "cell_type": "code",
   "execution_count": 12,
   "id": "b44ac5fe",
   "metadata": {},
   "outputs": [
    {
     "data": {
      "text/plain": [
       "[0, 1, 1, 2, 3, 5, 8, 13, 21, 34]"
      ]
     },
     "execution_count": 12,
     "metadata": {},
     "output_type": "execute_result"
    }
   ],
   "source": [
    "lst=[0,1]\n",
    "def fibonacci():\n",
    "    n1=0\n",
    "    n2=1\n",
    "    for i in range(2,10):\n",
    "        n3=n1+n2\n",
    "        n1=n2\n",
    "        n2=n3\n",
    "        lst.append(n3)\n",
    "    return lst\n",
    "fibonacci()\n"
   ]
  },
  {
   "cell_type": "code",
   "execution_count": 21,
   "id": "04ddac6f",
   "metadata": {},
   "outputs": [
    {
     "name": "stdout",
     "output_type": "stream",
     "text": [
      "palindrome\n"
     ]
    }
   ],
   "source": [
    "def palindrome(n):\n",
    "    sum=0\n",
    "    rem=0\n",
    "    a=n\n",
    "    while(n>0):\n",
    "        rem=n%10\n",
    "        sum=sum*10+rem\n",
    "        n=n//10\n",
    "    if(a==sum):\n",
    "        print(\"palindrome\")\n",
    "    else:\n",
    "        print(\"not palindrome\")\n",
    "    \n",
    "palindrome(12321)"
   ]
  },
  {
   "cell_type": "code",
   "execution_count": 34,
   "id": "350e78eb",
   "metadata": {},
   "outputs": [],
   "source": [
    "# 3. user input string and convert first and last word in capital\n",
    "def string(s):\n",
    "    k=''\n",
    "    for i in range(len(s)):\n",
    "        if(i==0 or i==len(s)-1):\n",
    "            k+=s[i].capitalize()\n",
    "        else:\n",
    "            k+=s[i]\n",
    "            \n",
    "    print(k)\n",
    "        "
   ]
  },
  {
   "cell_type": "code",
   "execution_count": 36,
   "id": "6dc4bef6",
   "metadata": {},
   "outputs": [
    {
     "name": "stdout",
     "output_type": "stream",
     "text": [
      "Aaditya basnaL\n"
     ]
    }
   ],
   "source": [
    "string(\"Aaditya basnal\")"
   ]
  },
  {
   "cell_type": "code",
   "execution_count": 17,
   "id": "1504d06f",
   "metadata": {
    "scrolled": true
   },
   "outputs": [],
   "source": [
    "# 4. function takes n as a number of rows and print piramid\n",
    "def piramid(n):\n",
    "    for i in range(1,n+1):\n",
    "        for j in range(n+1,i,-1):\n",
    "            print(\" \",end=\"\")\n",
    "        for k in range(1,i+1):\n",
    "            print(\"*\",end=\" \")\n",
    "        print(\"\")"
   ]
  },
  {
   "cell_type": "code",
   "execution_count": 20,
   "id": "13d5fc4e",
   "metadata": {},
   "outputs": [
    {
     "name": "stdout",
     "output_type": "stream",
     "text": [
      "     * \n",
      "    * * \n",
      "   * * * \n",
      "  * * * * \n",
      " * * * * * \n"
     ]
    }
   ],
   "source": [
    "piramid(5)"
   ]
  },
  {
   "cell_type": "code",
   "execution_count": null,
   "id": "b0c17047",
   "metadata": {},
   "outputs": [],
   "source": []
  }
 ],
 "metadata": {
  "kernelspec": {
   "display_name": "Python 3 (ipykernel)",
   "language": "python",
   "name": "python3"
  },
  "language_info": {
   "codemirror_mode": {
    "name": "ipython",
    "version": 3
   },
   "file_extension": ".py",
   "mimetype": "text/x-python",
   "name": "python",
   "nbconvert_exporter": "python",
   "pygments_lexer": "ipython3",
   "version": "3.10.9"
  }
 },
 "nbformat": 4,
 "nbformat_minor": 5
}
