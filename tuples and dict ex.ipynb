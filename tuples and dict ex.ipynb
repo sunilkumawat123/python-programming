{
 "cells": [
  {
   "cell_type": "markdown",
   "id": "f3a44773",
   "metadata": {},
   "source": [
    "## tuples examples"
   ]
  },
  {
   "cell_type": "code",
   "execution_count": 1,
   "id": "fc0ea539",
   "metadata": {},
   "outputs": [
    {
     "name": "stdout",
     "output_type": "stream",
     "text": [
      "(1, 2, 3, 4)\n"
     ]
    }
   ],
   "source": [
    "#tuple to list\n",
    "def tuple_con(lst):\n",
    "    return tuple(lst)\n",
    "print(tuple_con([1,2,3,4]))"
   ]
  },
  {
   "cell_type": "code",
   "execution_count": 2,
   "id": "ff03bdee",
   "metadata": {},
   "outputs": [
    {
     "name": "stdout",
     "output_type": "stream",
     "text": [
      "5\n"
     ]
    }
   ],
   "source": [
    "#tuple length\n",
    "def tuple_len(tup):\n",
    "    return len(tup)\n",
    "print(tuple_len((1,2,34,5,4)))"
   ]
  },
  {
   "cell_type": "code",
   "execution_count": 3,
   "id": "dc8510c2",
   "metadata": {},
   "outputs": [
    {
     "name": "stdout",
     "output_type": "stream",
     "text": [
      "(54, 1)\n"
     ]
    }
   ],
   "source": [
    "#find min max from tuple\n",
    "def tuple_max_min(tup):\n",
    "    return max(tup), min(tup)\n",
    "print(tuple_max_min((1,3,4,5,54)))"
   ]
  },
  {
   "cell_type": "code",
   "execution_count": 5,
   "id": "b688f3be",
   "metadata": {},
   "outputs": [
    {
     "name": "stdout",
     "output_type": "stream",
     "text": [
      "(12, 32, 23, 12)\n"
     ]
    }
   ],
   "source": [
    "#concate two tuple\n",
    "def tu(tup1,tup2):\n",
    "    return (tup1+ tup2)\n",
    "print(tu((12,32),(23,12)))"
   ]
  },
  {
   "cell_type": "code",
   "execution_count": 6,
   "id": "f0bd6ee3",
   "metadata": {},
   "outputs": [
    {
     "name": "stdout",
     "output_type": "stream",
     "text": [
      "True\n"
     ]
    }
   ],
   "source": [
    "# check a specific element exists in a tuple\n",
    "def element_exists(tuple,element):\n",
    "    return element in tuple\n",
    "print(element_exists((1,2,3,4,4),3))"
   ]
  },
  {
   "cell_type": "code",
   "execution_count": 7,
   "id": "f5bf52ac",
   "metadata": {},
   "outputs": [
    {
     "name": "stdout",
     "output_type": "stream",
     "text": [
      "1\n"
     ]
    }
   ],
   "source": [
    "# find index value of specific element in tuple\n",
    "def tuple_index(tup,element):\n",
    "    return tup.index(element)\n",
    "print(tuple_index((1,2,3,4,5,3),2))"
   ]
  },
  {
   "cell_type": "code",
   "execution_count": 9,
   "id": "ec873e53",
   "metadata": {},
   "outputs": [
    {
     "name": "stdout",
     "output_type": "stream",
     "text": [
      "asd\n"
     ]
    }
   ],
   "source": [
    "# convert a tuple of characters into a string\n",
    "def tuple_to_str(tup):\n",
    "    return ''.join(tup)\n",
    "print(tuple_to_str(('a','s','d')))"
   ]
  },
  {
   "cell_type": "code",
   "execution_count": 12,
   "id": "4a299009",
   "metadata": {},
   "outputs": [
    {
     "name": "stdout",
     "output_type": "stream",
     "text": [
      "(1, 34, 5)\n"
     ]
    }
   ],
   "source": [
    "# remove an element from a tuple (by converting it into a list, then) back to a tuple\n",
    "def remove_element_tuple(tup,element):\n",
    "    lst=list(tup)\n",
    "    if element in lst:\n",
    "        lst.remove(element)\n",
    "    return tuple(lst)\n",
    "print(remove_element_tuple((1,2,34,5),2))"
   ]
  },
  {
   "cell_type": "code",
   "execution_count": 13,
   "id": "fafcb47a",
   "metadata": {},
   "outputs": [
    {
     "name": "stdout",
     "output_type": "stream",
     "text": [
      "3\n"
     ]
    }
   ],
   "source": [
    "#count the number of times a specific element appeares in a tuple\n",
    "def count_occurrence(tup,element):\n",
    "    return tup.count(element)\n",
    "print(count_occurrence((1,2,4,2,3,23,2),2))"
   ]
  },
  {
   "cell_type": "code",
   "execution_count": 16,
   "id": "cfbe859d",
   "metadata": {},
   "outputs": [
    {
     "name": "stdout",
     "output_type": "stream",
     "text": [
      "12 23 23\n"
     ]
    }
   ],
   "source": [
    "# unpack the element of a tuple into separate variable\n",
    "def unpac(tup):\n",
    "    a,b,c=tup\n",
    "    return a,b,c\n",
    "a,b,c=unpac((12,23,23))\n",
    "print(a,b,c)"
   ]
  },
  {
   "cell_type": "markdown",
   "id": "af5cf6b2",
   "metadata": {},
   "source": [
    "## Dictionary"
   ]
  },
  {
   "cell_type": "code",
   "execution_count": 18,
   "id": "7639bec4",
   "metadata": {},
   "outputs": [
    {
     "name": "stdout",
     "output_type": "stream",
     "text": [
      "{'name': 'aadi', 'city': 'jaipur'}\n"
     ]
    }
   ],
   "source": [
    "#create dict from two lists one for keys and secound for values\n",
    "\n",
    "def lists_to_dict(lst1,lst2):\n",
    "    return dict(zip(lst1,lst2))\n",
    "key=['name','city']\n",
    "value=['aadi','jaipur']\n",
    "print(lists_to_dict(key,value))"
   ]
  },
  {
   "cell_type": "code",
   "execution_count": 19,
   "id": "685b2fc3",
   "metadata": {},
   "outputs": [
    {
     "name": "stdout",
     "output_type": "stream",
     "text": [
      "35\n"
     ]
    }
   ],
   "source": [
    "# sum of all values in a dict\n",
    "def sum_value(di):\n",
    "    return sum(di.values())\n",
    "d={'a':12,'b':23}\n",
    "print(sum_value(d))"
   ]
  },
  {
   "cell_type": "code",
   "execution_count": 23,
   "id": "3ff47b1d",
   "metadata": {},
   "outputs": [
    {
     "name": "stdout",
     "output_type": "stream",
     "text": [
      "{'a': 12, 'b': 23, 'c': 121, 'd': 23}\n"
     ]
    }
   ],
   "source": [
    "#merge two dict into one\n",
    "def merge_fict(d1,d2):\n",
    "    return {**d1, **d2}\n",
    "d={'a':12,'b':23}\n",
    "d3={'c':121,'d':23}\n",
    "print(merge_fict(d,d3))"
   ]
  },
  {
   "cell_type": "code",
   "execution_count": 24,
   "id": "27ef4db7",
   "metadata": {},
   "outputs": [
    {
     "name": "stdout",
     "output_type": "stream",
     "text": [
      "23\n",
      "None\n"
     ]
    }
   ],
   "source": [
    "# access the value of given key in dict if the key is not present give default value\n",
    "\n",
    "def get_value(d,key,default=None):\n",
    "    return d.get(key,default)\n",
    "d={'a':12,'b':23}\n",
    "print(get_value(d,'b'))\n",
    "print(get_value(d,'c'))\n"
   ]
  },
  {
   "cell_type": "code",
   "execution_count": 25,
   "id": "16067ceb",
   "metadata": {},
   "outputs": [
    {
     "name": "stdout",
     "output_type": "stream",
     "text": [
      "{'a': 12, 'b': 12, 'c': 23}\n"
     ]
    }
   ],
   "source": [
    "# update an existing dict with another dict key value pairs\n",
    "\n",
    "def update_dict(d1,d2):\n",
    "    d1.update(d2)\n",
    "    return d1\n",
    "\n",
    "d1={'a':12,'b':23}\n",
    "d2={'b':12,'c':23}\n",
    "print(update_dict(d1,d2))\n"
   ]
  },
  {
   "cell_type": "code",
   "execution_count": 28,
   "id": "4db36e74",
   "metadata": {},
   "outputs": [
    {
     "name": "stdout",
     "output_type": "stream",
     "text": [
      "True\n"
     ]
    }
   ],
   "source": [
    "# check if a key exists in a dict\n",
    "def key_exists(d,key):\n",
    "    return key in d\n",
    "d={'a':12,'b':23}\n",
    "print(key_exists(d,'b'))"
   ]
  },
  {
   "cell_type": "code",
   "execution_count": 30,
   "id": "c1e1d8bd",
   "metadata": {},
   "outputs": [
    {
     "name": "stdout",
     "output_type": "stream",
     "text": [
      "{'a': 12, 'b': 23}\n"
     ]
    }
   ],
   "source": [
    "# delete a key-value pair from dict by using the key\n",
    "\n",
    "def delete_paie(d,key):\n",
    "    if key in d:\n",
    "        del d[key]\n",
    "    return d\n",
    "d={'a':12,'b':23,'c':231}\n",
    "print(delete_paie(d,'c'))\n"
   ]
  },
  {
   "cell_type": "code",
   "execution_count": 32,
   "id": "ab79e222",
   "metadata": {},
   "outputs": [
    {
     "name": "stdout",
     "output_type": "stream",
     "text": [
      "(23, 4)\n"
     ]
    }
   ],
   "source": [
    "# find max and min value in a dict\n",
    "\n",
    "def max_min_value(d):\n",
    "    return max(d.values()),min(d.values())\n",
    "d={'a':12,'b':23,'c':4}\n",
    "print(max_min_value(d))"
   ]
  },
  {
   "cell_type": "code",
   "execution_count": 34,
   "id": "71a01664",
   "metadata": {},
   "outputs": [
    {
     "name": "stdout",
     "output_type": "stream",
     "text": [
      "{'h': 1, 'e': 1, 'l': 3, 'o': 2, ' ': 1, 'w': 1, 'r': 1, 'd': 1}\n"
     ]
    }
   ],
   "source": [
    "# count frequency of each charachter in  a string and store the result\n",
    "\n",
    "def char_freq(d):\n",
    "    freq={}\n",
    "    for char in d:\n",
    "        freq[char]=freq.get(char,0)+1\n",
    "    return freq\n",
    "print(char_freq('hello world'))"
   ]
  },
  {
   "cell_type": "code",
   "execution_count": 35,
   "id": "8c119694",
   "metadata": {},
   "outputs": [
    {
     "name": "stdout",
     "output_type": "stream",
     "text": [
      "{'c': 11, 'a': 12, 'b': 23}\n"
     ]
    }
   ],
   "source": [
    "# sort a dict by its value in ascending order\n",
    "def sort_dict(d):\n",
    "    return dict(sorted(d.items(),key=lambda item :item[1]))\n",
    "\n",
    "\n",
    "d={'a':12,'b':23,'c':11}\n",
    "print(sort_dict(d))\n"
   ]
  },
  {
   "cell_type": "code",
   "execution_count": null,
   "id": "6e6dd4e6",
   "metadata": {},
   "outputs": [],
   "source": []
  }
 ],
 "metadata": {
  "kernelspec": {
   "display_name": "Python 3 (ipykernel)",
   "language": "python",
   "name": "python3"
  },
  "language_info": {
   "codemirror_mode": {
    "name": "ipython",
    "version": 3
   },
   "file_extension": ".py",
   "mimetype": "text/x-python",
   "name": "python",
   "nbconvert_exporter": "python",
   "pygments_lexer": "ipython3",
   "version": "3.10.9"
  }
 },
 "nbformat": 4,
 "nbformat_minor": 5
}
