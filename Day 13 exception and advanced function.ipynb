{
 "cells": [
  {
   "cell_type": "markdown",
   "id": "2cb3bb1d",
   "metadata": {},
   "source": [
    "#  First class function"
   ]
  },
  {
   "cell_type": "code",
   "execution_count": 1,
   "id": "3c51d4ad",
   "metadata": {},
   "outputs": [],
   "source": [
    "# First class vs high class function\n",
    "# 1. first class function\n",
    "# A first class function means that functions in python are treated as first class citizens, meaning:\n",
    "    \n",
    "#     Functions can be passes as arguments to other function\n",
    "#     functions can be returned from another function\n",
    "#     Functions can be assigned to a variable\n",
    "#     Functions can be stored in data structures (like lists , dictionaries, etc)"
   ]
  },
  {
   "cell_type": "code",
   "execution_count": 9,
   "id": "e3fdefbc",
   "metadata": {},
   "outputs": [
    {
     "name": "stdout",
     "output_type": "stream",
     "text": [
      "Hello sam\n",
      "Hello amit\n",
      "I am inner function\n"
     ]
    }
   ],
   "source": [
    "#Assigning a function to a variable\n",
    "def greet(name):\n",
    "    return f\"Hello {name}\"\n",
    "\n",
    "say_hello= greet     #function is assigned to a variable\n",
    "print(say_hello(\"sam\"))\n",
    "\n",
    "#passing a function as an argument to another function\n",
    "def call_function(func,name):\n",
    "    return func(name)\n",
    "\n",
    "print(call_function(greet, 'amit'))\n",
    "\n",
    "#Returning a function from another function\n",
    "def outer_function():\n",
    "    def inner_function():\n",
    "        return \"I am inner function\"\n",
    "    \n",
    "    return inner_function\n",
    "\n",
    "inner= outer_function()   #outer functions return inner function\n",
    "print(inner())            \n",
    "\n"
   ]
  },
  {
   "cell_type": "code",
   "execution_count": null,
   "id": "831405d6",
   "metadata": {},
   "outputs": [],
   "source": []
  },
  {
   "cell_type": "markdown",
   "id": "0aa74008",
   "metadata": {},
   "source": [
    "## Higher order function "
   ]
  },
  {
   "cell_type": "code",
   "execution_count": 12,
   "id": "345ec587",
   "metadata": {},
   "outputs": [
    {
     "name": "stdout",
     "output_type": "stream",
     "text": [
      "12\n",
      "15\n"
     ]
    }
   ],
   "source": [
    "#higher order function that takes a function as an argument\n",
    "def apply_twice(func,value):\n",
    "    return func(func(value))\n",
    "\n",
    "def double(x):\n",
    "    return x*2\n",
    "\n",
    "print(apply_twice(double,3))\n",
    "\n",
    "#Higher order function that returns another function\n",
    "def create_multiplier(n):\n",
    "    def multi(x):\n",
    "        return x*n\n",
    "    return multi\n",
    "\n",
    "time3=create_multiplier(3)\n",
    "print(time3(5))"
   ]
  },
  {
   "cell_type": "code",
   "execution_count": null,
   "id": "9f309839",
   "metadata": {},
   "outputs": [],
   "source": []
  },
  {
   "cell_type": "markdown",
   "id": "fb856912",
   "metadata": {},
   "source": [
    "## Exception"
   ]
  },
  {
   "cell_type": "code",
   "execution_count": 13,
   "id": "1a401042",
   "metadata": {},
   "outputs": [],
   "source": [
    "# Types of exceptions===>\n",
    "\n",
    "# 1. SyntexErrror: raised when the parser encounters a syntex error.\n",
    "\n",
    "# 2. ValueError: raised when a function gets an argument of the right type but an inappropriate value.\n",
    "    \n",
    "# 3. TypeError: raised when an operation or function is applied to an object of inappropriate type.\n",
    "    \n",
    "# 4. ZeroDivisionError: raised when attempting to divide by zero\n",
    "    \n",
    "# 5. KeyError: raised when a dictionary is accessed with a key that does not exist.\n",
    "    \n",
    "# 6. IndexError: raised when trying to access an element from a list using an index that is out of bounds.\n",
    "    \n",
    "# 7. FileNotFoundError: raised when trying to open a file that does not exists \n",
    "    \n",
    "# 8. AttributeError: raised when an invalid attribute is referenced"
   ]
  },
  {
   "cell_type": "code",
   "execution_count": 16,
   "id": "37629115",
   "metadata": {},
   "outputs": [
    {
     "name": "stdout",
     "output_type": "stream",
     "text": [
      "caught a ZeroDivisionError  division by zero\n"
     ]
    }
   ],
   "source": [
    "#handling ZeroDivisionError\n",
    "def example():\n",
    "    try:\n",
    "        result=12/0\n",
    "    except ZeroDivisionError as e:\n",
    "        print(\"caught a ZeroDivisionError \",e)\n",
    "        \n",
    "example()"
   ]
  },
  {
   "cell_type": "code",
   "execution_count": 17,
   "id": "322f1338",
   "metadata": {},
   "outputs": [
    {
     "name": "stdout",
     "output_type": "stream",
     "text": [
      "caught a ValueError  invalid literal for int() with base 10: 'sam'\n"
     ]
    }
   ],
   "source": [
    "#handling ValueError\n",
    "def example():\n",
    "    try:\n",
    "        num=int(\"sam\") #raise value error\n",
    "    except ValueError as e:\n",
    "        print(\"caught a ValueError \",e)\n",
    "        \n",
    "example()"
   ]
  },
  {
   "cell_type": "code",
   "execution_count": 18,
   "id": "bfdabe65",
   "metadata": {},
   "outputs": [
    {
     "name": "stdout",
     "output_type": "stream",
     "text": [
      "caught a KeyError  'age'\n"
     ]
    }
   ],
   "source": [
    "#handling KeyError\n",
    "def example():\n",
    "    try:\n",
    "        data={'name':'asd'}\n",
    "        print(data['age'])     #age does not exist\n",
    "    except KeyError as e:\n",
    "        print(\"caught a KeyError \",e)\n",
    "        \n",
    "example()"
   ]
  },
  {
   "cell_type": "code",
   "execution_count": 19,
   "id": "5d53e9a6",
   "metadata": {},
   "outputs": [
    {
     "name": "stdout",
     "output_type": "stream",
     "text": [
      "caught a IndexError  list index out of range\n"
     ]
    }
   ],
   "source": [
    "#handling IndexError\n",
    "def example():\n",
    "    try:\n",
    "        li=[1,2,3]\n",
    "        print(li[7])    #IndexError since index 7 is out of range\n",
    "    except IndexError as e:\n",
    "        print(\"caught a IndexError \",e)\n",
    "        \n",
    "example()"
   ]
  },
  {
   "cell_type": "code",
   "execution_count": 20,
   "id": "0abaf00b",
   "metadata": {},
   "outputs": [
    {
     "name": "stdout",
     "output_type": "stream",
     "text": [
      "caught a FileNotFoundError  [Errno 2] No such file or directory: 'non_existing_file.txt'\n"
     ]
    }
   ],
   "source": [
    "#handling FileNotFoundError\n",
    "def example():\n",
    "    try:\n",
    "        with open('non_existing_file.txt') as file:\n",
    "            content=file.read()\n",
    "    except FileNotFoundError as e:\n",
    "        print(\"caught a FileNotFoundError \",e)\n",
    "        \n",
    "example()"
   ]
  },
  {
   "cell_type": "code",
   "execution_count": 22,
   "id": "2d6dd8ba",
   "metadata": {},
   "outputs": [
    {
     "name": "stdout",
     "output_type": "stream",
     "text": [
      "caught either a ValueError or ZeroDivisionError  invalid literal for int() with base 10: 'string'\n"
     ]
    }
   ],
   "source": [
    "#handling multiple exceptions\n",
    "def example():\n",
    "    try:\n",
    "        number=int(\"string\")     #raise ValueError\n",
    "        result=10/0              #raise zerodivisionerror\n",
    "    except (ValueError,ZeroDivisionError) as e:\n",
    "        print(\"caught either a ValueError or ZeroDivisionError \",e)\n",
    "        \n",
    "example()"
   ]
  },
  {
   "cell_type": "code",
   "execution_count": 23,
   "id": "036ef2a7",
   "metadata": {},
   "outputs": [
    {
     "name": "stdout",
     "output_type": "stream",
     "text": [
      "caught a ZeroDivisionError  division by zero\n",
      "this block runs no matters what\n"
     ]
    }
   ],
   "source": [
    "# using else and finally\n",
    "def example():\n",
    "    try:\n",
    "        result=12/0\n",
    "    except ZeroDivisionError as e:\n",
    "        print(\"caught a ZeroDivisionError \",e)\n",
    "        \n",
    "    else:\n",
    "        print(\"file operation was successful\")\n",
    "    finally:\n",
    "        print(\"this block runs no matters what\")\n",
    "        \n",
    "example()"
   ]
  },
  {
   "cell_type": "code",
   "execution_count": null,
   "id": "6c6c2523",
   "metadata": {},
   "outputs": [],
   "source": []
  }
 ],
 "metadata": {
  "kernelspec": {
   "display_name": "Python 3 (ipykernel)",
   "language": "python",
   "name": "python3"
  },
  "language_info": {
   "codemirror_mode": {
    "name": "ipython",
    "version": 3
   },
   "file_extension": ".py",
   "mimetype": "text/x-python",
   "name": "python",
   "nbconvert_exporter": "python",
   "pygments_lexer": "ipython3",
   "version": "3.10.9"
  }
 },
 "nbformat": 4,
 "nbformat_minor": 5
}
