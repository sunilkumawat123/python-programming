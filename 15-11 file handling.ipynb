{
 "cells": [
  {
   "cell_type": "code",
   "execution_count": 1,
   "id": "cfa8aeed",
   "metadata": {},
   "outputs": [
    {
     "name": "stdout",
     "output_type": "stream",
     "text": [
      "i love physics\n",
      "\n",
      "i love reading books on daily basic\n",
      "\n",
      "i know law of gravity\n",
      "\n"
     ]
    }
   ],
   "source": [
    "file=open('first.txt','r')\n",
    "for each in file:\n",
    "    print(each)"
   ]
  },
  {
   "cell_type": "code",
   "execution_count": 2,
   "id": "56348e77",
   "metadata": {},
   "outputs": [
    {
     "name": "stdout",
     "output_type": "stream",
     "text": [
      "i love physics\n",
      "i love reading books on daily basic\n",
      "i know law of gravity\n",
      "\n"
     ]
    }
   ],
   "source": [
    "file=open('first.txt','r')\n",
    "print(file.read())"
   ]
  },
  {
   "cell_type": "code",
   "execution_count": 5,
   "id": "bf4aed99",
   "metadata": {},
   "outputs": [
    {
     "name": "stdout",
     "output_type": "stream",
     "text": [
      "i love physics\n",
      "i love reading books on daily basic\n",
      "i know law of gravity\n",
      "\n"
     ]
    }
   ],
   "source": [
    "with open(\"first.txt\") as file:\n",
    "    data=file.read()\n",
    "print(data)"
   ]
  },
  {
   "cell_type": "code",
   "execution_count": 9,
   "id": "34584ed0",
   "metadata": {},
   "outputs": [
    {
     "name": "stdout",
     "output_type": "stream",
     "text": [
      "i love physics\n",
      "i love reading books on d\n"
     ]
    }
   ],
   "source": [
    "file=open('first.txt','r')\n",
    "print(file.read(40))"
   ]
  },
  {
   "cell_type": "code",
   "execution_count": 11,
   "id": "0457ef1e",
   "metadata": {},
   "outputs": [
    {
     "name": "stdout",
     "output_type": "stream",
     "text": [
      "['i', 'love', 'physics']\n",
      "['i', 'love', 'reading', 'books', 'on', 'daily', 'basic']\n",
      "['i', 'know', 'law', 'of', 'gravity']\n"
     ]
    }
   ],
   "source": [
    "with open(\"first.txt\") as file:\n",
    "    data=file.readlines()\n",
    "    for line in data:\n",
    "        word=line.split()\n",
    "        print(word)"
   ]
  },
  {
   "cell_type": "code",
   "execution_count": 12,
   "id": "dd6291b0",
   "metadata": {},
   "outputs": [],
   "source": [
    "file=open('secound.txt','w')\n",
    "file.write(\"this is the write command\")\n",
    "file.write(\"it allows us to write\")\n",
    "file.close()"
   ]
  },
  {
   "cell_type": "code",
   "execution_count": 13,
   "id": "9a5f06bf",
   "metadata": {},
   "outputs": [],
   "source": [
    "with open(\"first.txt\",'w') as file:\n",
    "    file.write(\"Hello world\")\n"
   ]
  },
  {
   "cell_type": "code",
   "execution_count": 14,
   "id": "34f4b15c",
   "metadata": {},
   "outputs": [],
   "source": [
    "file=open('first.txt','a')\n",
    "file.write(\" new added line\")\n",
    "file.close()"
   ]
  },
  {
   "cell_type": "code",
   "execution_count": 19,
   "id": "0db866c3",
   "metadata": {},
   "outputs": [
    {
     "name": "stdout",
     "output_type": "stream",
     "text": [
      "hyy\n",
      "29\n"
     ]
    }
   ],
   "source": [
    "with open(\"first.txt\",\"r+\") as file: ## r+ mrans read and write both\n",
    "    data=file.write(\"hello world this is add sdjfh\")\n",
    "    print(\"hyy\")\n",
    "    print(data)\n"
   ]
  },
  {
   "cell_type": "code",
   "execution_count": 31,
   "id": "b1ccb8b7",
   "metadata": {},
   "outputs": [
    {
     "name": "stdout",
     "output_type": "stream",
     "text": [
      "hyy\n",
      "hello world this is add sdjfh\n"
     ]
    }
   ],
   "source": [
    "file= open(\"first.txt\",\"r+\")\n",
    "file.write(\"hello world this is add sdjfh\")\n",
    "print(\"hyy\")\n",
    "file.seek(0)\n",
    "print(file.read())\n"
   ]
  },
  {
   "cell_type": "code",
   "execution_count": 25,
   "id": "c19602b9",
   "metadata": {},
   "outputs": [
    {
     "name": "stdout",
     "output_type": "stream",
     "text": [
      "hyy\n",
      "hello world \n",
      "this is add sdjfh\n"
     ]
    }
   ],
   "source": [
    "with open(\"example.txt\",\"w+\") as file:   ## w+ write and read both\n",
    "    file.write(\"hello world \\nthis is add sdjfh\")\n",
    "    print(\"hyy\")\n",
    "    file.seek(0)    #without this we can not read file\n",
    "    print(file.read())\n"
   ]
  },
  {
   "cell_type": "code",
   "execution_count": null,
   "id": "2fbead4c",
   "metadata": {},
   "outputs": [],
   "source": []
  }
 ],
 "metadata": {
  "kernelspec": {
   "display_name": "Python 3 (ipykernel)",
   "language": "python",
   "name": "python3"
  },
  "language_info": {
   "codemirror_mode": {
    "name": "ipython",
    "version": 3
   },
   "file_extension": ".py",
   "mimetype": "text/x-python",
   "name": "python",
   "nbconvert_exporter": "python",
   "pygments_lexer": "ipython3",
   "version": "3.10.9"
  }
 },
 "nbformat": 4,
 "nbformat_minor": 5
}
