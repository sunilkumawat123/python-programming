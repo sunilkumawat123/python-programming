{
 "cells": [
  {
   "cell_type": "code",
   "execution_count": 8,
   "id": "db3459cb",
   "metadata": {},
   "outputs": [
    {
     "data": {
      "text/plain": [
       "[True, False, True, True]"
      ]
     },
     "execution_count": 8,
     "metadata": {},
     "output_type": "execute_result"
    }
   ],
   "source": [
    "def even(x):\n",
    "    if(x%2==0):\n",
    "        return True\n",
    "    else:\n",
    "        return False\n",
    "\n",
    "list(map(even,[12,43,56,76]))"
   ]
  },
  {
   "cell_type": "code",
   "execution_count": 9,
   "id": "1bc0f037",
   "metadata": {},
   "outputs": [
    {
     "data": {
      "text/plain": [
       "[12, 56, 76]"
      ]
     },
     "execution_count": 9,
     "metadata": {},
     "output_type": "execute_result"
    }
   ],
   "source": [
    "def even(x):\n",
    "    if(x%2==0):\n",
    "        return True\n",
    "    else:\n",
    "        return False\n",
    "\n",
    "list(filter(even,[12,43,56,76]))"
   ]
  },
  {
   "cell_type": "code",
   "execution_count": 5,
   "id": "ad2c2315",
   "metadata": {},
   "outputs": [
    {
     "data": {
      "text/plain": [
       "[False, True, False, True]"
      ]
     },
     "execution_count": 5,
     "metadata": {},
     "output_type": "execute_result"
    }
   ],
   "source": [
    "list(map(lambda x:x%2==0,[19,34,45,56]))"
   ]
  },
  {
   "cell_type": "code",
   "execution_count": 6,
   "id": "947abb59",
   "metadata": {},
   "outputs": [
    {
     "data": {
      "text/plain": [
       "[34, 56]"
      ]
     },
     "execution_count": 6,
     "metadata": {},
     "output_type": "execute_result"
    }
   ],
   "source": [
    "list(filter(lambda x:x%2==0,[19,34,45,56]))"
   ]
  },
  {
   "cell_type": "markdown",
   "id": "beedaa98",
   "metadata": {},
   "source": [
    "## valid paranthesis:  using list , using dictionary"
   ]
  },
  {
   "cell_type": "markdown",
   "id": "ee407fa0",
   "metadata": {},
   "source": [
    "## number to roman"
   ]
  },
  {
   "cell_type": "code",
   "execution_count": null,
   "id": "803581cb",
   "metadata": {},
   "outputs": [],
   "source": []
  }
 ],
 "metadata": {
  "kernelspec": {
   "display_name": "Python 3 (ipykernel)",
   "language": "python",
   "name": "python3"
  },
  "language_info": {
   "codemirror_mode": {
    "name": "ipython",
    "version": 3
   },
   "file_extension": ".py",
   "mimetype": "text/x-python",
   "name": "python",
   "nbconvert_exporter": "python",
   "pygments_lexer": "ipython3",
   "version": "3.10.9"
  }
 },
 "nbformat": 4,
 "nbformat_minor": 5
}
